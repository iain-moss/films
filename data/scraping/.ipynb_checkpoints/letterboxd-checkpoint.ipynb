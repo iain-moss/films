{
 "cells": [
  {
   "cell_type": "code",
   "execution_count": 18,
   "metadata": {},
   "outputs": [],
   "source": [
    "import pandas as pd\n",
    "from datetime import datetime\n",
    "import numpy as np\n",
    "# import scrapy\n",
    "# from scrapy.crawler import CrawlerProcess"
   ]
  },
  {
   "cell_type": "code",
   "execution_count": 19,
   "metadata": {},
   "outputs": [],
   "source": [
    "# class CareerhubSpider(scrapy.Spider):\n",
    "#     name = 'letterboxd'\n",
    "#     allowed_domains = ['letterboxd.com']\n",
    "#     start_urls = ['https://letterboxd.com/iainm/films/diary/']\n",
    "\n",
    "#     def parse(self, response):\n",
    "#         links = response.css('#diary-table > tbody > tr > td.td-film-details > h3 > a::attr(href)').extract()\n",
    "#         ratings = response.css('#diary-table > tbody > tr > td.td-rating.rating-green > div > span::attr(class)').extract()\n",
    "#         rating_dates = response.css('#diary-table > tbody > tr > td.td-day.diary-day.center > a::attr(href)').extract()\n",
    "\n",
    "#         for link, rating, rating_date in zip(links, ratings, rating_dates):\n",
    "#             link = response.urljoin(link)\n",
    "#             yield scrapy.Request(url=link, callback=self.parse_review, meta={'rating': rating, 'date_rated': rating_date})\n",
    "\n",
    "#         next_page = response.css(\n",
    "#             'a.next::attr(href)').extract_first()\n",
    "#         if next_page:\n",
    "#             next_page = response.urljoin(next_page)\n",
    "#             yield scrapy.Request(next_page, callback=self.parse)\n",
    "\n",
    "#     def parse_review(self, response):\n",
    "#         title_links = response.css('#content > div > div > section > section > section > h2 > span.film-title-wrapper > a::attr(href)').extract()\n",
    "        \n",
    "#         for title_link in title_links:\n",
    "#             title_link = response.urljoin(title_link)\n",
    "#             yield scrapy.Request(url=title_link, callback=self.parse_details, meta={'rating': response.meta['rating'], 'date_rated': response.meta['date_rated']})\n",
    "\n",
    "#     def parse_details(self, response):\n",
    "#         yield {\n",
    "#             'title': response.css('#featured-film-header > h1::text').extract_first(),\n",
    "#             'year': response.css('#featured-film-header > p > small > a::text').extract_first(),\n",
    "#             'rating': response.meta['rating'],\n",
    "#             'date_rated': response.meta['date_rated'],\n",
    "#             'duration': response.css('#film-page-wrapper > div.col-17 > section.section.col-10.col-main > p::text').extract_first().strip(),\n",
    "#             'director': response.xpath('//a[contains(@class, \"text-slug\") and contains(@href, \"director\")]/text()').extract(),\n",
    "#             'country': response.xpath('//a[contains(@class, \"text-slug\") and contains(@href, \"films/country\")]/text()').extract(),\n",
    "#             'genre': response.xpath('//a[contains(@class, \"text-slug\") and contains(@href, \"/films/genre\")]/text()').extract(),\n",
    "#             'actors': response.css('#tab-cast > div > p > a::text').extract(),\n",
    "#             'image': response.css('#js-poster-col img::attr(src)').extract_first(),\n",
    "#             'backdrop': response.css(\"#backdrop::attr(data-backdrop)\").extract_first(),\n",
    "#             'summary': response.css('div.truncate > p::text').extract_first()\n",
    "#         }"
   ]
  },
  {
   "cell_type": "code",
   "execution_count": 20,
   "metadata": {},
   "outputs": [
    {
     "data": {
      "text/html": [
       "<div>\n",
       "<style scoped>\n",
       "    .dataframe tbody tr th:only-of-type {\n",
       "        vertical-align: middle;\n",
       "    }\n",
       "\n",
       "    .dataframe tbody tr th {\n",
       "        vertical-align: top;\n",
       "    }\n",
       "\n",
       "    .dataframe thead th {\n",
       "        text-align: right;\n",
       "    }\n",
       "</style>\n",
       "<table border=\"1\" class=\"dataframe\">\n",
       "  <thead>\n",
       "    <tr style=\"text-align: right;\">\n",
       "      <th></th>\n",
       "      <th>title</th>\n",
       "      <th>year</th>\n",
       "      <th>rating</th>\n",
       "      <th>date_rated</th>\n",
       "      <th>duration</th>\n",
       "      <th>director</th>\n",
       "      <th>country</th>\n",
       "      <th>genre</th>\n",
       "      <th>actors</th>\n",
       "      <th>image</th>\n",
       "      <th>backdrop</th>\n",
       "      <th>summary</th>\n",
       "    </tr>\n",
       "  </thead>\n",
       "  <tbody>\n",
       "    <tr>\n",
       "      <th>0</th>\n",
       "      <td>Tabu</td>\n",
       "      <td>2012</td>\n",
       "      <td>rating rated-7</td>\n",
       "      <td>/iainm/films/diary/for/2020/04/16/</td>\n",
       "      <td>120 mins  \\n\\t\\t\\t\\t\\n\\t\\t\\t\\t\\tMore details at</td>\n",
       "      <td>Miguel Gomes</td>\n",
       "      <td>Brazil,France,Germany,Portugal</td>\n",
       "      <td>drama,romance</td>\n",
       "      <td>Teresa Madruga,Laura Soveral,Ana Moreira,Henri...</td>\n",
       "      <td>https://a.ltrbxd.com/resized/sm/upload/9e/la/3...</td>\n",
       "      <td>https://a.ltrbxd.com/resized/sm/upload/kt/k5/e...</td>\n",
       "      <td>Lisbon, Portugal, 2010. Pilar, a pious woman d...</td>\n",
       "    </tr>\n",
       "    <tr>\n",
       "      <th>1</th>\n",
       "      <td>Faces Places</td>\n",
       "      <td>2017</td>\n",
       "      <td>rating rated-7</td>\n",
       "      <td>/iainm/films/diary/for/2020/05/26/</td>\n",
       "      <td>89 mins  \\n\\t\\t\\t\\t\\n\\t\\t\\t\\t\\tMore details at</td>\n",
       "      <td>Agnès Varda,JR</td>\n",
       "      <td>France</td>\n",
       "      <td>documentary</td>\n",
       "      <td>Agnès Varda,JR</td>\n",
       "      <td>https://a.ltrbxd.com/resized/film-poster/3/8/4...</td>\n",
       "      <td>https://a.ltrbxd.com/resized/sm/upload/ps/37/l...</td>\n",
       "      <td>Director Agnès Varda and photographer/muralist...</td>\n",
       "    </tr>\n",
       "    <tr>\n",
       "      <th>2</th>\n",
       "      <td>Husbands and Wives</td>\n",
       "      <td>1992</td>\n",
       "      <td>rating rated-8</td>\n",
       "      <td>/iainm/films/diary/for/2020/04/14/</td>\n",
       "      <td>108 mins  \\n\\t\\t\\t\\t\\n\\t\\t\\t\\t\\tMore details at</td>\n",
       "      <td>Woody Allen</td>\n",
       "      <td>USA</td>\n",
       "      <td>comedy,drama,romance</td>\n",
       "      <td>Woody Allen,Mia Farrow,Judy Davis,Sydney Polla...</td>\n",
       "      <td>https://a.ltrbxd.com/resized/film-poster/3/3/7...</td>\n",
       "      <td>https://a.ltrbxd.com/resized/sm/upload/hq/n3/j...</td>\n",
       "      <td>When Jack and Sally announce that they're spli...</td>\n",
       "    </tr>\n",
       "    <tr>\n",
       "      <th>3</th>\n",
       "      <td>Le Corbeau</td>\n",
       "      <td>1943</td>\n",
       "      <td>rating rated-7</td>\n",
       "      <td>/iainm/films/diary/for/2020/04/16/</td>\n",
       "      <td>92 mins  \\n\\t\\t\\t\\t\\n\\t\\t\\t\\t\\tMore details at</td>\n",
       "      <td>Henri-Georges Clouzot</td>\n",
       "      <td>France</td>\n",
       "      <td>thriller,crime,drama,mystery</td>\n",
       "      <td>Pierre Fresnay,Ginette Leclerc,Micheline Franc...</td>\n",
       "      <td>https://a.ltrbxd.com/resized/sm/upload/60/eq/n...</td>\n",
       "      <td>https://a.ltrbxd.com/resized/sm/upload/ur/ym/k...</td>\n",
       "      <td>Remy Germain is a doctor in a French town who ...</td>\n",
       "    </tr>\n",
       "    <tr>\n",
       "      <th>4</th>\n",
       "      <td>The New World</td>\n",
       "      <td>2005</td>\n",
       "      <td>rating rated-9</td>\n",
       "      <td>/iainm/films/diary/for/2020/04/15/</td>\n",
       "      <td>135 mins  \\n\\t\\t\\t\\t\\n\\t\\t\\t\\t\\tMore details at</td>\n",
       "      <td>Terrence Malick</td>\n",
       "      <td>USA</td>\n",
       "      <td>drama,history,romance</td>\n",
       "      <td>Colin Farrell,Q'orianka Kilcher,Christopher Pl...</td>\n",
       "      <td>https://a.ltrbxd.com/resized/film-poster/4/5/3...</td>\n",
       "      <td>https://a.ltrbxd.com/resized/sm/upload/f1/u1/7...</td>\n",
       "      <td>A drama about explorer John Smith and the clas...</td>\n",
       "    </tr>\n",
       "  </tbody>\n",
       "</table>\n",
       "</div>"
      ],
      "text/plain": [
       "                title  year          rating  \\\n",
       "0                Tabu  2012  rating rated-7   \n",
       "1        Faces Places  2017  rating rated-7   \n",
       "2  Husbands and Wives  1992  rating rated-8   \n",
       "3          Le Corbeau  1943  rating rated-7   \n",
       "4       The New World  2005  rating rated-9   \n",
       "\n",
       "                           date_rated  \\\n",
       "0  /iainm/films/diary/for/2020/04/16/   \n",
       "1  /iainm/films/diary/for/2020/05/26/   \n",
       "2  /iainm/films/diary/for/2020/04/14/   \n",
       "3  /iainm/films/diary/for/2020/04/16/   \n",
       "4  /iainm/films/diary/for/2020/04/15/   \n",
       "\n",
       "                                          duration               director  \\\n",
       "0  120 mins  \\n\\t\\t\\t\\t\\n\\t\\t\\t\\t\\tMore details at           Miguel Gomes   \n",
       "1   89 mins  \\n\\t\\t\\t\\t\\n\\t\\t\\t\\t\\tMore details at         Agnès Varda,JR   \n",
       "2  108 mins  \\n\\t\\t\\t\\t\\n\\t\\t\\t\\t\\tMore details at            Woody Allen   \n",
       "3   92 mins  \\n\\t\\t\\t\\t\\n\\t\\t\\t\\t\\tMore details at  Henri-Georges Clouzot   \n",
       "4  135 mins  \\n\\t\\t\\t\\t\\n\\t\\t\\t\\t\\tMore details at        Terrence Malick   \n",
       "\n",
       "                          country                         genre  \\\n",
       "0  Brazil,France,Germany,Portugal                 drama,romance   \n",
       "1                          France                   documentary   \n",
       "2                             USA          comedy,drama,romance   \n",
       "3                          France  thriller,crime,drama,mystery   \n",
       "4                             USA         drama,history,romance   \n",
       "\n",
       "                                              actors  \\\n",
       "0  Teresa Madruga,Laura Soveral,Ana Moreira,Henri...   \n",
       "1                                     Agnès Varda,JR   \n",
       "2  Woody Allen,Mia Farrow,Judy Davis,Sydney Polla...   \n",
       "3  Pierre Fresnay,Ginette Leclerc,Micheline Franc...   \n",
       "4  Colin Farrell,Q'orianka Kilcher,Christopher Pl...   \n",
       "\n",
       "                                               image  \\\n",
       "0  https://a.ltrbxd.com/resized/sm/upload/9e/la/3...   \n",
       "1  https://a.ltrbxd.com/resized/film-poster/3/8/4...   \n",
       "2  https://a.ltrbxd.com/resized/film-poster/3/3/7...   \n",
       "3  https://a.ltrbxd.com/resized/sm/upload/60/eq/n...   \n",
       "4  https://a.ltrbxd.com/resized/film-poster/4/5/3...   \n",
       "\n",
       "                                            backdrop  \\\n",
       "0  https://a.ltrbxd.com/resized/sm/upload/kt/k5/e...   \n",
       "1  https://a.ltrbxd.com/resized/sm/upload/ps/37/l...   \n",
       "2  https://a.ltrbxd.com/resized/sm/upload/hq/n3/j...   \n",
       "3  https://a.ltrbxd.com/resized/sm/upload/ur/ym/k...   \n",
       "4  https://a.ltrbxd.com/resized/sm/upload/f1/u1/7...   \n",
       "\n",
       "                                             summary  \n",
       "0  Lisbon, Portugal, 2010. Pilar, a pious woman d...  \n",
       "1  Director Agnès Varda and photographer/muralist...  \n",
       "2  When Jack and Sally announce that they're spli...  \n",
       "3  Remy Germain is a doctor in a French town who ...  \n",
       "4  A drama about explorer John Smith and the clas...  "
      ]
     },
     "execution_count": 20,
     "metadata": {},
     "output_type": "execute_result"
    }
   ],
   "source": [
    "df = pd.read_csv(\"letterboxd.csv\")\n",
    "df.head()"
   ]
  },
  {
   "cell_type": "code",
   "execution_count": 21,
   "metadata": {},
   "outputs": [],
   "source": [
    "df[\"rating\"] = df[\"rating\"].str.split(\"-\", expand=True)[1]"
   ]
  },
  {
   "cell_type": "code",
   "execution_count": 22,
   "metadata": {},
   "outputs": [],
   "source": [
    "df[\"date_rated\"] = df[\"date_rated\"].str[-11:].str[0:10]"
   ]
  },
  {
   "cell_type": "code",
   "execution_count": 23,
   "metadata": {},
   "outputs": [],
   "source": [
    "df[\"duration\"] = df[\"duration\"].str.split(expand=True)[0]"
   ]
  },
  {
   "cell_type": "code",
   "execution_count": 24,
   "metadata": {},
   "outputs": [],
   "source": [
    "df[\"genre\"] = df[\"genre\"].str.title()"
   ]
  },
  {
   "cell_type": "code",
   "execution_count": 25,
   "metadata": {},
   "outputs": [],
   "source": [
    "df[\"genre\"] = df[\"genre\"].str.replace(\",\", \", \")"
   ]
  },
  {
   "cell_type": "code",
   "execution_count": 26,
   "metadata": {},
   "outputs": [],
   "source": [
    "df[\"director\"] = df[\"director\"].str.replace(\",\", \", \")"
   ]
  },
  {
   "cell_type": "code",
   "execution_count": 27,
   "metadata": {},
   "outputs": [],
   "source": [
    "df['date_rated'] = pd.to_datetime(df.date_rated, format='%Y/%m/%d')"
   ]
  },
  {
   "cell_type": "code",
   "execution_count": 28,
   "metadata": {},
   "outputs": [],
   "source": [
    "df[\"decade\"] = df[\"year\"].astype(str).str[:3] + \"0s\""
   ]
  },
  {
   "cell_type": "code",
   "execution_count": 29,
   "metadata": {},
   "outputs": [],
   "source": [
    "df[[\"rating\", \"duration\"]] = df[[\"rating\", \"duration\"]].astype(int)"
   ]
  },
  {
   "cell_type": "code",
   "execution_count": 30,
   "metadata": {},
   "outputs": [],
   "source": [
    "#df = df[df[\"director\"].notnull()]\n",
    "df[\"director\"] = df[\"director\"].fillna(\"Director not specified\")"
   ]
  },
  {
   "cell_type": "code",
   "execution_count": 31,
   "metadata": {},
   "outputs": [],
   "source": [
    "df[\"actors\"] = df[\"actors\"].fillna(\"Cast not specified\")"
   ]
  },
  {
   "cell_type": "code",
   "execution_count": 32,
   "metadata": {},
   "outputs": [],
   "source": [
    "df[\"genre\"] = df[\"genre\"].fillna(\"Genre not specified\")"
   ]
  },
  {
   "cell_type": "code",
   "execution_count": 33,
   "metadata": {},
   "outputs": [],
   "source": [
    "df.set_index(\"title\", inplace=True)"
   ]
  },
  {
   "cell_type": "code",
   "execution_count": 34,
   "metadata": {},
   "outputs": [],
   "source": [
    "df.loc[[\"Teddy Bomb\"], [\"country\"]] = \"Canada\"\n",
    "df.loc[[\"Daisies\", \"Loves of a Blonde\", \"The Shop on Main Street\"], [\"country\"]] = \"Czechia\"\n",
    "df.loc[[\"Three Businessmen\"], [\"country\"]] = \"USA,Japan,Netherlands,UK\"\n",
    "df.loc[[\"That Evening Sun\"], [\"country\"]] = \"USA\"\n",
    "df.loc[[\"All Tomorrow's Parties\"], [\"country\"]] = \"UK\""
   ]
  },
  {
   "cell_type": "code",
   "execution_count": 35,
   "metadata": {},
   "outputs": [],
   "source": [
    "df.to_csv(\"../all_letterboxd.csv\")"
   ]
  },
  {
   "cell_type": "markdown",
   "metadata": {},
   "source": [
    "# Directors"
   ]
  },
  {
   "cell_type": "code",
   "execution_count": 17,
   "metadata": {},
   "outputs": [],
   "source": [
    "directors = df[\"director\"].str.split(\",\", expand=True)"
   ]
  },
  {
   "cell_type": "code",
   "execution_count": 18,
   "metadata": {},
   "outputs": [],
   "source": [
    "directors = directors.unstack().reset_index(name=\"director\")"
   ]
  },
  {
   "cell_type": "code",
   "execution_count": 19,
   "metadata": {},
   "outputs": [],
   "source": [
    "directors.drop(columns=[\"level_0\", \"level_1\"], inplace=True)"
   ]
  },
  {
   "cell_type": "code",
   "execution_count": 20,
   "metadata": {},
   "outputs": [],
   "source": [
    "directors[\"director\"] = directors[\"director\"].str.strip()"
   ]
  },
  {
   "cell_type": "code",
   "execution_count": 21,
   "metadata": {},
   "outputs": [],
   "source": [
    "directors.dropna(inplace=True)"
   ]
  },
  {
   "cell_type": "code",
   "execution_count": 22,
   "metadata": {},
   "outputs": [],
   "source": [
    "directors[\"count\"] = 1"
   ]
  },
  {
   "cell_type": "code",
   "execution_count": 23,
   "metadata": {},
   "outputs": [],
   "source": [
    "directors = pd.DataFrame(directors.groupby(\"director\")[\"count\"].sum())"
   ]
  },
  {
   "cell_type": "code",
   "execution_count": 24,
   "metadata": {},
   "outputs": [],
   "source": [
    "directors.sort_values(by=\"count\", ascending=False, inplace=True)"
   ]
  },
  {
   "cell_type": "code",
   "execution_count": 25,
   "metadata": {},
   "outputs": [],
   "source": [
    "directors = directors[:20]"
   ]
  },
  {
   "cell_type": "code",
   "execution_count": 26,
   "metadata": {},
   "outputs": [],
   "source": [
    "directors.to_csv(\"../directors.csv\")"
   ]
  },
  {
   "cell_type": "code",
   "execution_count": 27,
   "metadata": {},
   "outputs": [],
   "source": [
    "dir_bar = df.iloc[:,[0, 2, 5]]"
   ]
  },
  {
   "cell_type": "code",
   "execution_count": 28,
   "metadata": {},
   "outputs": [],
   "source": [
    "dir_bar = dir_bar.assign(director=dir_bar[\"director\"].str.split(\",\")).explode(\"director\")"
   ]
  },
  {
   "cell_type": "code",
   "execution_count": 29,
   "metadata": {},
   "outputs": [],
   "source": [
    "dir_bar[\"director\"] = dir_bar[\"director\"].str.strip()"
   ]
  },
  {
   "cell_type": "code",
   "execution_count": 30,
   "metadata": {},
   "outputs": [],
   "source": [
    "pivot = pd.pivot_table(dir_bar, index=[\"director\"], columns=[\"title\"], margins=True, aggfunc=[np.mean, len])"
   ]
  },
  {
   "cell_type": "code",
   "execution_count": 31,
   "metadata": {},
   "outputs": [],
   "source": [
    "pivot = pivot.stack(\"title\")"
   ]
  },
  {
   "cell_type": "code",
   "execution_count": 32,
   "metadata": {},
   "outputs": [],
   "source": [
    "pivot = pivot.reset_index()"
   ]
  },
  {
   "cell_type": "code",
   "execution_count": 33,
   "metadata": {},
   "outputs": [],
   "source": [
    "pivot = pivot.loc[pivot.director != \"All\"]"
   ]
  },
  {
   "cell_type": "code",
   "execution_count": 34,
   "metadata": {},
   "outputs": [],
   "source": [
    "pivot.columns = pivot.columns.droplevel(1)"
   ]
  },
  {
   "cell_type": "code",
   "execution_count": 35,
   "metadata": {},
   "outputs": [
    {
     "data": {
      "text/html": [
       "<div>\n",
       "<style scoped>\n",
       "    .dataframe tbody tr th:only-of-type {\n",
       "        vertical-align: middle;\n",
       "    }\n",
       "\n",
       "    .dataframe tbody tr th {\n",
       "        vertical-align: top;\n",
       "    }\n",
       "\n",
       "    .dataframe thead th {\n",
       "        text-align: right;\n",
       "    }\n",
       "</style>\n",
       "<table border=\"1\" class=\"dataframe\">\n",
       "  <thead>\n",
       "    <tr style=\"text-align: right;\">\n",
       "      <th></th>\n",
       "      <th>director</th>\n",
       "      <th>title</th>\n",
       "      <th>len</th>\n",
       "      <th>mean</th>\n",
       "    </tr>\n",
       "  </thead>\n",
       "  <tbody>\n",
       "    <tr>\n",
       "      <th>0</th>\n",
       "      <td>Abbas Kiarostami</td>\n",
       "      <td>All</td>\n",
       "      <td>4.0</td>\n",
       "      <td>8.0</td>\n",
       "    </tr>\n",
       "    <tr>\n",
       "      <th>1</th>\n",
       "      <td>Abbas Kiarostami</td>\n",
       "      <td>Certified Copy</td>\n",
       "      <td>1.0</td>\n",
       "      <td>8.0</td>\n",
       "    </tr>\n",
       "    <tr>\n",
       "      <th>2</th>\n",
       "      <td>Abbas Kiarostami</td>\n",
       "      <td>Close-Up</td>\n",
       "      <td>1.0</td>\n",
       "      <td>9.0</td>\n",
       "    </tr>\n",
       "    <tr>\n",
       "      <th>3</th>\n",
       "      <td>Abbas Kiarostami</td>\n",
       "      <td>Taste of Cherry</td>\n",
       "      <td>1.0</td>\n",
       "      <td>7.0</td>\n",
       "    </tr>\n",
       "    <tr>\n",
       "      <th>4</th>\n",
       "      <td>Abbas Kiarostami</td>\n",
       "      <td>The Wind Will Carry Us</td>\n",
       "      <td>1.0</td>\n",
       "      <td>8.0</td>\n",
       "    </tr>\n",
       "    <tr>\n",
       "      <th>...</th>\n",
       "      <td>...</td>\n",
       "      <td>...</td>\n",
       "      <td>...</td>\n",
       "      <td>...</td>\n",
       "    </tr>\n",
       "    <tr>\n",
       "      <th>1743</th>\n",
       "      <td>Ágnes Hranitzky</td>\n",
       "      <td>Werckmeister Harmonies</td>\n",
       "      <td>1.0</td>\n",
       "      <td>7.0</td>\n",
       "    </tr>\n",
       "    <tr>\n",
       "      <th>1744</th>\n",
       "      <td>Éric Rohmer</td>\n",
       "      <td>All</td>\n",
       "      <td>3.0</td>\n",
       "      <td>8.0</td>\n",
       "    </tr>\n",
       "    <tr>\n",
       "      <th>1745</th>\n",
       "      <td>Éric Rohmer</td>\n",
       "      <td>My Night at Maud's</td>\n",
       "      <td>1.0</td>\n",
       "      <td>8.0</td>\n",
       "    </tr>\n",
       "    <tr>\n",
       "      <th>1746</th>\n",
       "      <td>Éric Rohmer</td>\n",
       "      <td>Pauline at the Beach</td>\n",
       "      <td>1.0</td>\n",
       "      <td>8.0</td>\n",
       "    </tr>\n",
       "    <tr>\n",
       "      <th>1747</th>\n",
       "      <td>Éric Rohmer</td>\n",
       "      <td>The Green Ray</td>\n",
       "      <td>1.0</td>\n",
       "      <td>8.0</td>\n",
       "    </tr>\n",
       "  </tbody>\n",
       "</table>\n",
       "<p>1748 rows × 4 columns</p>\n",
       "</div>"
      ],
      "text/plain": [
       "              director                   title  len  mean\n",
       "0     Abbas Kiarostami                     All  4.0   8.0\n",
       "1     Abbas Kiarostami          Certified Copy  1.0   8.0\n",
       "2     Abbas Kiarostami                Close-Up  1.0   9.0\n",
       "3     Abbas Kiarostami         Taste of Cherry  1.0   7.0\n",
       "4     Abbas Kiarostami  The Wind Will Carry Us  1.0   8.0\n",
       "...                ...                     ...  ...   ...\n",
       "1743   Ágnes Hranitzky  Werckmeister Harmonies  1.0   7.0\n",
       "1744       Éric Rohmer                     All  3.0   8.0\n",
       "1745       Éric Rohmer      My Night at Maud's  1.0   8.0\n",
       "1746       Éric Rohmer    Pauline at the Beach  1.0   8.0\n",
       "1747       Éric Rohmer           The Green Ray  1.0   8.0\n",
       "\n",
       "[1748 rows x 4 columns]"
      ]
     },
     "execution_count": 35,
     "metadata": {},
     "output_type": "execute_result"
    }
   ],
   "source": [
    "pivot"
   ]
  },
  {
   "cell_type": "code",
   "execution_count": 36,
   "metadata": {},
   "outputs": [],
   "source": [
    "pivot.to_csv(\"../test.csv\", index=False)"
   ]
  },
  {
   "cell_type": "code",
   "execution_count": 37,
   "metadata": {},
   "outputs": [],
   "source": [
    "dir_bar.to_csv(\"../dir_bar.csv\", index=False)"
   ]
  },
  {
   "cell_type": "markdown",
   "metadata": {},
   "source": [
    "# Decade"
   ]
  },
  {
   "cell_type": "code",
   "execution_count": 38,
   "metadata": {},
   "outputs": [
    {
     "data": {
      "text/html": [
       "<div>\n",
       "<style scoped>\n",
       "    .dataframe tbody tr th:only-of-type {\n",
       "        vertical-align: middle;\n",
       "    }\n",
       "\n",
       "    .dataframe tbody tr th {\n",
       "        vertical-align: top;\n",
       "    }\n",
       "\n",
       "    .dataframe thead th {\n",
       "        text-align: right;\n",
       "    }\n",
       "</style>\n",
       "<table border=\"1\" class=\"dataframe\">\n",
       "  <thead>\n",
       "    <tr style=\"text-align: right;\">\n",
       "      <th></th>\n",
       "      <th>count</th>\n",
       "      <th>avg_rating</th>\n",
       "    </tr>\n",
       "    <tr>\n",
       "      <th>decade</th>\n",
       "      <th></th>\n",
       "      <th></th>\n",
       "    </tr>\n",
       "  </thead>\n",
       "  <tbody>\n",
       "    <tr>\n",
       "      <th>1910s</th>\n",
       "      <td>4</td>\n",
       "      <td>7.250000</td>\n",
       "    </tr>\n",
       "    <tr>\n",
       "      <th>1920s</th>\n",
       "      <td>23</td>\n",
       "      <td>7.565217</td>\n",
       "    </tr>\n",
       "    <tr>\n",
       "      <th>1930s</th>\n",
       "      <td>23</td>\n",
       "      <td>7.391304</td>\n",
       "    </tr>\n",
       "    <tr>\n",
       "      <th>1940s</th>\n",
       "      <td>43</td>\n",
       "      <td>7.488372</td>\n",
       "    </tr>\n",
       "    <tr>\n",
       "      <th>1950s</th>\n",
       "      <td>85</td>\n",
       "      <td>7.717647</td>\n",
       "    </tr>\n",
       "    <tr>\n",
       "      <th>1960s</th>\n",
       "      <td>128</td>\n",
       "      <td>7.617188</td>\n",
       "    </tr>\n",
       "    <tr>\n",
       "      <th>1970s</th>\n",
       "      <td>157</td>\n",
       "      <td>7.585987</td>\n",
       "    </tr>\n",
       "    <tr>\n",
       "      <th>1980s</th>\n",
       "      <td>137</td>\n",
       "      <td>7.350365</td>\n",
       "    </tr>\n",
       "    <tr>\n",
       "      <th>1990s</th>\n",
       "      <td>126</td>\n",
       "      <td>7.428571</td>\n",
       "    </tr>\n",
       "    <tr>\n",
       "      <th>2000s</th>\n",
       "      <td>134</td>\n",
       "      <td>7.231343</td>\n",
       "    </tr>\n",
       "    <tr>\n",
       "      <th>2010s</th>\n",
       "      <td>264</td>\n",
       "      <td>6.988636</td>\n",
       "    </tr>\n",
       "  </tbody>\n",
       "</table>\n",
       "</div>"
      ],
      "text/plain": [
       "        count  avg_rating\n",
       "decade                   \n",
       "1910s       4    7.250000\n",
       "1920s      23    7.565217\n",
       "1930s      23    7.391304\n",
       "1940s      43    7.488372\n",
       "1950s      85    7.717647\n",
       "1960s     128    7.617188\n",
       "1970s     157    7.585987\n",
       "1980s     137    7.350365\n",
       "1990s     126    7.428571\n",
       "2000s     134    7.231343\n",
       "2010s     264    6.988636"
      ]
     },
     "execution_count": 38,
     "metadata": {},
     "output_type": "execute_result"
    }
   ],
   "source": [
    "decade = df.groupby(\"decade\").agg({\"title\": \"size\", \"rating\": \"mean\"}).rename(columns={\"title\": \"count\", \"rating\": \"avg_rating\"})\n",
    "decade"
   ]
  },
  {
   "cell_type": "code",
   "execution_count": 39,
   "metadata": {},
   "outputs": [],
   "source": [
    "decade.to_csv(\"../decade_breakdown.csv\")"
   ]
  },
  {
   "cell_type": "markdown",
   "metadata": {},
   "source": [
    "# Release Year"
   ]
  },
  {
   "cell_type": "code",
   "execution_count": 40,
   "metadata": {},
   "outputs": [],
   "source": [
    "release_year = df.iloc[:, [0, 1]]"
   ]
  },
  {
   "cell_type": "code",
   "execution_count": 41,
   "metadata": {},
   "outputs": [],
   "source": [
    "min_year = release_year[\"year\"].min()"
   ]
  },
  {
   "cell_type": "code",
   "execution_count": 42,
   "metadata": {},
   "outputs": [],
   "source": [
    "max_year = release_year[\"year\"].max()"
   ]
  },
  {
   "cell_type": "code",
   "execution_count": 43,
   "metadata": {},
   "outputs": [],
   "source": [
    "year_range = np.arange(min_year, max_year + 1)"
   ]
  },
  {
   "cell_type": "code",
   "execution_count": 44,
   "metadata": {},
   "outputs": [],
   "source": [
    "release_year_group = release_year.groupby([\"year\"]).count()"
   ]
  },
  {
   "cell_type": "code",
   "execution_count": 45,
   "metadata": {},
   "outputs": [],
   "source": [
    "release_year_group = release_year_group.reindex(year_range).fillna(0)"
   ]
  },
  {
   "cell_type": "code",
   "execution_count": 46,
   "metadata": {},
   "outputs": [],
   "source": [
    "release_year_group.to_csv(\"../release_year.csv\")"
   ]
  },
  {
   "cell_type": "markdown",
   "metadata": {},
   "source": [
    "# Watch date"
   ]
  },
  {
   "cell_type": "code",
   "execution_count": 47,
   "metadata": {},
   "outputs": [],
   "source": [
    "w_date = df.set_index(\"date_rated\")"
   ]
  },
  {
   "cell_type": "code",
   "execution_count": 48,
   "metadata": {},
   "outputs": [],
   "source": [
    "w_date = w_date.groupby(\"date_rated\").count()"
   ]
  },
  {
   "cell_type": "code",
   "execution_count": 49,
   "metadata": {},
   "outputs": [],
   "source": [
    "w_date = pd.DataFrame(w_date.iloc[:, 1])"
   ]
  },
  {
   "cell_type": "code",
   "execution_count": 50,
   "metadata": {},
   "outputs": [],
   "source": [
    "first_w_date = pd.Timestamp(\"2015-04-25\")\n",
    "last_w_date = w_date.index.max()"
   ]
  },
  {
   "cell_type": "code",
   "execution_count": 51,
   "metadata": {},
   "outputs": [],
   "source": [
    "w_date_range = pd.date_range(start=first_w_date, end=last_w_date)"
   ]
  },
  {
   "cell_type": "code",
   "execution_count": 52,
   "metadata": {},
   "outputs": [],
   "source": [
    "w_date = w_date.reindex(w_date_range).fillna(0)"
   ]
  },
  {
   "cell_type": "code",
   "execution_count": 53,
   "metadata": {},
   "outputs": [],
   "source": [
    "monthly = w_date.groupby(pd.Grouper(freq=\"MS\")).sum()"
   ]
  },
  {
   "cell_type": "code",
   "execution_count": 54,
   "metadata": {},
   "outputs": [],
   "source": [
    "monthly.rename(columns={\"year\": \"count\"}, inplace=True)"
   ]
  },
  {
   "cell_type": "code",
   "execution_count": 55,
   "metadata": {},
   "outputs": [],
   "source": [
    "monthly.to_csv(\"../watch_date.csv\", index_label=\"date\")"
   ]
  },
  {
   "cell_type": "markdown",
   "metadata": {},
   "source": [
    "# Genres"
   ]
  },
  {
   "cell_type": "code",
   "execution_count": 56,
   "metadata": {},
   "outputs": [],
   "source": [
    "genres = df.iloc[:, [0, 7]]"
   ]
  },
  {
   "cell_type": "code",
   "execution_count": 57,
   "metadata": {},
   "outputs": [],
   "source": [
    "genres = genres.assign(genre=genres[\"genre\"].str.split(\", \")).explode(\"genre\")"
   ]
  },
  {
   "cell_type": "code",
   "execution_count": 58,
   "metadata": {},
   "outputs": [],
   "source": [
    "genres.drop(columns=\"title\", inplace=True)"
   ]
  },
  {
   "cell_type": "code",
   "execution_count": 59,
   "metadata": {},
   "outputs": [],
   "source": [
    "genres = genres.drop_duplicates().dropna()"
   ]
  },
  {
   "cell_type": "code",
   "execution_count": 60,
   "metadata": {},
   "outputs": [],
   "source": [
    "genres = genres[genres[\"genre\"] != \"Tv Movie\"]"
   ]
  },
  {
   "cell_type": "code",
   "execution_count": 61,
   "metadata": {},
   "outputs": [],
   "source": [
    "genres = genres[genres[\"genre\"] != \"Genre not specified\"]"
   ]
  },
  {
   "cell_type": "code",
   "execution_count": 62,
   "metadata": {},
   "outputs": [],
   "source": [
    "genres = genres.sort_values(\"genre\")"
   ]
  },
  {
   "cell_type": "code",
   "execution_count": 63,
   "metadata": {},
   "outputs": [],
   "source": [
    "genres.to_csv(\"../genre_list.csv\", index=False)"
   ]
  },
  {
   "cell_type": "markdown",
   "metadata": {},
   "source": [
    "# Countries"
   ]
  },
  {
   "cell_type": "code",
   "execution_count": 64,
   "metadata": {},
   "outputs": [],
   "source": [
    "countries = df.iloc[:, [0, 6]]"
   ]
  },
  {
   "cell_type": "code",
   "execution_count": 65,
   "metadata": {},
   "outputs": [],
   "source": [
    "countries = countries.assign(country=countries[\"country\"].str.split(\",\")).explode(\"country\")"
   ]
  },
  {
   "cell_type": "code",
   "execution_count": 66,
   "metadata": {},
   "outputs": [],
   "source": [
    "countries.drop(columns=\"title\", inplace=True)"
   ]
  },
  {
   "cell_type": "code",
   "execution_count": 67,
   "metadata": {},
   "outputs": [],
   "source": [
    "countries = countries.drop_duplicates().dropna()"
   ]
  },
  {
   "cell_type": "code",
   "execution_count": 68,
   "metadata": {},
   "outputs": [],
   "source": [
    "countries.sort_values(by=\"country\", inplace=True)"
   ]
  },
  {
   "cell_type": "code",
   "execution_count": 69,
   "metadata": {},
   "outputs": [],
   "source": [
    "countries.to_csv(\"../countries.csv\", index=False)"
   ]
  },
  {
   "cell_type": "code",
   "execution_count": null,
   "metadata": {},
   "outputs": [],
   "source": []
  }
 ],
 "metadata": {
  "kernelspec": {
   "display_name": "Python 3",
   "language": "python",
   "name": "python3"
  },
  "language_info": {
   "codemirror_mode": {
    "name": "ipython",
    "version": 3
   },
   "file_extension": ".py",
   "mimetype": "text/x-python",
   "name": "python",
   "nbconvert_exporter": "python",
   "pygments_lexer": "ipython3",
   "version": "3.7.5"
  }
 },
 "nbformat": 4,
 "nbformat_minor": 2
}
