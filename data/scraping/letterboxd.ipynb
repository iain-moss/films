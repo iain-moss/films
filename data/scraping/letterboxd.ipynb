{
 "cells": [
  {
   "cell_type": "code",
   "execution_count": 1,
   "metadata": {},
   "outputs": [],
   "source": [
    "import pandas as pd\n",
    "from datetime import datetime\n",
    "import numpy as np\n",
    "# import scrapy\n",
    "# from scrapy.crawler import CrawlerProcess"
   ]
  },
  {
   "cell_type": "code",
   "execution_count": 2,
   "metadata": {},
   "outputs": [],
   "source": [
    "# class CareerhubSpider(scrapy.Spider):\n",
    "#     name = 'letterboxd'\n",
    "#     allowed_domains = ['letterboxd.com']\n",
    "#     start_urls = ['https://letterboxd.com/iainm/films/diary/']\n",
    "\n",
    "#     def parse(self, response):\n",
    "#         links = response.css('#diary-table > tbody > tr > td.td-film-details > h3 > a::attr(href)').extract()\n",
    "#         ratings = response.css('#diary-table > tbody > tr > td.td-rating.rating-green > div > span::attr(class)').extract()\n",
    "#         rating_dates = response.css('#diary-table > tbody > tr > td.td-day.diary-day.center > a::attr(href)').extract()\n",
    "\n",
    "#         for link, rating, rating_date in zip(links, ratings, rating_dates):\n",
    "#             link = response.urljoin(link)\n",
    "#             yield scrapy.Request(url=link, callback=self.parse_review, meta={'rating': rating, 'date_rated': rating_date})\n",
    "\n",
    "#         next_page = response.css(\n",
    "#             'a.next::attr(href)').extract_first()\n",
    "#         if next_page:\n",
    "#             next_page = response.urljoin(next_page)\n",
    "#             yield scrapy.Request(next_page, callback=self.parse)\n",
    "\n",
    "#     def parse_review(self, response):\n",
    "#         title_links = response.css('#content > div > div > section > section > section > h2 > span.film-title-wrapper > a::attr(href)').extract()\n",
    "        \n",
    "#         for title_link in title_links:\n",
    "#             title_link = response.urljoin(title_link)\n",
    "#             yield scrapy.Request(url=title_link, callback=self.parse_details, meta={'rating': response.meta['rating'], 'date_rated': response.meta['date_rated']})\n",
    "\n",
    "#     def parse_details(self, response):\n",
    "#         yield {\n",
    "#             'title': response.css('#featured-film-header > h1::text').extract_first(),\n",
    "#             'year': response.css('#featured-film-header > p > small > a::text').extract_first(),\n",
    "#             'rating': response.meta['rating'],\n",
    "#             'date_rated': response.meta['date_rated'],\n",
    "#             'duration': response.css('#film-page-wrapper > div.col-17 > section.section.col-10.col-main > p::text').extract_first().strip(),\n",
    "#             'director': response.xpath('//a[contains(@class, \"text-slug\") and contains(@href, \"director\")]/text()').extract(),\n",
    "#             'country': response.xpath('//a[contains(@class, \"text-slug\") and contains(@href, \"films/country\")]/text()').extract(),\n",
    "#             'genre': response.xpath('//a[contains(@class, \"text-slug\") and contains(@href, \"/films/genre\")]/text()').extract(),\n",
    "#             'actors': response.css('#tab-cast > div > p > a::text').extract(),\n",
    "#             'image': response.css('#js-poster-col img::attr(src)').extract_first(),\n",
    "#             'backdrop': response.css(\"#backdrop::attr(data-backdrop)\").extract_first(),\n",
    "#             'summary': response.css('div.truncate > p::text').extract_first()\n",
    "#         }"
   ]
  },
  {
   "cell_type": "code",
   "execution_count": 3,
   "metadata": {},
   "outputs": [
    {
     "data": {
      "text/html": [
       "<div>\n",
       "<style scoped>\n",
       "    .dataframe tbody tr th:only-of-type {\n",
       "        vertical-align: middle;\n",
       "    }\n",
       "\n",
       "    .dataframe tbody tr th {\n",
       "        vertical-align: top;\n",
       "    }\n",
       "\n",
       "    .dataframe thead th {\n",
       "        text-align: right;\n",
       "    }\n",
       "</style>\n",
       "<table border=\"1\" class=\"dataframe\">\n",
       "  <thead>\n",
       "    <tr style=\"text-align: right;\">\n",
       "      <th></th>\n",
       "      <th>title</th>\n",
       "      <th>year</th>\n",
       "      <th>rating</th>\n",
       "      <th>date_rated</th>\n",
       "      <th>duration</th>\n",
       "      <th>director</th>\n",
       "      <th>country</th>\n",
       "      <th>genre</th>\n",
       "      <th>actors</th>\n",
       "      <th>image</th>\n",
       "      <th>backdrop</th>\n",
       "      <th>summary</th>\n",
       "    </tr>\n",
       "  </thead>\n",
       "  <tbody>\n",
       "    <tr>\n",
       "      <th>0</th>\n",
       "      <td>Cockfighter</td>\n",
       "      <td>1974</td>\n",
       "      <td>rating rated-7</td>\n",
       "      <td>/iainm/films/diary/for/2020/09/20/</td>\n",
       "      <td>83 mins  \\n\\t\\t\\t\\t\\n\\t\\t\\t\\t\\tMore details at</td>\n",
       "      <td>Monte Hellman</td>\n",
       "      <td>USA</td>\n",
       "      <td>drama</td>\n",
       "      <td>Warren Oates,Richard B. Shull,Harry Dean Stant...</td>\n",
       "      <td>https://a.ltrbxd.com/resized/film-poster/3/4/3...</td>\n",
       "      <td>NaN</td>\n",
       "      <td>A man who trains fighting cocks vows to remain...</td>\n",
       "    </tr>\n",
       "    <tr>\n",
       "      <th>1</th>\n",
       "      <td>All About My Mother</td>\n",
       "      <td>1999</td>\n",
       "      <td>rating rated-7</td>\n",
       "      <td>/iainm/films/diary/for/2020/08/22/</td>\n",
       "      <td>101 mins  \\n\\t\\t\\t\\t\\n\\t\\t\\t\\t\\tMore details at</td>\n",
       "      <td>Pedro Almodóvar</td>\n",
       "      <td>Spain,France</td>\n",
       "      <td>comedy,drama</td>\n",
       "      <td>Cecilia Roth,Marisa Paredes,Penélope Cruz,Cand...</td>\n",
       "      <td>https://a.ltrbxd.com/resized/sm/upload/b3/fr/o...</td>\n",
       "      <td>https://a.ltrbxd.com/resized/sm/upload/ds/qm/p...</td>\n",
       "      <td>A single mother in Madrid sees her only son di...</td>\n",
       "    </tr>\n",
       "    <tr>\n",
       "      <th>2</th>\n",
       "      <td>Winchester '73</td>\n",
       "      <td>1950</td>\n",
       "      <td>rating rated-7</td>\n",
       "      <td>/iainm/films/diary/for/2020/08/13/</td>\n",
       "      <td>92 mins  \\n\\t\\t\\t\\t\\n\\t\\t\\t\\t\\tMore details at</td>\n",
       "      <td>Anthony Mann</td>\n",
       "      <td>USA</td>\n",
       "      <td>drama,western,action</td>\n",
       "      <td>James Stewart,Shelley Winters,Dan Duryea,Steph...</td>\n",
       "      <td>https://a.ltrbxd.com/resized/film-poster/4/3/0...</td>\n",
       "      <td>NaN</td>\n",
       "      <td>Lin McAdam rides into town on the trail of Dut...</td>\n",
       "    </tr>\n",
       "    <tr>\n",
       "      <th>3</th>\n",
       "      <td>Touchez Pas au Grisbi</td>\n",
       "      <td>1954</td>\n",
       "      <td>rating rated-7</td>\n",
       "      <td>/iainm/films/diary/for/2020/08/21/</td>\n",
       "      <td>95 mins  \\n\\t\\t\\t\\t\\n\\t\\t\\t\\t\\tMore details at</td>\n",
       "      <td>Jacques Becker</td>\n",
       "      <td>France,Italy</td>\n",
       "      <td>drama,crime</td>\n",
       "      <td>Jean Gabin,René Dary,Dora Doll,Vittorio Sanipo...</td>\n",
       "      <td>https://a.ltrbxd.com/resized/film-poster/3/4/5...</td>\n",
       "      <td>https://a.ltrbxd.com/resized/sm/upload/7c/7e/k...</td>\n",
       "      <td>Gentleman gangster Max and his partner, Riton,...</td>\n",
       "    </tr>\n",
       "    <tr>\n",
       "      <th>4</th>\n",
       "      <td>A Prophet</td>\n",
       "      <td>2009</td>\n",
       "      <td>rating rated-7</td>\n",
       "      <td>/iainm/films/diary/for/2020/08/15/</td>\n",
       "      <td>155 mins  \\n\\t\\t\\t\\t\\n\\t\\t\\t\\t\\tMore details at</td>\n",
       "      <td>Jacques Audiard</td>\n",
       "      <td>France,Italy</td>\n",
       "      <td>crime,drama</td>\n",
       "      <td>Tahar Rahim,Niels Arestrup,Adel Bencherif,Hich...</td>\n",
       "      <td>https://a.ltrbxd.com/resized/sm/upload/1e/n7/s...</td>\n",
       "      <td>https://a.ltrbxd.com/resized/sm/upload/kd/5s/i...</td>\n",
       "      <td>Sentenced to six years in prison, Malik El Dje...</td>\n",
       "    </tr>\n",
       "  </tbody>\n",
       "</table>\n",
       "</div>"
      ],
      "text/plain": [
       "                   title  year          rating  \\\n",
       "0            Cockfighter  1974  rating rated-7   \n",
       "1    All About My Mother  1999  rating rated-7   \n",
       "2         Winchester '73  1950  rating rated-7   \n",
       "3  Touchez Pas au Grisbi  1954  rating rated-7   \n",
       "4              A Prophet  2009  rating rated-7   \n",
       "\n",
       "                           date_rated  \\\n",
       "0  /iainm/films/diary/for/2020/09/20/   \n",
       "1  /iainm/films/diary/for/2020/08/22/   \n",
       "2  /iainm/films/diary/for/2020/08/13/   \n",
       "3  /iainm/films/diary/for/2020/08/21/   \n",
       "4  /iainm/films/diary/for/2020/08/15/   \n",
       "\n",
       "                                          duration         director  \\\n",
       "0   83 mins  \\n\\t\\t\\t\\t\\n\\t\\t\\t\\t\\tMore details at    Monte Hellman   \n",
       "1  101 mins  \\n\\t\\t\\t\\t\\n\\t\\t\\t\\t\\tMore details at  Pedro Almodóvar   \n",
       "2   92 mins  \\n\\t\\t\\t\\t\\n\\t\\t\\t\\t\\tMore details at     Anthony Mann   \n",
       "3   95 mins  \\n\\t\\t\\t\\t\\n\\t\\t\\t\\t\\tMore details at   Jacques Becker   \n",
       "4  155 mins  \\n\\t\\t\\t\\t\\n\\t\\t\\t\\t\\tMore details at  Jacques Audiard   \n",
       "\n",
       "        country                 genre  \\\n",
       "0           USA                 drama   \n",
       "1  Spain,France          comedy,drama   \n",
       "2           USA  drama,western,action   \n",
       "3  France,Italy           drama,crime   \n",
       "4  France,Italy           crime,drama   \n",
       "\n",
       "                                              actors  \\\n",
       "0  Warren Oates,Richard B. Shull,Harry Dean Stant...   \n",
       "1  Cecilia Roth,Marisa Paredes,Penélope Cruz,Cand...   \n",
       "2  James Stewart,Shelley Winters,Dan Duryea,Steph...   \n",
       "3  Jean Gabin,René Dary,Dora Doll,Vittorio Sanipo...   \n",
       "4  Tahar Rahim,Niels Arestrup,Adel Bencherif,Hich...   \n",
       "\n",
       "                                               image  \\\n",
       "0  https://a.ltrbxd.com/resized/film-poster/3/4/3...   \n",
       "1  https://a.ltrbxd.com/resized/sm/upload/b3/fr/o...   \n",
       "2  https://a.ltrbxd.com/resized/film-poster/4/3/0...   \n",
       "3  https://a.ltrbxd.com/resized/film-poster/3/4/5...   \n",
       "4  https://a.ltrbxd.com/resized/sm/upload/1e/n7/s...   \n",
       "\n",
       "                                            backdrop  \\\n",
       "0                                                NaN   \n",
       "1  https://a.ltrbxd.com/resized/sm/upload/ds/qm/p...   \n",
       "2                                                NaN   \n",
       "3  https://a.ltrbxd.com/resized/sm/upload/7c/7e/k...   \n",
       "4  https://a.ltrbxd.com/resized/sm/upload/kd/5s/i...   \n",
       "\n",
       "                                             summary  \n",
       "0  A man who trains fighting cocks vows to remain...  \n",
       "1  A single mother in Madrid sees her only son di...  \n",
       "2  Lin McAdam rides into town on the trail of Dut...  \n",
       "3  Gentleman gangster Max and his partner, Riton,...  \n",
       "4  Sentenced to six years in prison, Malik El Dje...  "
      ]
     },
     "execution_count": 3,
     "metadata": {},
     "output_type": "execute_result"
    }
   ],
   "source": [
    "df = pd.read_csv(\"letterboxd.csv\")\n",
    "df.head()"
   ]
  },
  {
   "cell_type": "code",
   "execution_count": 4,
   "metadata": {},
   "outputs": [],
   "source": [
    "df[\"rating\"] = df[\"rating\"].str.split(\"-\", expand=True)[1]"
   ]
  },
  {
   "cell_type": "code",
   "execution_count": 5,
   "metadata": {},
   "outputs": [],
   "source": [
    "df[\"date_rated\"] = df[\"date_rated\"].str[-11:].str[0:10]"
   ]
  },
  {
   "cell_type": "code",
   "execution_count": 6,
   "metadata": {},
   "outputs": [],
   "source": [
    "df[\"duration\"] = df[\"duration\"].str.split(expand=True)[0]"
   ]
  },
  {
   "cell_type": "code",
   "execution_count": 7,
   "metadata": {},
   "outputs": [],
   "source": [
    "df[\"genre\"] = df[\"genre\"].str.title()"
   ]
  },
  {
   "cell_type": "code",
   "execution_count": 8,
   "metadata": {},
   "outputs": [],
   "source": [
    "df[\"genre\"] = df[\"genre\"].str.replace(\",\", \", \")"
   ]
  },
  {
   "cell_type": "code",
   "execution_count": 9,
   "metadata": {},
   "outputs": [],
   "source": [
    "df[\"director\"] = df[\"director\"].str.replace(\",\", \", \")"
   ]
  },
  {
   "cell_type": "code",
   "execution_count": 10,
   "metadata": {},
   "outputs": [],
   "source": [
    "df['date_rated'] = pd.to_datetime(df.date_rated, format='%Y/%m/%d')"
   ]
  },
  {
   "cell_type": "code",
   "execution_count": 11,
   "metadata": {},
   "outputs": [],
   "source": [
    "df[\"decade\"] = df[\"year\"].astype(str).str[:3] + \"0s\""
   ]
  },
  {
   "cell_type": "code",
   "execution_count": 12,
   "metadata": {},
   "outputs": [],
   "source": [
    "df[[\"rating\", \"duration\"]] = df[[\"rating\", \"duration\"]].astype(int)"
   ]
  },
  {
   "cell_type": "code",
   "execution_count": 13,
   "metadata": {},
   "outputs": [],
   "source": [
    "#df = df[df[\"director\"].notnull()]\n",
    "df[\"director\"] = df[\"director\"].fillna(\"Director not specified\")"
   ]
  },
  {
   "cell_type": "code",
   "execution_count": 14,
   "metadata": {},
   "outputs": [],
   "source": [
    "df[\"actors\"] = df[\"actors\"].fillna(\"Cast not specified\")"
   ]
  },
  {
   "cell_type": "code",
   "execution_count": 15,
   "metadata": {},
   "outputs": [],
   "source": [
    "df[\"genre\"] = df[\"genre\"].fillna(\"Genre not specified\")"
   ]
  },
  {
   "cell_type": "code",
   "execution_count": 16,
   "metadata": {},
   "outputs": [],
   "source": [
    "df.set_index(\"title\", inplace=True)"
   ]
  },
  {
   "cell_type": "code",
   "execution_count": 17,
   "metadata": {},
   "outputs": [],
   "source": [
    "df.loc[[\"Teddy Bomb\"], [\"country\"]] = \"Canada\"\n",
    "df.loc[[\"Daisies\", \"Loves of a Blonde\", \"The Shop on Main Street\"], [\"country\"]] = \"Czechia\"\n",
    "df.loc[[\"Three Businessmen\"], [\"country\"]] = \"USA,Japan,Netherlands,UK\"\n",
    "df.loc[[\"That Evening Sun\"], [\"country\"]] = \"USA\"\n",
    "df.loc[[\"All Tomorrow's Parties\"], [\"country\"]] = \"UK\"\n",
    "df.loc[[\"Stalker\"], [\"country\"]] = \"Russian Federation\"\n",
    "df.loc[[\"The Cremator\"], [\"country\"]] = \"Czechia\"\n",
    "df.loc[[\"The Cranes Are Flying\"], [\"country\"]] = \"Russian Federation\"\n",
    "df.loc[[\"Letter Never Sent\"], [\"country\"]] = \"Russian Federation\"\n",
    "df.loc[[\"Freaky Farley\"], [\"country\"]] = \"USA\""
   ]
  },
  {
   "cell_type": "code",
   "execution_count": 18,
   "metadata": {},
   "outputs": [],
   "source": [
    "blank_country = df.country.isnull()"
   ]
  },
  {
   "cell_type": "code",
   "execution_count": 19,
   "metadata": {},
   "outputs": [
    {
     "data": {
      "text/html": [
       "<div>\n",
       "<style scoped>\n",
       "    .dataframe tbody tr th:only-of-type {\n",
       "        vertical-align: middle;\n",
       "    }\n",
       "\n",
       "    .dataframe tbody tr th {\n",
       "        vertical-align: top;\n",
       "    }\n",
       "\n",
       "    .dataframe thead th {\n",
       "        text-align: right;\n",
       "    }\n",
       "</style>\n",
       "<table border=\"1\" class=\"dataframe\">\n",
       "  <thead>\n",
       "    <tr style=\"text-align: right;\">\n",
       "      <th></th>\n",
       "      <th>year</th>\n",
       "      <th>rating</th>\n",
       "      <th>date_rated</th>\n",
       "      <th>duration</th>\n",
       "      <th>director</th>\n",
       "      <th>country</th>\n",
       "      <th>genre</th>\n",
       "      <th>actors</th>\n",
       "      <th>image</th>\n",
       "      <th>backdrop</th>\n",
       "      <th>summary</th>\n",
       "      <th>decade</th>\n",
       "    </tr>\n",
       "    <tr>\n",
       "      <th>title</th>\n",
       "      <th></th>\n",
       "      <th></th>\n",
       "      <th></th>\n",
       "      <th></th>\n",
       "      <th></th>\n",
       "      <th></th>\n",
       "      <th></th>\n",
       "      <th></th>\n",
       "      <th></th>\n",
       "      <th></th>\n",
       "      <th></th>\n",
       "      <th></th>\n",
       "    </tr>\n",
       "  </thead>\n",
       "  <tbody>\n",
       "  </tbody>\n",
       "</table>\n",
       "</div>"
      ],
      "text/plain": [
       "Empty DataFrame\n",
       "Columns: [year, rating, date_rated, duration, director, country, genre, actors, image, backdrop, summary, decade]\n",
       "Index: []"
      ]
     },
     "execution_count": 19,
     "metadata": {},
     "output_type": "execute_result"
    }
   ],
   "source": [
    "df[blank_country]"
   ]
  },
  {
   "cell_type": "code",
   "execution_count": 20,
   "metadata": {},
   "outputs": [],
   "source": [
    "df.reset_index(inplace=True)"
   ]
  },
  {
   "cell_type": "code",
   "execution_count": 21,
   "metadata": {},
   "outputs": [],
   "source": [
    "df.to_csv(\"../all_letterboxd.csv\")"
   ]
  },
  {
   "cell_type": "markdown",
   "metadata": {},
   "source": [
    "# Directors"
   ]
  },
  {
   "cell_type": "code",
   "execution_count": 22,
   "metadata": {},
   "outputs": [],
   "source": [
    "directors = df[\"director\"].str.split(\",\", expand=True)"
   ]
  },
  {
   "cell_type": "code",
   "execution_count": 23,
   "metadata": {},
   "outputs": [],
   "source": [
    "directors = directors.unstack().reset_index(name=\"director\")"
   ]
  },
  {
   "cell_type": "code",
   "execution_count": 24,
   "metadata": {},
   "outputs": [],
   "source": [
    "directors.drop(columns=[\"level_0\", \"level_1\"], inplace=True)"
   ]
  },
  {
   "cell_type": "code",
   "execution_count": 25,
   "metadata": {},
   "outputs": [],
   "source": [
    "directors[\"director\"] = directors[\"director\"].str.strip()"
   ]
  },
  {
   "cell_type": "code",
   "execution_count": 26,
   "metadata": {},
   "outputs": [],
   "source": [
    "directors.dropna(inplace=True)"
   ]
  },
  {
   "cell_type": "code",
   "execution_count": 27,
   "metadata": {},
   "outputs": [],
   "source": [
    "directors[\"count\"] = 1"
   ]
  },
  {
   "cell_type": "code",
   "execution_count": 28,
   "metadata": {},
   "outputs": [],
   "source": [
    "directors = pd.DataFrame(directors.groupby(\"director\")[\"count\"].sum())"
   ]
  },
  {
   "cell_type": "code",
   "execution_count": 29,
   "metadata": {},
   "outputs": [],
   "source": [
    "directors.sort_values(by=\"count\", ascending=False, inplace=True)"
   ]
  },
  {
   "cell_type": "code",
   "execution_count": 30,
   "metadata": {},
   "outputs": [],
   "source": [
    "directors = directors[:20]"
   ]
  },
  {
   "cell_type": "code",
   "execution_count": 31,
   "metadata": {},
   "outputs": [],
   "source": [
    "directors.to_csv(\"../directors.csv\")"
   ]
  },
  {
   "cell_type": "code",
   "execution_count": 32,
   "metadata": {},
   "outputs": [
    {
     "data": {
      "text/html": [
       "<div>\n",
       "<style scoped>\n",
       "    .dataframe tbody tr th:only-of-type {\n",
       "        vertical-align: middle;\n",
       "    }\n",
       "\n",
       "    .dataframe tbody tr th {\n",
       "        vertical-align: top;\n",
       "    }\n",
       "\n",
       "    .dataframe thead th {\n",
       "        text-align: right;\n",
       "    }\n",
       "</style>\n",
       "<table border=\"1\" class=\"dataframe\">\n",
       "  <thead>\n",
       "    <tr style=\"text-align: right;\">\n",
       "      <th></th>\n",
       "      <th>title</th>\n",
       "      <th>rating</th>\n",
       "      <th>director</th>\n",
       "    </tr>\n",
       "  </thead>\n",
       "  <tbody>\n",
       "    <tr>\n",
       "      <th>0</th>\n",
       "      <td>Cockfighter</td>\n",
       "      <td>7</td>\n",
       "      <td>Monte Hellman</td>\n",
       "    </tr>\n",
       "    <tr>\n",
       "      <th>1</th>\n",
       "      <td>All About My Mother</td>\n",
       "      <td>7</td>\n",
       "      <td>Pedro Almodóvar</td>\n",
       "    </tr>\n",
       "    <tr>\n",
       "      <th>2</th>\n",
       "      <td>Winchester '73</td>\n",
       "      <td>7</td>\n",
       "      <td>Anthony Mann</td>\n",
       "    </tr>\n",
       "    <tr>\n",
       "      <th>3</th>\n",
       "      <td>Touchez Pas au Grisbi</td>\n",
       "      <td>7</td>\n",
       "      <td>Jacques Becker</td>\n",
       "    </tr>\n",
       "    <tr>\n",
       "      <th>4</th>\n",
       "      <td>A Prophet</td>\n",
       "      <td>7</td>\n",
       "      <td>Jacques Audiard</td>\n",
       "    </tr>\n",
       "  </tbody>\n",
       "</table>\n",
       "</div>"
      ],
      "text/plain": [
       "                   title  rating         director\n",
       "0            Cockfighter       7    Monte Hellman\n",
       "1    All About My Mother       7  Pedro Almodóvar\n",
       "2         Winchester '73       7     Anthony Mann\n",
       "3  Touchez Pas au Grisbi       7   Jacques Becker\n",
       "4              A Prophet       7  Jacques Audiard"
      ]
     },
     "execution_count": 32,
     "metadata": {},
     "output_type": "execute_result"
    }
   ],
   "source": [
    "dir_bar = df.iloc[:,[0, 2, 5]]\n",
    "dir_bar.head()"
   ]
  },
  {
   "cell_type": "code",
   "execution_count": 33,
   "metadata": {},
   "outputs": [],
   "source": [
    "dir_bar = dir_bar.assign(director=dir_bar[\"director\"].str.split(\",\")).explode(\"director\")"
   ]
  },
  {
   "cell_type": "code",
   "execution_count": 34,
   "metadata": {},
   "outputs": [],
   "source": [
    "dir_bar[\"director\"] = dir_bar[\"director\"].str.strip()"
   ]
  },
  {
   "cell_type": "code",
   "execution_count": 35,
   "metadata": {},
   "outputs": [],
   "source": [
    "pivot = pd.pivot_table(dir_bar, index=[\"director\"], columns=[\"title\"], margins=True, aggfunc=[np.mean, len])"
   ]
  },
  {
   "cell_type": "code",
   "execution_count": 36,
   "metadata": {},
   "outputs": [],
   "source": [
    "pivot = pivot.stack(\"title\")"
   ]
  },
  {
   "cell_type": "code",
   "execution_count": 37,
   "metadata": {},
   "outputs": [],
   "source": [
    "pivot = pivot.reset_index()"
   ]
  },
  {
   "cell_type": "code",
   "execution_count": 38,
   "metadata": {},
   "outputs": [],
   "source": [
    "pivot = pivot.loc[pivot.director != \"All\"]"
   ]
  },
  {
   "cell_type": "code",
   "execution_count": 39,
   "metadata": {},
   "outputs": [],
   "source": [
    "pivot.columns = pivot.columns.droplevel(1)"
   ]
  },
  {
   "cell_type": "code",
   "execution_count": 40,
   "metadata": {},
   "outputs": [
    {
     "data": {
      "text/html": [
       "<div>\n",
       "<style scoped>\n",
       "    .dataframe tbody tr th:only-of-type {\n",
       "        vertical-align: middle;\n",
       "    }\n",
       "\n",
       "    .dataframe tbody tr th {\n",
       "        vertical-align: top;\n",
       "    }\n",
       "\n",
       "    .dataframe thead th {\n",
       "        text-align: right;\n",
       "    }\n",
       "</style>\n",
       "<table border=\"1\" class=\"dataframe\">\n",
       "  <thead>\n",
       "    <tr style=\"text-align: right;\">\n",
       "      <th></th>\n",
       "      <th>director</th>\n",
       "      <th>title</th>\n",
       "      <th>len</th>\n",
       "      <th>mean</th>\n",
       "    </tr>\n",
       "  </thead>\n",
       "  <tbody>\n",
       "    <tr>\n",
       "      <th>0</th>\n",
       "      <td>Abbas Kiarostami</td>\n",
       "      <td>All</td>\n",
       "      <td>4.0</td>\n",
       "      <td>8.0</td>\n",
       "    </tr>\n",
       "    <tr>\n",
       "      <th>1</th>\n",
       "      <td>Abbas Kiarostami</td>\n",
       "      <td>Certified Copy</td>\n",
       "      <td>1.0</td>\n",
       "      <td>8.0</td>\n",
       "    </tr>\n",
       "    <tr>\n",
       "      <th>2</th>\n",
       "      <td>Abbas Kiarostami</td>\n",
       "      <td>Close-Up</td>\n",
       "      <td>1.0</td>\n",
       "      <td>9.0</td>\n",
       "    </tr>\n",
       "    <tr>\n",
       "      <th>3</th>\n",
       "      <td>Abbas Kiarostami</td>\n",
       "      <td>Taste of Cherry</td>\n",
       "      <td>1.0</td>\n",
       "      <td>7.0</td>\n",
       "    </tr>\n",
       "    <tr>\n",
       "      <th>4</th>\n",
       "      <td>Abbas Kiarostami</td>\n",
       "      <td>The Wind Will Carry Us</td>\n",
       "      <td>1.0</td>\n",
       "      <td>8.0</td>\n",
       "    </tr>\n",
       "    <tr>\n",
       "      <th>...</th>\n",
       "      <td>...</td>\n",
       "      <td>...</td>\n",
       "      <td>...</td>\n",
       "      <td>...</td>\n",
       "    </tr>\n",
       "    <tr>\n",
       "      <th>1871</th>\n",
       "      <td>Ágnes Hranitzky</td>\n",
       "      <td>Werckmeister Harmonies</td>\n",
       "      <td>1.0</td>\n",
       "      <td>7.0</td>\n",
       "    </tr>\n",
       "    <tr>\n",
       "      <th>1872</th>\n",
       "      <td>Éric Rohmer</td>\n",
       "      <td>All</td>\n",
       "      <td>3.0</td>\n",
       "      <td>8.0</td>\n",
       "    </tr>\n",
       "    <tr>\n",
       "      <th>1873</th>\n",
       "      <td>Éric Rohmer</td>\n",
       "      <td>My Night at Maud's</td>\n",
       "      <td>1.0</td>\n",
       "      <td>8.0</td>\n",
       "    </tr>\n",
       "    <tr>\n",
       "      <th>1874</th>\n",
       "      <td>Éric Rohmer</td>\n",
       "      <td>Pauline at the Beach</td>\n",
       "      <td>1.0</td>\n",
       "      <td>8.0</td>\n",
       "    </tr>\n",
       "    <tr>\n",
       "      <th>1875</th>\n",
       "      <td>Éric Rohmer</td>\n",
       "      <td>The Green Ray</td>\n",
       "      <td>1.0</td>\n",
       "      <td>8.0</td>\n",
       "    </tr>\n",
       "  </tbody>\n",
       "</table>\n",
       "<p>1876 rows × 4 columns</p>\n",
       "</div>"
      ],
      "text/plain": [
       "              director                   title  len  mean\n",
       "0     Abbas Kiarostami                     All  4.0   8.0\n",
       "1     Abbas Kiarostami          Certified Copy  1.0   8.0\n",
       "2     Abbas Kiarostami                Close-Up  1.0   9.0\n",
       "3     Abbas Kiarostami         Taste of Cherry  1.0   7.0\n",
       "4     Abbas Kiarostami  The Wind Will Carry Us  1.0   8.0\n",
       "...                ...                     ...  ...   ...\n",
       "1871   Ágnes Hranitzky  Werckmeister Harmonies  1.0   7.0\n",
       "1872       Éric Rohmer                     All  3.0   8.0\n",
       "1873       Éric Rohmer      My Night at Maud's  1.0   8.0\n",
       "1874       Éric Rohmer    Pauline at the Beach  1.0   8.0\n",
       "1875       Éric Rohmer           The Green Ray  1.0   8.0\n",
       "\n",
       "[1876 rows x 4 columns]"
      ]
     },
     "execution_count": 40,
     "metadata": {},
     "output_type": "execute_result"
    }
   ],
   "source": [
    "pivot"
   ]
  },
  {
   "cell_type": "code",
   "execution_count": 41,
   "metadata": {},
   "outputs": [],
   "source": [
    "pivot.to_csv(\"../test.csv\", index=False)"
   ]
  },
  {
   "cell_type": "code",
   "execution_count": 42,
   "metadata": {},
   "outputs": [],
   "source": [
    "dir_bar.to_csv(\"../dir_bar.csv\", index=False)"
   ]
  },
  {
   "cell_type": "markdown",
   "metadata": {},
   "source": [
    "# Decade"
   ]
  },
  {
   "cell_type": "code",
   "execution_count": 43,
   "metadata": {},
   "outputs": [
    {
     "data": {
      "text/html": [
       "<div>\n",
       "<style scoped>\n",
       "    .dataframe tbody tr th:only-of-type {\n",
       "        vertical-align: middle;\n",
       "    }\n",
       "\n",
       "    .dataframe tbody tr th {\n",
       "        vertical-align: top;\n",
       "    }\n",
       "\n",
       "    .dataframe thead th {\n",
       "        text-align: right;\n",
       "    }\n",
       "</style>\n",
       "<table border=\"1\" class=\"dataframe\">\n",
       "  <thead>\n",
       "    <tr style=\"text-align: right;\">\n",
       "      <th></th>\n",
       "      <th>count</th>\n",
       "      <th>avg_rating</th>\n",
       "    </tr>\n",
       "    <tr>\n",
       "      <th>decade</th>\n",
       "      <th></th>\n",
       "      <th></th>\n",
       "    </tr>\n",
       "  </thead>\n",
       "  <tbody>\n",
       "    <tr>\n",
       "      <th>1910s</th>\n",
       "      <td>4</td>\n",
       "      <td>7.250000</td>\n",
       "    </tr>\n",
       "    <tr>\n",
       "      <th>1920s</th>\n",
       "      <td>23</td>\n",
       "      <td>7.565217</td>\n",
       "    </tr>\n",
       "    <tr>\n",
       "      <th>1930s</th>\n",
       "      <td>27</td>\n",
       "      <td>7.333333</td>\n",
       "    </tr>\n",
       "    <tr>\n",
       "      <th>1940s</th>\n",
       "      <td>45</td>\n",
       "      <td>7.466667</td>\n",
       "    </tr>\n",
       "    <tr>\n",
       "      <th>1950s</th>\n",
       "      <td>92</td>\n",
       "      <td>7.663043</td>\n",
       "    </tr>\n",
       "    <tr>\n",
       "      <th>1960s</th>\n",
       "      <td>134</td>\n",
       "      <td>7.589552</td>\n",
       "    </tr>\n",
       "    <tr>\n",
       "      <th>1970s</th>\n",
       "      <td>171</td>\n",
       "      <td>7.567251</td>\n",
       "    </tr>\n",
       "    <tr>\n",
       "      <th>1980s</th>\n",
       "      <td>153</td>\n",
       "      <td>7.313725</td>\n",
       "    </tr>\n",
       "    <tr>\n",
       "      <th>1990s</th>\n",
       "      <td>141</td>\n",
       "      <td>7.397163</td>\n",
       "    </tr>\n",
       "    <tr>\n",
       "      <th>2000s</th>\n",
       "      <td>154</td>\n",
       "      <td>7.207792</td>\n",
       "    </tr>\n",
       "    <tr>\n",
       "      <th>2010s</th>\n",
       "      <td>282</td>\n",
       "      <td>6.989362</td>\n",
       "    </tr>\n",
       "    <tr>\n",
       "      <th>2020s</th>\n",
       "      <td>1</td>\n",
       "      <td>8.000000</td>\n",
       "    </tr>\n",
       "  </tbody>\n",
       "</table>\n",
       "</div>"
      ],
      "text/plain": [
       "        count  avg_rating\n",
       "decade                   \n",
       "1910s       4    7.250000\n",
       "1920s      23    7.565217\n",
       "1930s      27    7.333333\n",
       "1940s      45    7.466667\n",
       "1950s      92    7.663043\n",
       "1960s     134    7.589552\n",
       "1970s     171    7.567251\n",
       "1980s     153    7.313725\n",
       "1990s     141    7.397163\n",
       "2000s     154    7.207792\n",
       "2010s     282    6.989362\n",
       "2020s       1    8.000000"
      ]
     },
     "execution_count": 43,
     "metadata": {},
     "output_type": "execute_result"
    }
   ],
   "source": [
    "decade = df.groupby(\"decade\").agg({\"title\": \"size\", \"rating\": \"mean\"}).rename(columns={\"title\": \"count\", \"rating\": \"avg_rating\"})\n",
    "decade"
   ]
  },
  {
   "cell_type": "code",
   "execution_count": 44,
   "metadata": {},
   "outputs": [],
   "source": [
    "decade.to_csv(\"../decade_breakdown.csv\")"
   ]
  },
  {
   "cell_type": "markdown",
   "metadata": {},
   "source": [
    "# Release Year"
   ]
  },
  {
   "cell_type": "code",
   "execution_count": 45,
   "metadata": {},
   "outputs": [],
   "source": [
    "release_year = df.iloc[:, [0, 1]]"
   ]
  },
  {
   "cell_type": "code",
   "execution_count": 46,
   "metadata": {},
   "outputs": [],
   "source": [
    "min_year = release_year[\"year\"].min()"
   ]
  },
  {
   "cell_type": "code",
   "execution_count": 47,
   "metadata": {},
   "outputs": [],
   "source": [
    "max_year = release_year[\"year\"].max()"
   ]
  },
  {
   "cell_type": "code",
   "execution_count": 48,
   "metadata": {},
   "outputs": [],
   "source": [
    "year_range = np.arange(min_year, max_year + 1)"
   ]
  },
  {
   "cell_type": "code",
   "execution_count": 49,
   "metadata": {},
   "outputs": [],
   "source": [
    "release_year_group = release_year.groupby([\"year\"]).count()"
   ]
  },
  {
   "cell_type": "code",
   "execution_count": 50,
   "metadata": {},
   "outputs": [],
   "source": [
    "release_year_group = release_year_group.reindex(year_range).fillna(0)"
   ]
  },
  {
   "cell_type": "code",
   "execution_count": 51,
   "metadata": {},
   "outputs": [],
   "source": [
    "release_year_group.to_csv(\"../release_year.csv\")"
   ]
  },
  {
   "cell_type": "markdown",
   "metadata": {},
   "source": [
    "# Watch date"
   ]
  },
  {
   "cell_type": "code",
   "execution_count": 52,
   "metadata": {},
   "outputs": [],
   "source": [
    "w_date = df.set_index(\"date_rated\")"
   ]
  },
  {
   "cell_type": "code",
   "execution_count": 53,
   "metadata": {},
   "outputs": [],
   "source": [
    "w_date = w_date.groupby(\"date_rated\").count()"
   ]
  },
  {
   "cell_type": "code",
   "execution_count": 54,
   "metadata": {},
   "outputs": [],
   "source": [
    "w_date = pd.DataFrame(w_date.iloc[:, 1])"
   ]
  },
  {
   "cell_type": "code",
   "execution_count": 55,
   "metadata": {},
   "outputs": [],
   "source": [
    "first_w_date = pd.Timestamp(\"2015-04-25\")\n",
    "last_w_date = w_date.index.max()"
   ]
  },
  {
   "cell_type": "code",
   "execution_count": 56,
   "metadata": {},
   "outputs": [],
   "source": [
    "w_date_range = pd.date_range(start=first_w_date, end=last_w_date)"
   ]
  },
  {
   "cell_type": "code",
   "execution_count": 57,
   "metadata": {},
   "outputs": [],
   "source": [
    "w_date = w_date.reindex(w_date_range).fillna(0)"
   ]
  },
  {
   "cell_type": "code",
   "execution_count": 58,
   "metadata": {},
   "outputs": [],
   "source": [
    "monthly = w_date.groupby(pd.Grouper(freq=\"MS\")).sum()"
   ]
  },
  {
   "cell_type": "code",
   "execution_count": 59,
   "metadata": {},
   "outputs": [],
   "source": [
    "monthly.rename(columns={\"year\": \"count\"}, inplace=True)"
   ]
  },
  {
   "cell_type": "code",
   "execution_count": 60,
   "metadata": {},
   "outputs": [],
   "source": [
    "monthly.to_csv(\"../watch_date.csv\", index_label=\"date\")"
   ]
  },
  {
   "cell_type": "markdown",
   "metadata": {},
   "source": [
    "# Genres"
   ]
  },
  {
   "cell_type": "code",
   "execution_count": 61,
   "metadata": {},
   "outputs": [],
   "source": [
    "genres = df.iloc[:, [0, 7]]"
   ]
  },
  {
   "cell_type": "code",
   "execution_count": 62,
   "metadata": {},
   "outputs": [],
   "source": [
    "genres = genres.assign(genre=genres[\"genre\"].str.split(\", \")).explode(\"genre\")"
   ]
  },
  {
   "cell_type": "code",
   "execution_count": 63,
   "metadata": {},
   "outputs": [],
   "source": [
    "genres.drop(columns=\"title\", inplace=True)"
   ]
  },
  {
   "cell_type": "code",
   "execution_count": 64,
   "metadata": {},
   "outputs": [],
   "source": [
    "genres = genres.drop_duplicates().dropna()"
   ]
  },
  {
   "cell_type": "code",
   "execution_count": 65,
   "metadata": {},
   "outputs": [],
   "source": [
    "genres = genres[genres[\"genre\"] != \"Tv Movie\"]"
   ]
  },
  {
   "cell_type": "code",
   "execution_count": 66,
   "metadata": {},
   "outputs": [],
   "source": [
    "genres = genres[genres[\"genre\"] != \"Genre not specified\"]"
   ]
  },
  {
   "cell_type": "code",
   "execution_count": 67,
   "metadata": {},
   "outputs": [],
   "source": [
    "genres = genres.sort_values(\"genre\")"
   ]
  },
  {
   "cell_type": "code",
   "execution_count": 68,
   "metadata": {},
   "outputs": [],
   "source": [
    "genres.to_csv(\"../genre_list.csv\", index=False)"
   ]
  },
  {
   "cell_type": "markdown",
   "metadata": {},
   "source": [
    "# Countries"
   ]
  },
  {
   "cell_type": "code",
   "execution_count": 69,
   "metadata": {},
   "outputs": [],
   "source": [
    "countries = df.iloc[:, [0, 6]]"
   ]
  },
  {
   "cell_type": "code",
   "execution_count": 70,
   "metadata": {},
   "outputs": [],
   "source": [
    "countries = countries.assign(country=countries[\"country\"].str.split(\",\")).explode(\"country\")"
   ]
  },
  {
   "cell_type": "code",
   "execution_count": 71,
   "metadata": {},
   "outputs": [],
   "source": [
    "countries.drop(columns=\"title\", inplace=True)"
   ]
  },
  {
   "cell_type": "code",
   "execution_count": 72,
   "metadata": {},
   "outputs": [],
   "source": [
    "countries = countries.drop_duplicates().dropna()"
   ]
  },
  {
   "cell_type": "code",
   "execution_count": 73,
   "metadata": {},
   "outputs": [],
   "source": [
    "countries.sort_values(by=\"country\", inplace=True)"
   ]
  },
  {
   "cell_type": "code",
   "execution_count": 74,
   "metadata": {},
   "outputs": [],
   "source": [
    "countries.to_csv(\"../countries.csv\", index=False)"
   ]
  },
  {
   "cell_type": "code",
   "execution_count": null,
   "metadata": {},
   "outputs": [],
   "source": []
  }
 ],
 "metadata": {
  "kernelspec": {
   "display_name": "Python 3",
   "language": "python",
   "name": "python3"
  },
  "language_info": {
   "codemirror_mode": {
    "name": "ipython",
    "version": 3
   },
   "file_extension": ".py",
   "mimetype": "text/x-python",
   "name": "python",
   "nbconvert_exporter": "python",
   "pygments_lexer": "ipython3",
   "version": "3.7.5"
  }
 },
 "nbformat": 4,
 "nbformat_minor": 2
}
