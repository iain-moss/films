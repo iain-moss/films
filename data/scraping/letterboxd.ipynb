{
 "cells": [
  {
   "cell_type": "code",
   "execution_count": 1,
   "metadata": {},
   "outputs": [],
   "source": [
    "import pandas as pd\n",
    "from datetime import datetime\n",
    "import numpy as np"
   ]
  },
  {
   "cell_type": "code",
   "execution_count": 2,
   "metadata": {},
   "outputs": [
    {
     "output_type": "execute_result",
     "data": {
      "text/plain": [
       "                  title  year          rating  \\\n",
       "0  The Living Dead Girl  1982  rating rated-7   \n",
       "1        Shock Corridor  1963  rating rated-7   \n",
       "2           Brute Force  1947  rating rated-8   \n",
       "3           Fascination  1979  rating rated-6   \n",
       "\n",
       "                           date_rated  \\\n",
       "0  /iainm/films/diary/for/2021/01/22/   \n",
       "1  /iainm/films/diary/for/2021/01/23/   \n",
       "2  /iainm/films/diary/for/2021/01/23/   \n",
       "3  /iainm/films/diary/for/2021/01/23/   \n",
       "\n",
       "                                          duration       director country  \\\n",
       "0   86 mins  \\n\\t\\t\\t\\t\\n\\t\\t\\t\\t\\tMore details at    Jean Rollin  France   \n",
       "1  101 mins  \\n\\t\\t\\t\\t\\n\\t\\t\\t\\t\\tMore details at  Samuel Fuller     USA   \n",
       "2   98 mins  \\n\\t\\t\\t\\t\\n\\t\\t\\t\\t\\tMore details at   Jules Dassin     USA   \n",
       "3   80 mins  \\n\\t\\t\\t\\t\\n\\t\\t\\t\\t\\tMore details at    Jean Rollin  France   \n",
       "\n",
       "                  genre                                             actors  \\\n",
       "0                horror  Marina Pierro,Françoise Blanchard,Mike Marshal...   \n",
       "1         mystery,drama  Peter Breck,Constance Towers,Gene Evans,James ...   \n",
       "2  thriller,crime,drama  Burt Lancaster,Hume Cronyn,Charles Bickford,Yv...   \n",
       "3          drama,horror  Franca Maï,Jean-Marie Lemaire,Brigitte Lahaie,...   \n",
       "\n",
       "                                               image  \\\n",
       "0  https://a.ltrbxd.com/resized/film-poster/6/3/4...   \n",
       "1  https://a.ltrbxd.com/resized/film-poster/3/6/0...   \n",
       "2  https://a.ltrbxd.com/resized/film-poster/5/5/8...   \n",
       "3  https://a.ltrbxd.com/resized/sm/upload/c8/cs/p...   \n",
       "\n",
       "                                            backdrop  \\\n",
       "0  https://a.ltrbxd.com/resized/sm/upload/qt/bh/y...   \n",
       "1  https://a.ltrbxd.com/resized/sm/upload/8d/yk/u...   \n",
       "2  https://a.ltrbxd.com/resized/sm/upload/qb/2n/o...   \n",
       "3  https://a.ltrbxd.com/resized/sm/upload/6i/4q/a...   \n",
       "\n",
       "                                             summary  \n",
       "0  A toxic spill revives a beautiful, dead heires...  \n",
       "1  Determined to pull in the Pulitzer Prize, repo...  \n",
       "2  Timeworn Joe Collins and his fellow inmates li...  \n",
       "3  A thief seeks refuge in a castle owned by two ...  "
      ],
      "text/html": "<div>\n<style scoped>\n    .dataframe tbody tr th:only-of-type {\n        vertical-align: middle;\n    }\n\n    .dataframe tbody tr th {\n        vertical-align: top;\n    }\n\n    .dataframe thead th {\n        text-align: right;\n    }\n</style>\n<table border=\"1\" class=\"dataframe\">\n  <thead>\n    <tr style=\"text-align: right;\">\n      <th></th>\n      <th>title</th>\n      <th>year</th>\n      <th>rating</th>\n      <th>date_rated</th>\n      <th>duration</th>\n      <th>director</th>\n      <th>country</th>\n      <th>genre</th>\n      <th>actors</th>\n      <th>image</th>\n      <th>backdrop</th>\n      <th>summary</th>\n    </tr>\n  </thead>\n  <tbody>\n    <tr>\n      <th>0</th>\n      <td>The Living Dead Girl</td>\n      <td>1982</td>\n      <td>rating rated-7</td>\n      <td>/iainm/films/diary/for/2021/01/22/</td>\n      <td>86 mins  \\n\\t\\t\\t\\t\\n\\t\\t\\t\\t\\tMore details at</td>\n      <td>Jean Rollin</td>\n      <td>France</td>\n      <td>horror</td>\n      <td>Marina Pierro,Françoise Blanchard,Mike Marshal...</td>\n      <td>https://a.ltrbxd.com/resized/film-poster/6/3/4...</td>\n      <td>https://a.ltrbxd.com/resized/sm/upload/qt/bh/y...</td>\n      <td>A toxic spill revives a beautiful, dead heires...</td>\n    </tr>\n    <tr>\n      <th>1</th>\n      <td>Shock Corridor</td>\n      <td>1963</td>\n      <td>rating rated-7</td>\n      <td>/iainm/films/diary/for/2021/01/23/</td>\n      <td>101 mins  \\n\\t\\t\\t\\t\\n\\t\\t\\t\\t\\tMore details at</td>\n      <td>Samuel Fuller</td>\n      <td>USA</td>\n      <td>mystery,drama</td>\n      <td>Peter Breck,Constance Towers,Gene Evans,James ...</td>\n      <td>https://a.ltrbxd.com/resized/film-poster/3/6/0...</td>\n      <td>https://a.ltrbxd.com/resized/sm/upload/8d/yk/u...</td>\n      <td>Determined to pull in the Pulitzer Prize, repo...</td>\n    </tr>\n    <tr>\n      <th>2</th>\n      <td>Brute Force</td>\n      <td>1947</td>\n      <td>rating rated-8</td>\n      <td>/iainm/films/diary/for/2021/01/23/</td>\n      <td>98 mins  \\n\\t\\t\\t\\t\\n\\t\\t\\t\\t\\tMore details at</td>\n      <td>Jules Dassin</td>\n      <td>USA</td>\n      <td>thriller,crime,drama</td>\n      <td>Burt Lancaster,Hume Cronyn,Charles Bickford,Yv...</td>\n      <td>https://a.ltrbxd.com/resized/film-poster/5/5/8...</td>\n      <td>https://a.ltrbxd.com/resized/sm/upload/qb/2n/o...</td>\n      <td>Timeworn Joe Collins and his fellow inmates li...</td>\n    </tr>\n    <tr>\n      <th>3</th>\n      <td>Fascination</td>\n      <td>1979</td>\n      <td>rating rated-6</td>\n      <td>/iainm/films/diary/for/2021/01/23/</td>\n      <td>80 mins  \\n\\t\\t\\t\\t\\n\\t\\t\\t\\t\\tMore details at</td>\n      <td>Jean Rollin</td>\n      <td>France</td>\n      <td>drama,horror</td>\n      <td>Franca Maï,Jean-Marie Lemaire,Brigitte Lahaie,...</td>\n      <td>https://a.ltrbxd.com/resized/sm/upload/c8/cs/p...</td>\n      <td>https://a.ltrbxd.com/resized/sm/upload/6i/4q/a...</td>\n      <td>A thief seeks refuge in a castle owned by two ...</td>\n    </tr>\n  </tbody>\n</table>\n</div>"
     },
     "metadata": {},
     "execution_count": 2
    }
   ],
   "source": [
    "df = pd.read_csv(\"new_films.csv\")\n",
    "df.head()"
   ]
  },
  {
   "cell_type": "code",
   "execution_count": 3,
   "metadata": {},
   "outputs": [],
   "source": [
    "df[\"rating\"] = df[\"rating\"].str.split(\"-\", expand=True)[1]"
   ]
  },
  {
   "cell_type": "code",
   "execution_count": 4,
   "metadata": {},
   "outputs": [],
   "source": [
    "df[\"date_rated\"] = df[\"date_rated\"].str[-11:].str[0:10]"
   ]
  },
  {
   "cell_type": "code",
   "execution_count": 5,
   "metadata": {},
   "outputs": [],
   "source": [
    "df[\"duration\"] = df[\"duration\"].str.split(expand=True)[0]"
   ]
  },
  {
   "cell_type": "code",
   "execution_count": 6,
   "metadata": {},
   "outputs": [],
   "source": [
    "df[\"genre\"] = df[\"genre\"].str.title()"
   ]
  },
  {
   "cell_type": "code",
   "execution_count": 7,
   "metadata": {},
   "outputs": [],
   "source": [
    "df[\"genre\"] = df[\"genre\"].str.replace(\",\", \", \")"
   ]
  },
  {
   "cell_type": "code",
   "execution_count": 8,
   "metadata": {},
   "outputs": [],
   "source": [
    "df[\"director\"] = df[\"director\"].str.replace(\",\", \", \")"
   ]
  },
  {
   "cell_type": "code",
   "execution_count": 9,
   "metadata": {},
   "outputs": [],
   "source": [
    "df['date_rated'] = pd.to_datetime(df.date_rated, format='%Y/%m/%d')"
   ]
  },
  {
   "cell_type": "code",
   "execution_count": 10,
   "metadata": {},
   "outputs": [],
   "source": [
    "df[\"decade\"] = df[\"year\"].astype(str).str[:3] + \"0s\""
   ]
  },
  {
   "cell_type": "code",
   "execution_count": 11,
   "metadata": {},
   "outputs": [],
   "source": [
    "df[[\"rating\", \"duration\"]] = df[[\"rating\", \"duration\"]].astype(int)"
   ]
  },
  {
   "cell_type": "code",
   "execution_count": 12,
   "metadata": {},
   "outputs": [],
   "source": [
    "#df = df[df[\"director\"].notnull()]\n",
    "df[\"director\"] = df[\"director\"].fillna(\"Director not specified\")"
   ]
  },
  {
   "cell_type": "code",
   "execution_count": 13,
   "metadata": {},
   "outputs": [],
   "source": [
    "df[\"actors\"] = df[\"actors\"].fillna(\"Cast not specified\")"
   ]
  },
  {
   "cell_type": "code",
   "execution_count": 14,
   "metadata": {},
   "outputs": [],
   "source": [
    "df[\"genre\"] = df[\"genre\"].fillna(\"Genre not specified\")"
   ]
  },
  {
   "cell_type": "code",
   "execution_count": 15,
   "metadata": {},
   "outputs": [],
   "source": [
    "df.set_index(\"title\", inplace=True)"
   ]
  },
  {
   "cell_type": "code",
   "execution_count": 45,
   "metadata": {},
   "outputs": [],
   "source": [
    "# df.loc[[\"Teddy Bomb\"], [\"country\"]] = \"Canada\"\n",
    "# df.loc[[\"Daisies\", \"Loves of a Blonde\", \"The Shop on Main Street\"], [\"country\"]] = \"Czechia\"\n",
    "# df.loc[[\"Three Businessmen\"], [\"country\"]] = \"USA,Japan,Netherlands,UK\"\n",
    "# df.loc[[\"That Evening Sun\"], [\"country\"]] = \"USA\"\n",
    "# df.loc[[\"All Tomorrow's Parties\"], [\"country\"]] = \"UK\"\n",
    "# df.loc[[\"Stalker\"], [\"country\"]] = \"Russian Federation\"\n",
    "# df.loc[[\"The Cremator\"], [\"country\"]] = \"Czechia\"\n",
    "# df.loc[[\"The Cranes Are Flying\"], [\"country\"]] = \"Russian Federation\"\n",
    "# df.loc[[\"Letter Never Sent\"], [\"country\"]] = \"Russian Federation\"\n",
    "# df.loc[[\"Freaky Farley\"], [\"country\"]] = \"USA\""
   ]
  },
  {
   "cell_type": "code",
   "execution_count": 16,
   "metadata": {},
   "outputs": [],
   "source": [
    "blank_country = df.country.isnull()"
   ]
  },
  {
   "cell_type": "code",
   "execution_count": 17,
   "metadata": {},
   "outputs": [
    {
     "output_type": "execute_result",
     "data": {
      "text/plain": [
       "Empty DataFrame\n",
       "Columns: [year, rating, date_rated, duration, director, country, genre, actors, image, backdrop, summary, decade]\n",
       "Index: []"
      ],
      "text/html": "<div>\n<style scoped>\n    .dataframe tbody tr th:only-of-type {\n        vertical-align: middle;\n    }\n\n    .dataframe tbody tr th {\n        vertical-align: top;\n    }\n\n    .dataframe thead th {\n        text-align: right;\n    }\n</style>\n<table border=\"1\" class=\"dataframe\">\n  <thead>\n    <tr style=\"text-align: right;\">\n      <th></th>\n      <th>year</th>\n      <th>rating</th>\n      <th>date_rated</th>\n      <th>duration</th>\n      <th>director</th>\n      <th>country</th>\n      <th>genre</th>\n      <th>actors</th>\n      <th>image</th>\n      <th>backdrop</th>\n      <th>summary</th>\n      <th>decade</th>\n    </tr>\n    <tr>\n      <th>title</th>\n      <th></th>\n      <th></th>\n      <th></th>\n      <th></th>\n      <th></th>\n      <th></th>\n      <th></th>\n      <th></th>\n      <th></th>\n      <th></th>\n      <th></th>\n      <th></th>\n    </tr>\n  </thead>\n  <tbody>\n  </tbody>\n</table>\n</div>"
     },
     "metadata": {},
     "execution_count": 17
    }
   ],
   "source": [
    "df[blank_country]"
   ]
  },
  {
   "cell_type": "code",
   "execution_count": 18,
   "metadata": {},
   "outputs": [],
   "source": [
    "if len(df[blank_country]) > 0:\n",
    "    print(\"MISSING COUNTRIES!\")"
   ]
  },
  {
   "cell_type": "code",
   "execution_count": 19,
   "metadata": {},
   "outputs": [],
   "source": [
    "df.reset_index(inplace=True)"
   ]
  },
  {
   "cell_type": "code",
   "execution_count": 20,
   "metadata": {},
   "outputs": [],
   "source": [
    "all_letterboxd = pd.read_csv(\"../all_letterboxd.csv\", index_col=[0])"
   ]
  },
  {
   "cell_type": "code",
   "execution_count": 21,
   "metadata": {},
   "outputs": [],
   "source": [
    "all_letterboxd.date_rated = pd.to_datetime(all_letterboxd.date_rated, format='%Y-%m-%d')"
   ]
  },
  {
   "cell_type": "code",
   "execution_count": 22,
   "metadata": {},
   "outputs": [],
   "source": [
    "all_letterboxd = pd.concat([all_letterboxd, df])"
   ]
  },
  {
   "cell_type": "code",
   "execution_count": 23,
   "metadata": {},
   "outputs": [],
   "source": [
    "all_letterboxd.reset_index(drop=True, inplace=True)"
   ]
  },
  {
   "cell_type": "code",
   "execution_count": 24,
   "metadata": {},
   "outputs": [],
   "source": [
    "all_letterboxd.sort_values(by='date_rated', inplace=True)"
   ]
  },
  {
   "cell_type": "code",
   "execution_count": 25,
   "metadata": {},
   "outputs": [],
   "source": [
    "all_letterboxd.drop_duplicates(subset=['title', 'year', 'director'], keep='last', inplace=True)"
   ]
  },
  {
   "cell_type": "code",
   "execution_count": 26,
   "metadata": {},
   "outputs": [],
   "source": [
    "all_letterboxd.reset_index(drop=True, inplace=True)"
   ]
  },
  {
   "cell_type": "code",
   "execution_count": 28,
   "metadata": {},
   "outputs": [],
   "source": [
    "all_letterboxd.to_csv(\"../all_letterboxd.csv\")"
   ]
  },
  {
   "cell_type": "code",
   "execution_count": 29,
   "metadata": {},
   "outputs": [],
   "source": [
    "all_letterboxd.to_csv(\"../../../github/films/data/all_letterboxd.csv\")"
   ]
  },
  {
   "cell_type": "markdown",
   "metadata": {},
   "source": [
    "# Directors"
   ]
  },
  {
   "cell_type": "code",
   "execution_count": 30,
   "metadata": {},
   "outputs": [],
   "source": [
    "directors = all_letterboxd[\"director\"].str.split(\",\", expand=True)"
   ]
  },
  {
   "cell_type": "code",
   "execution_count": 31,
   "metadata": {},
   "outputs": [],
   "source": [
    "directors = directors.unstack().reset_index(name=\"director\")"
   ]
  },
  {
   "cell_type": "code",
   "execution_count": 32,
   "metadata": {},
   "outputs": [],
   "source": [
    "directors.drop(columns=[\"level_0\", \"level_1\"], inplace=True)"
   ]
  },
  {
   "cell_type": "code",
   "execution_count": 33,
   "metadata": {},
   "outputs": [],
   "source": [
    "directors[\"director\"] = directors[\"director\"].str.strip()"
   ]
  },
  {
   "cell_type": "code",
   "execution_count": 34,
   "metadata": {},
   "outputs": [],
   "source": [
    "directors.dropna(inplace=True)"
   ]
  },
  {
   "cell_type": "code",
   "execution_count": 35,
   "metadata": {},
   "outputs": [],
   "source": [
    "directors[\"count\"] = 1"
   ]
  },
  {
   "cell_type": "code",
   "execution_count": 36,
   "metadata": {},
   "outputs": [],
   "source": [
    "directors = pd.DataFrame(directors.groupby(\"director\")[\"count\"].sum())"
   ]
  },
  {
   "cell_type": "code",
   "execution_count": 37,
   "metadata": {},
   "outputs": [],
   "source": [
    "directors.sort_values(by=\"count\", ascending=False, inplace=True)"
   ]
  },
  {
   "cell_type": "code",
   "execution_count": 38,
   "metadata": {},
   "outputs": [],
   "source": [
    "directors = directors[:20]"
   ]
  },
  {
   "cell_type": "code",
   "execution_count": 39,
   "metadata": {},
   "outputs": [],
   "source": [
    "directors.to_csv(\"../directors.csv\")"
   ]
  },
  {
   "cell_type": "code",
   "execution_count": 40,
   "metadata": {},
   "outputs": [],
   "source": [
    "directors.to_csv(\"../../../github/films/data/directors.csv\")"
   ]
  },
  {
   "cell_type": "code",
   "execution_count": 41,
   "metadata": {},
   "outputs": [
    {
     "output_type": "execute_result",
     "data": {
      "text/plain": [
       "                                               title  rating  \\\n",
       "0                                    American Beauty       7   \n",
       "1                              A Cock and Bull Story       7   \n",
       "2  No Manifesto: A Film About Manic Street Preachers       7   \n",
       "3                                         Black Swan       7   \n",
       "4                                       The Departed       7   \n",
       "\n",
       "                 director  \n",
       "0              Sam Mendes  \n",
       "1    Michael Winterbottom  \n",
       "2  Director not specified  \n",
       "3        Darren Aronofsky  \n",
       "4         Martin Scorsese  "
      ],
      "text/html": "<div>\n<style scoped>\n    .dataframe tbody tr th:only-of-type {\n        vertical-align: middle;\n    }\n\n    .dataframe tbody tr th {\n        vertical-align: top;\n    }\n\n    .dataframe thead th {\n        text-align: right;\n    }\n</style>\n<table border=\"1\" class=\"dataframe\">\n  <thead>\n    <tr style=\"text-align: right;\">\n      <th></th>\n      <th>title</th>\n      <th>rating</th>\n      <th>director</th>\n    </tr>\n  </thead>\n  <tbody>\n    <tr>\n      <th>0</th>\n      <td>American Beauty</td>\n      <td>7</td>\n      <td>Sam Mendes</td>\n    </tr>\n    <tr>\n      <th>1</th>\n      <td>A Cock and Bull Story</td>\n      <td>7</td>\n      <td>Michael Winterbottom</td>\n    </tr>\n    <tr>\n      <th>2</th>\n      <td>No Manifesto: A Film About Manic Street Preachers</td>\n      <td>7</td>\n      <td>Director not specified</td>\n    </tr>\n    <tr>\n      <th>3</th>\n      <td>Black Swan</td>\n      <td>7</td>\n      <td>Darren Aronofsky</td>\n    </tr>\n    <tr>\n      <th>4</th>\n      <td>The Departed</td>\n      <td>7</td>\n      <td>Martin Scorsese</td>\n    </tr>\n  </tbody>\n</table>\n</div>"
     },
     "metadata": {},
     "execution_count": 41
    }
   ],
   "source": [
    "dir_bar = all_letterboxd.iloc[:,[0, 2, 5]]\n",
    "dir_bar.head()"
   ]
  },
  {
   "cell_type": "code",
   "execution_count": 42,
   "metadata": {},
   "outputs": [],
   "source": [
    "dir_bar = dir_bar.assign(director=dir_bar[\"director\"].str.split(\",\")).explode(\"director\")"
   ]
  },
  {
   "cell_type": "code",
   "execution_count": 43,
   "metadata": {},
   "outputs": [],
   "source": [
    "dir_bar[\"director\"] = dir_bar[\"director\"].str.strip()"
   ]
  },
  {
   "cell_type": "code",
   "execution_count": 44,
   "metadata": {},
   "outputs": [],
   "source": [
    "pivot = pd.pivot_table(dir_bar, index=[\"director\"], columns=[\"title\"], margins=True, aggfunc=[np.mean, len])"
   ]
  },
  {
   "cell_type": "code",
   "execution_count": 45,
   "metadata": {},
   "outputs": [],
   "source": [
    "pivot = pivot.stack(\"title\")"
   ]
  },
  {
   "cell_type": "code",
   "execution_count": 46,
   "metadata": {},
   "outputs": [],
   "source": [
    "pivot = pivot.reset_index()"
   ]
  },
  {
   "cell_type": "code",
   "execution_count": 47,
   "metadata": {},
   "outputs": [],
   "source": [
    "pivot = pivot.loc[pivot.director != \"All\"]"
   ]
  },
  {
   "cell_type": "code",
   "execution_count": 48,
   "metadata": {},
   "outputs": [],
   "source": [
    "pivot.columns = pivot.columns.droplevel(1)"
   ]
  },
  {
   "cell_type": "code",
   "execution_count": 49,
   "metadata": {},
   "outputs": [
    {
     "output_type": "execute_result",
     "data": {
      "text/plain": [
       "              director                   title  len  mean\n",
       "0     Abbas Kiarostami                     All  4.0   8.0\n",
       "1     Abbas Kiarostami          Certified Copy  1.0   8.0\n",
       "2     Abbas Kiarostami                Close-Up  1.0   9.0\n",
       "3     Abbas Kiarostami         Taste of Cherry  1.0   7.0\n",
       "4     Abbas Kiarostami  The Wind Will Carry Us  1.0   8.0\n",
       "...                ...                     ...  ...   ...\n",
       "2011       Éric Rohmer      Full Moon in Paris  1.0   7.0\n",
       "2012       Éric Rohmer      My Night at Maud's  1.0   8.0\n",
       "2013       Éric Rohmer    Pauline at the Beach  1.0   8.0\n",
       "2014       Éric Rohmer      The Aviator's Wife  1.0   8.0\n",
       "2015       Éric Rohmer           The Green Ray  1.0   8.0\n",
       "\n",
       "[2016 rows x 4 columns]"
      ],
      "text/html": "<div>\n<style scoped>\n    .dataframe tbody tr th:only-of-type {\n        vertical-align: middle;\n    }\n\n    .dataframe tbody tr th {\n        vertical-align: top;\n    }\n\n    .dataframe thead th {\n        text-align: right;\n    }\n</style>\n<table border=\"1\" class=\"dataframe\">\n  <thead>\n    <tr style=\"text-align: right;\">\n      <th></th>\n      <th>director</th>\n      <th>title</th>\n      <th>len</th>\n      <th>mean</th>\n    </tr>\n  </thead>\n  <tbody>\n    <tr>\n      <th>0</th>\n      <td>Abbas Kiarostami</td>\n      <td>All</td>\n      <td>4.0</td>\n      <td>8.0</td>\n    </tr>\n    <tr>\n      <th>1</th>\n      <td>Abbas Kiarostami</td>\n      <td>Certified Copy</td>\n      <td>1.0</td>\n      <td>8.0</td>\n    </tr>\n    <tr>\n      <th>2</th>\n      <td>Abbas Kiarostami</td>\n      <td>Close-Up</td>\n      <td>1.0</td>\n      <td>9.0</td>\n    </tr>\n    <tr>\n      <th>3</th>\n      <td>Abbas Kiarostami</td>\n      <td>Taste of Cherry</td>\n      <td>1.0</td>\n      <td>7.0</td>\n    </tr>\n    <tr>\n      <th>4</th>\n      <td>Abbas Kiarostami</td>\n      <td>The Wind Will Carry Us</td>\n      <td>1.0</td>\n      <td>8.0</td>\n    </tr>\n    <tr>\n      <th>...</th>\n      <td>...</td>\n      <td>...</td>\n      <td>...</td>\n      <td>...</td>\n    </tr>\n    <tr>\n      <th>2011</th>\n      <td>Éric Rohmer</td>\n      <td>Full Moon in Paris</td>\n      <td>1.0</td>\n      <td>7.0</td>\n    </tr>\n    <tr>\n      <th>2012</th>\n      <td>Éric Rohmer</td>\n      <td>My Night at Maud's</td>\n      <td>1.0</td>\n      <td>8.0</td>\n    </tr>\n    <tr>\n      <th>2013</th>\n      <td>Éric Rohmer</td>\n      <td>Pauline at the Beach</td>\n      <td>1.0</td>\n      <td>8.0</td>\n    </tr>\n    <tr>\n      <th>2014</th>\n      <td>Éric Rohmer</td>\n      <td>The Aviator's Wife</td>\n      <td>1.0</td>\n      <td>8.0</td>\n    </tr>\n    <tr>\n      <th>2015</th>\n      <td>Éric Rohmer</td>\n      <td>The Green Ray</td>\n      <td>1.0</td>\n      <td>8.0</td>\n    </tr>\n  </tbody>\n</table>\n<p>2016 rows × 4 columns</p>\n</div>"
     },
     "metadata": {},
     "execution_count": 49
    }
   ],
   "source": [
    "pivot"
   ]
  },
  {
   "cell_type": "code",
   "execution_count": 50,
   "metadata": {},
   "outputs": [],
   "source": [
    "pivot.to_csv(\"../test.csv\", index=False)"
   ]
  },
  {
   "cell_type": "code",
   "execution_count": 51,
   "metadata": {},
   "outputs": [],
   "source": [
    "pivot.to_csv(\"../../../github/films/data/test.csv\", index=False)"
   ]
  },
  {
   "cell_type": "code",
   "execution_count": 52,
   "metadata": {},
   "outputs": [],
   "source": [
    "dir_bar.to_csv(\"../dir_bar.csv\", index=False)"
   ]
  },
  {
   "cell_type": "code",
   "execution_count": 53,
   "metadata": {},
   "outputs": [],
   "source": [
    "dir_bar.to_csv(\"../../../github/films/data/dir_bar.csv\", index=False)"
   ]
  },
  {
   "cell_type": "markdown",
   "metadata": {},
   "source": [
    "# Decade"
   ]
  },
  {
   "cell_type": "code",
   "execution_count": 54,
   "metadata": {},
   "outputs": [
    {
     "output_type": "execute_result",
     "data": {
      "text/plain": [
       "        count  avg_rating\n",
       "decade                   \n",
       "1910s       5    7.200000\n",
       "1920s      24    7.583333\n",
       "1930s      27    7.333333\n",
       "1940s      50    7.440000\n",
       "1950s     102    7.617647\n",
       "1960s     144    7.562500\n",
       "1970s     184    7.527174\n",
       "1980s     172    7.296512\n",
       "1990s     149    7.382550\n",
       "2000s     163    7.190184\n",
       "2010s     295    6.993220\n",
       "2020s       2    7.500000"
      ],
      "text/html": "<div>\n<style scoped>\n    .dataframe tbody tr th:only-of-type {\n        vertical-align: middle;\n    }\n\n    .dataframe tbody tr th {\n        vertical-align: top;\n    }\n\n    .dataframe thead th {\n        text-align: right;\n    }\n</style>\n<table border=\"1\" class=\"dataframe\">\n  <thead>\n    <tr style=\"text-align: right;\">\n      <th></th>\n      <th>count</th>\n      <th>avg_rating</th>\n    </tr>\n    <tr>\n      <th>decade</th>\n      <th></th>\n      <th></th>\n    </tr>\n  </thead>\n  <tbody>\n    <tr>\n      <th>1910s</th>\n      <td>5</td>\n      <td>7.200000</td>\n    </tr>\n    <tr>\n      <th>1920s</th>\n      <td>24</td>\n      <td>7.583333</td>\n    </tr>\n    <tr>\n      <th>1930s</th>\n      <td>27</td>\n      <td>7.333333</td>\n    </tr>\n    <tr>\n      <th>1940s</th>\n      <td>50</td>\n      <td>7.440000</td>\n    </tr>\n    <tr>\n      <th>1950s</th>\n      <td>102</td>\n      <td>7.617647</td>\n    </tr>\n    <tr>\n      <th>1960s</th>\n      <td>144</td>\n      <td>7.562500</td>\n    </tr>\n    <tr>\n      <th>1970s</th>\n      <td>184</td>\n      <td>7.527174</td>\n    </tr>\n    <tr>\n      <th>1980s</th>\n      <td>172</td>\n      <td>7.296512</td>\n    </tr>\n    <tr>\n      <th>1990s</th>\n      <td>149</td>\n      <td>7.382550</td>\n    </tr>\n    <tr>\n      <th>2000s</th>\n      <td>163</td>\n      <td>7.190184</td>\n    </tr>\n    <tr>\n      <th>2010s</th>\n      <td>295</td>\n      <td>6.993220</td>\n    </tr>\n    <tr>\n      <th>2020s</th>\n      <td>2</td>\n      <td>7.500000</td>\n    </tr>\n  </tbody>\n</table>\n</div>"
     },
     "metadata": {},
     "execution_count": 54
    }
   ],
   "source": [
    "decade = all_letterboxd.groupby(\"decade\").agg({\"title\": \"size\", \"rating\": \"mean\"}).rename(columns={\"title\": \"count\", \"rating\": \"avg_rating\"})\n",
    "decade"
   ]
  },
  {
   "cell_type": "code",
   "execution_count": 55,
   "metadata": {},
   "outputs": [],
   "source": [
    "decade.to_csv(\"../decade_breakdown.csv\")"
   ]
  },
  {
   "cell_type": "code",
   "execution_count": 56,
   "metadata": {},
   "outputs": [],
   "source": [
    "decade.to_csv(\"../../../github/films/data/decade_breakdown.csv\")"
   ]
  },
  {
   "cell_type": "markdown",
   "metadata": {},
   "source": [
    "# Release Year"
   ]
  },
  {
   "cell_type": "code",
   "execution_count": 57,
   "metadata": {},
   "outputs": [],
   "source": [
    "release_year = all_letterboxd.iloc[:, [0, 1]]"
   ]
  },
  {
   "cell_type": "code",
   "execution_count": 58,
   "metadata": {},
   "outputs": [],
   "source": [
    "min_year = release_year[\"year\"].min()"
   ]
  },
  {
   "cell_type": "code",
   "execution_count": 59,
   "metadata": {},
   "outputs": [],
   "source": [
    "max_year = release_year[\"year\"].max()"
   ]
  },
  {
   "cell_type": "code",
   "execution_count": 60,
   "metadata": {},
   "outputs": [],
   "source": [
    "year_range = np.arange(min_year, max_year + 1)"
   ]
  },
  {
   "cell_type": "code",
   "execution_count": 61,
   "metadata": {},
   "outputs": [],
   "source": [
    "release_year_group = release_year.groupby([\"year\"]).count()"
   ]
  },
  {
   "cell_type": "code",
   "execution_count": 62,
   "metadata": {},
   "outputs": [],
   "source": [
    "release_year_group = release_year_group.reindex(year_range).fillna(0)"
   ]
  },
  {
   "cell_type": "code",
   "execution_count": 63,
   "metadata": {},
   "outputs": [],
   "source": [
    "release_year_group.to_csv(\"../release_year.csv\")"
   ]
  },
  {
   "cell_type": "code",
   "execution_count": 64,
   "metadata": {},
   "outputs": [],
   "source": [
    "release_year_group.to_csv(\"../../../github/films/data/release_year.csv\")"
   ]
  },
  {
   "cell_type": "markdown",
   "metadata": {},
   "source": [
    "# Watch date"
   ]
  },
  {
   "cell_type": "code",
   "execution_count": 65,
   "metadata": {},
   "outputs": [],
   "source": [
    "w_date = all_letterboxd.set_index(\"date_rated\")"
   ]
  },
  {
   "cell_type": "code",
   "execution_count": 66,
   "metadata": {},
   "outputs": [],
   "source": [
    "w_date = w_date.groupby(\"date_rated\").count()"
   ]
  },
  {
   "cell_type": "code",
   "execution_count": 67,
   "metadata": {},
   "outputs": [],
   "source": [
    "w_date = pd.DataFrame(w_date.iloc[:, 1])"
   ]
  },
  {
   "cell_type": "code",
   "execution_count": 68,
   "metadata": {},
   "outputs": [],
   "source": [
    "first_w_date = pd.Timestamp(\"2015-04-25\")\n",
    "last_w_date = w_date.index.max()"
   ]
  },
  {
   "cell_type": "code",
   "execution_count": 69,
   "metadata": {},
   "outputs": [],
   "source": [
    "w_date_range = pd.date_range(start=first_w_date, end=last_w_date)"
   ]
  },
  {
   "cell_type": "code",
   "execution_count": 70,
   "metadata": {},
   "outputs": [],
   "source": [
    "w_date = w_date.reindex(w_date_range).fillna(0)"
   ]
  },
  {
   "cell_type": "code",
   "execution_count": 71,
   "metadata": {},
   "outputs": [],
   "source": [
    "monthly = w_date.groupby(pd.Grouper(freq=\"MS\")).sum()"
   ]
  },
  {
   "cell_type": "code",
   "execution_count": 72,
   "metadata": {},
   "outputs": [],
   "source": [
    "monthly.rename(columns={\"year\": \"count\"}, inplace=True)"
   ]
  },
  {
   "cell_type": "code",
   "execution_count": 73,
   "metadata": {},
   "outputs": [],
   "source": [
    "monthly.to_csv(\"../watch_date.csv\", index_label=\"date\")"
   ]
  },
  {
   "cell_type": "code",
   "execution_count": 74,
   "metadata": {},
   "outputs": [],
   "source": [
    "monthly.to_csv(\"../../../github/films/data/watch_date.csv\", index_label=\"date\")"
   ]
  },
  {
   "cell_type": "markdown",
   "metadata": {},
   "source": [
    "# Genres"
   ]
  },
  {
   "cell_type": "code",
   "execution_count": 75,
   "metadata": {},
   "outputs": [],
   "source": [
    "genres = all_letterboxd.iloc[:, [0, 7]]"
   ]
  },
  {
   "cell_type": "code",
   "execution_count": 76,
   "metadata": {},
   "outputs": [],
   "source": [
    "genres = genres.assign(genre=genres[\"genre\"].str.split(\", \")).explode(\"genre\")"
   ]
  },
  {
   "cell_type": "code",
   "execution_count": 77,
   "metadata": {},
   "outputs": [],
   "source": [
    "genres.drop(columns=\"title\", inplace=True)"
   ]
  },
  {
   "cell_type": "code",
   "execution_count": 78,
   "metadata": {},
   "outputs": [],
   "source": [
    "genres = genres.drop_duplicates().dropna()"
   ]
  },
  {
   "cell_type": "code",
   "execution_count": 79,
   "metadata": {},
   "outputs": [],
   "source": [
    "genres = genres[genres[\"genre\"] != \"Tv Movie\"]"
   ]
  },
  {
   "cell_type": "code",
   "execution_count": 80,
   "metadata": {},
   "outputs": [],
   "source": [
    "genres = genres[genres[\"genre\"] != \"Genre not specified\"]"
   ]
  },
  {
   "cell_type": "code",
   "execution_count": 81,
   "metadata": {},
   "outputs": [],
   "source": [
    "genres = genres.sort_values(\"genre\")"
   ]
  },
  {
   "cell_type": "code",
   "execution_count": 82,
   "metadata": {},
   "outputs": [],
   "source": [
    "genres.to_csv(\"../genre_list.csv\", index=False)"
   ]
  },
  {
   "cell_type": "code",
   "execution_count": 83,
   "metadata": {},
   "outputs": [],
   "source": [
    "genres.to_csv(\"../../../github/films/data/genre_list.csv\", index=False)"
   ]
  },
  {
   "cell_type": "markdown",
   "metadata": {},
   "source": [
    "# Countries"
   ]
  },
  {
   "cell_type": "code",
   "execution_count": 84,
   "metadata": {},
   "outputs": [],
   "source": [
    "countries = all_letterboxd.iloc[:, [0, 6]]"
   ]
  },
  {
   "cell_type": "code",
   "execution_count": 85,
   "metadata": {},
   "outputs": [],
   "source": [
    "countries = countries.assign(country=countries[\"country\"].str.split(\",\")).explode(\"country\")"
   ]
  },
  {
   "cell_type": "code",
   "execution_count": 86,
   "metadata": {},
   "outputs": [],
   "source": [
    "countries.drop(columns=\"title\", inplace=True)"
   ]
  },
  {
   "cell_type": "code",
   "execution_count": 87,
   "metadata": {},
   "outputs": [],
   "source": [
    "countries = countries.drop_duplicates().dropna()"
   ]
  },
  {
   "cell_type": "code",
   "execution_count": 88,
   "metadata": {},
   "outputs": [],
   "source": [
    "countries.sort_values(by=\"country\", inplace=True)"
   ]
  },
  {
   "cell_type": "code",
   "execution_count": 89,
   "metadata": {},
   "outputs": [],
   "source": [
    "countries.to_csv(\"../countries.csv\", index=False)"
   ]
  },
  {
   "cell_type": "code",
   "execution_count": 90,
   "metadata": {},
   "outputs": [],
   "source": [
    "countries.to_csv(\"../../../github/films/data/countries.csv\", index=False)"
   ]
  },
  {
   "cell_type": "code",
   "execution_count": null,
   "metadata": {},
   "outputs": [],
   "source": []
  }
 ],
 "metadata": {
  "kernelspec": {
   "display_name": "Python 3",
   "language": "python",
   "name": "python3"
  },
  "language_info": {
   "codemirror_mode": {
    "name": "ipython",
    "version": 3
   },
   "file_extension": ".py",
   "mimetype": "text/x-python",
   "name": "python",
   "nbconvert_exporter": "python",
   "pygments_lexer": "ipython3",
   "version": "3.7.5-final"
  }
 },
 "nbformat": 4,
 "nbformat_minor": 2
}