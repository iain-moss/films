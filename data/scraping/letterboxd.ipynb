{
 "cells": [
  {
   "cell_type": "code",
   "execution_count": 69,
   "metadata": {},
   "outputs": [],
   "source": [
    "import pandas as pd\n",
    "from datetime import datetime\n",
    "import numpy as np\n",
    "# import scrapy\n",
    "# from scrapy.crawler import CrawlerProcess"
   ]
  },
  {
   "cell_type": "code",
   "execution_count": 70,
   "metadata": {},
   "outputs": [],
   "source": [
    "# class CareerhubSpider(scrapy.Spider):\n",
    "#     name = 'letterboxd'\n",
    "#     allowed_domains = ['letterboxd.com']\n",
    "#     start_urls = ['https://letterboxd.com/iainm/films/diary/']\n",
    "\n",
    "#     def parse(self, response):\n",
    "#         links = response.css('#diary-table > tbody > tr > td.td-film-details > h3 > a::attr(href)').extract()\n",
    "#         ratings = response.css('#diary-table > tbody > tr > td.td-rating.rating-green > div > span::attr(class)').extract()\n",
    "#         rating_dates = response.css('#diary-table > tbody > tr > td.td-day.diary-day.center > a::attr(href)').extract()\n",
    "\n",
    "#         for link, rating, rating_date in zip(links, ratings, rating_dates):\n",
    "#             link = response.urljoin(link)\n",
    "#             yield scrapy.Request(url=link, callback=self.parse_review, meta={'rating': rating, 'date_rated': rating_date})\n",
    "\n",
    "#         next_page = response.css(\n",
    "#             'a.next::attr(href)').extract_first()\n",
    "#         if next_page:\n",
    "#             next_page = response.urljoin(next_page)\n",
    "#             yield scrapy.Request(next_page, callback=self.parse)\n",
    "\n",
    "#     def parse_review(self, response):\n",
    "#         title_links = response.css('#content > div > div > section > section > section > h2 > span.film-title-wrapper > a::attr(href)').extract()\n",
    "        \n",
    "#         for title_link in title_links:\n",
    "#             title_link = response.urljoin(title_link)\n",
    "#             yield scrapy.Request(url=title_link, callback=self.parse_details, meta={'rating': response.meta['rating'], 'date_rated': response.meta['date_rated']})\n",
    "\n",
    "#     def parse_details(self, response):\n",
    "#         yield {\n",
    "#             'title': response.css('#featured-film-header > h1::text').extract_first(),\n",
    "#             'year': response.css('#featured-film-header > p > small > a::text').extract_first(),\n",
    "#             'rating': response.meta['rating'],\n",
    "#             'date_rated': response.meta['date_rated'],\n",
    "#             'duration': response.css('#film-page-wrapper > div.col-17 > section.section.col-10.col-main > p::text').extract_first().strip(),\n",
    "#             'director': response.xpath('//a[contains(@class, \"text-slug\") and contains(@href, \"director\")]/text()').extract(),\n",
    "#             'country': response.xpath('//a[contains(@class, \"text-slug\") and contains(@href, \"films/country\")]/text()').extract(),\n",
    "#             'genre': response.xpath('//a[contains(@class, \"text-slug\") and contains(@href, \"/films/genre\")]/text()').extract(),\n",
    "#             'actors': response.css('#tab-cast > div > p > a::text').extract(),\n",
    "#             'image': response.css('#js-poster-col img::attr(src)').extract_first(),\n",
    "#             'backdrop': response.css(\"#backdrop::attr(data-backdrop)\").extract_first(),\n",
    "#             'summary': response.css('div.truncate > p::text').extract_first()\n",
    "#         }"
   ]
  },
  {
   "cell_type": "code",
   "execution_count": 71,
   "metadata": {},
   "outputs": [
    {
     "data": {
      "text/html": [
       "<div>\n",
       "<style scoped>\n",
       "    .dataframe tbody tr th:only-of-type {\n",
       "        vertical-align: middle;\n",
       "    }\n",
       "\n",
       "    .dataframe tbody tr th {\n",
       "        vertical-align: top;\n",
       "    }\n",
       "\n",
       "    .dataframe thead th {\n",
       "        text-align: right;\n",
       "    }\n",
       "</style>\n",
       "<table border=\"1\" class=\"dataframe\">\n",
       "  <thead>\n",
       "    <tr style=\"text-align: right;\">\n",
       "      <th></th>\n",
       "      <th>title</th>\n",
       "      <th>year</th>\n",
       "      <th>rating</th>\n",
       "      <th>date_rated</th>\n",
       "      <th>duration</th>\n",
       "      <th>director</th>\n",
       "      <th>country</th>\n",
       "      <th>genre</th>\n",
       "      <th>actors</th>\n",
       "      <th>image</th>\n",
       "      <th>backdrop</th>\n",
       "      <th>summary</th>\n",
       "    </tr>\n",
       "  </thead>\n",
       "  <tbody>\n",
       "    <tr>\n",
       "      <th>0</th>\n",
       "      <td>The Cremator</td>\n",
       "      <td>1969</td>\n",
       "      <td>rating rated-7</td>\n",
       "      <td>/iainm/films/diary/for/2020/07/05/</td>\n",
       "      <td>100 mins  \\n\\t\\t\\t\\t\\n\\t\\t\\t\\t\\tMore details at</td>\n",
       "      <td>Juraj Herz</td>\n",
       "      <td>NaN</td>\n",
       "      <td>thriller,horror,drama</td>\n",
       "      <td>Jiří Menzel,Rudolf Hrušínský,Vlasta Chramostov...</td>\n",
       "      <td>https://a.ltrbxd.com/resized/film-poster/4/0/4...</td>\n",
       "      <td>https://a.ltrbxd.com/resized/sm/upload/1s/fo/5...</td>\n",
       "      <td>Kopfrkingl enjoys his job at a crematorium in ...</td>\n",
       "    </tr>\n",
       "    <tr>\n",
       "      <th>1</th>\n",
       "      <td>Hero</td>\n",
       "      <td>2002</td>\n",
       "      <td>rating rated-7</td>\n",
       "      <td>/iainm/films/diary/for/2020/05/30/</td>\n",
       "      <td>99 mins  \\n\\t\\t\\t\\t\\n\\t\\t\\t\\t\\tMore details at</td>\n",
       "      <td>Zhang Yimou</td>\n",
       "      <td>China</td>\n",
       "      <td>drama,history,adventure,action</td>\n",
       "      <td>Jet Li,Tony Leung Chiu-Wai,Maggie Cheung,Donni...</td>\n",
       "      <td>https://a.ltrbxd.com/resized/sm/upload/ox/qe/4...</td>\n",
       "      <td>https://a.ltrbxd.com/resized/sm/upload/fs/r4/p...</td>\n",
       "      <td>One man defeated three assassins who sought to...</td>\n",
       "    </tr>\n",
       "    <tr>\n",
       "      <th>2</th>\n",
       "      <td>The Emigrants</td>\n",
       "      <td>1971</td>\n",
       "      <td>rating rated-8</td>\n",
       "      <td>/iainm/films/diary/for/2020/05/30/</td>\n",
       "      <td>191 mins  \\n\\t\\t\\t\\t\\n\\t\\t\\t\\t\\tMore details at</td>\n",
       "      <td>Jan Troell</td>\n",
       "      <td>Sweden</td>\n",
       "      <td>drama,history</td>\n",
       "      <td>Max von Sydow,Liv Ullmann,Allan Edwall,Eddie A...</td>\n",
       "      <td>https://a.ltrbxd.com/resized/film-poster/2/4/2...</td>\n",
       "      <td>https://a.ltrbxd.com/resized/sm/upload/t5/8s/c...</td>\n",
       "      <td>A Swedish peasant family, ravaged by poverty, ...</td>\n",
       "    </tr>\n",
       "    <tr>\n",
       "      <th>3</th>\n",
       "      <td>Faces Places</td>\n",
       "      <td>2017</td>\n",
       "      <td>rating rated-7</td>\n",
       "      <td>/iainm/films/diary/for/2020/05/26/</td>\n",
       "      <td>89 mins  \\n\\t\\t\\t\\t\\n\\t\\t\\t\\t\\tMore details at</td>\n",
       "      <td>Agnès Varda,JR</td>\n",
       "      <td>France</td>\n",
       "      <td>documentary</td>\n",
       "      <td>Agnès Varda,JR</td>\n",
       "      <td>https://a.ltrbxd.com/resized/film-poster/3/8/4...</td>\n",
       "      <td>https://a.ltrbxd.com/resized/sm/upload/ps/37/l...</td>\n",
       "      <td>Director Agnès Varda and photographer/muralist...</td>\n",
       "    </tr>\n",
       "    <tr>\n",
       "      <th>4</th>\n",
       "      <td>The Decline of Western Civilization Part III</td>\n",
       "      <td>1998</td>\n",
       "      <td>rating rated-8</td>\n",
       "      <td>/iainm/films/diary/for/2020/06/05/</td>\n",
       "      <td>86 mins  \\n\\t\\t\\t\\t\\n\\t\\t\\t\\t\\tMore details at</td>\n",
       "      <td>Penelope Spheeris</td>\n",
       "      <td>USA</td>\n",
       "      <td>music,documentary</td>\n",
       "      <td>Rick Wilder,Flea,Stephen Chambers,Gary Fredo</td>\n",
       "      <td>https://a.ltrbxd.com/resized/film-poster/2/0/3...</td>\n",
       "      <td>https://a.ltrbxd.com/resized/sm/upload/g2/xh/0...</td>\n",
       "      <td>The Decline of Western Civilization III is a 1...</td>\n",
       "    </tr>\n",
       "  </tbody>\n",
       "</table>\n",
       "</div>"
      ],
      "text/plain": [
       "                                          title  year          rating  \\\n",
       "0                                  The Cremator  1969  rating rated-7   \n",
       "1                                          Hero  2002  rating rated-7   \n",
       "2                                 The Emigrants  1971  rating rated-8   \n",
       "3                                  Faces Places  2017  rating rated-7   \n",
       "4  The Decline of Western Civilization Part III  1998  rating rated-8   \n",
       "\n",
       "                           date_rated  \\\n",
       "0  /iainm/films/diary/for/2020/07/05/   \n",
       "1  /iainm/films/diary/for/2020/05/30/   \n",
       "2  /iainm/films/diary/for/2020/05/30/   \n",
       "3  /iainm/films/diary/for/2020/05/26/   \n",
       "4  /iainm/films/diary/for/2020/06/05/   \n",
       "\n",
       "                                          duration           director country  \\\n",
       "0  100 mins  \\n\\t\\t\\t\\t\\n\\t\\t\\t\\t\\tMore details at         Juraj Herz     NaN   \n",
       "1   99 mins  \\n\\t\\t\\t\\t\\n\\t\\t\\t\\t\\tMore details at        Zhang Yimou   China   \n",
       "2  191 mins  \\n\\t\\t\\t\\t\\n\\t\\t\\t\\t\\tMore details at         Jan Troell  Sweden   \n",
       "3   89 mins  \\n\\t\\t\\t\\t\\n\\t\\t\\t\\t\\tMore details at     Agnès Varda,JR  France   \n",
       "4   86 mins  \\n\\t\\t\\t\\t\\n\\t\\t\\t\\t\\tMore details at  Penelope Spheeris     USA   \n",
       "\n",
       "                            genre  \\\n",
       "0           thriller,horror,drama   \n",
       "1  drama,history,adventure,action   \n",
       "2                   drama,history   \n",
       "3                     documentary   \n",
       "4               music,documentary   \n",
       "\n",
       "                                              actors  \\\n",
       "0  Jiří Menzel,Rudolf Hrušínský,Vlasta Chramostov...   \n",
       "1  Jet Li,Tony Leung Chiu-Wai,Maggie Cheung,Donni...   \n",
       "2  Max von Sydow,Liv Ullmann,Allan Edwall,Eddie A...   \n",
       "3                                     Agnès Varda,JR   \n",
       "4       Rick Wilder,Flea,Stephen Chambers,Gary Fredo   \n",
       "\n",
       "                                               image  \\\n",
       "0  https://a.ltrbxd.com/resized/film-poster/4/0/4...   \n",
       "1  https://a.ltrbxd.com/resized/sm/upload/ox/qe/4...   \n",
       "2  https://a.ltrbxd.com/resized/film-poster/2/4/2...   \n",
       "3  https://a.ltrbxd.com/resized/film-poster/3/8/4...   \n",
       "4  https://a.ltrbxd.com/resized/film-poster/2/0/3...   \n",
       "\n",
       "                                            backdrop  \\\n",
       "0  https://a.ltrbxd.com/resized/sm/upload/1s/fo/5...   \n",
       "1  https://a.ltrbxd.com/resized/sm/upload/fs/r4/p...   \n",
       "2  https://a.ltrbxd.com/resized/sm/upload/t5/8s/c...   \n",
       "3  https://a.ltrbxd.com/resized/sm/upload/ps/37/l...   \n",
       "4  https://a.ltrbxd.com/resized/sm/upload/g2/xh/0...   \n",
       "\n",
       "                                             summary  \n",
       "0  Kopfrkingl enjoys his job at a crematorium in ...  \n",
       "1  One man defeated three assassins who sought to...  \n",
       "2  A Swedish peasant family, ravaged by poverty, ...  \n",
       "3  Director Agnès Varda and photographer/muralist...  \n",
       "4  The Decline of Western Civilization III is a 1...  "
      ]
     },
     "execution_count": 71,
     "metadata": {},
     "output_type": "execute_result"
    }
   ],
   "source": [
    "df = pd.read_csv(\"letterboxd.csv\")\n",
    "df.head()"
   ]
  },
  {
   "cell_type": "code",
   "execution_count": 72,
   "metadata": {},
   "outputs": [],
   "source": [
    "df[\"rating\"] = df[\"rating\"].str.split(\"-\", expand=True)[1]"
   ]
  },
  {
   "cell_type": "code",
   "execution_count": 73,
   "metadata": {},
   "outputs": [],
   "source": [
    "df[\"date_rated\"] = df[\"date_rated\"].str[-11:].str[0:10]"
   ]
  },
  {
   "cell_type": "code",
   "execution_count": 74,
   "metadata": {},
   "outputs": [],
   "source": [
    "df[\"duration\"] = df[\"duration\"].str.split(expand=True)[0]"
   ]
  },
  {
   "cell_type": "code",
   "execution_count": 75,
   "metadata": {},
   "outputs": [],
   "source": [
    "df[\"genre\"] = df[\"genre\"].str.title()"
   ]
  },
  {
   "cell_type": "code",
   "execution_count": 76,
   "metadata": {},
   "outputs": [],
   "source": [
    "df[\"genre\"] = df[\"genre\"].str.replace(\",\", \", \")"
   ]
  },
  {
   "cell_type": "code",
   "execution_count": 77,
   "metadata": {},
   "outputs": [],
   "source": [
    "df[\"director\"] = df[\"director\"].str.replace(\",\", \", \")"
   ]
  },
  {
   "cell_type": "code",
   "execution_count": 78,
   "metadata": {},
   "outputs": [],
   "source": [
    "df['date_rated'] = pd.to_datetime(df.date_rated, format='%Y/%m/%d')"
   ]
  },
  {
   "cell_type": "code",
   "execution_count": 79,
   "metadata": {},
   "outputs": [],
   "source": [
    "df[\"decade\"] = df[\"year\"].astype(str).str[:3] + \"0s\""
   ]
  },
  {
   "cell_type": "code",
   "execution_count": 80,
   "metadata": {},
   "outputs": [],
   "source": [
    "df[[\"rating\", \"duration\"]] = df[[\"rating\", \"duration\"]].astype(int)"
   ]
  },
  {
   "cell_type": "code",
   "execution_count": 81,
   "metadata": {},
   "outputs": [],
   "source": [
    "#df = df[df[\"director\"].notnull()]\n",
    "df[\"director\"] = df[\"director\"].fillna(\"Director not specified\")"
   ]
  },
  {
   "cell_type": "code",
   "execution_count": 82,
   "metadata": {},
   "outputs": [],
   "source": [
    "df[\"actors\"] = df[\"actors\"].fillna(\"Cast not specified\")"
   ]
  },
  {
   "cell_type": "code",
   "execution_count": 83,
   "metadata": {},
   "outputs": [],
   "source": [
    "df[\"genre\"] = df[\"genre\"].fillna(\"Genre not specified\")"
   ]
  },
  {
   "cell_type": "code",
   "execution_count": 84,
   "metadata": {},
   "outputs": [],
   "source": [
    "df.set_index(\"title\", inplace=True)"
   ]
  },
  {
   "cell_type": "code",
   "execution_count": 85,
   "metadata": {},
   "outputs": [],
   "source": [
    "df.loc[[\"Teddy Bomb\"], [\"country\"]] = \"Canada\"\n",
    "df.loc[[\"Daisies\", \"Loves of a Blonde\", \"The Shop on Main Street\"], [\"country\"]] = \"Czechia\"\n",
    "df.loc[[\"Three Businessmen\"], [\"country\"]] = \"USA,Japan,Netherlands,UK\"\n",
    "df.loc[[\"That Evening Sun\"], [\"country\"]] = \"USA\"\n",
    "df.loc[[\"All Tomorrow's Parties\"], [\"country\"]] = \"UK\"\n",
    "df.loc[[\"Stalker\"], [\"country\"]] = \"Russian Federation\"\n",
    "df.loc[[\"The Cremator\"], [\"country\"]] = \"Czechia\""
   ]
  },
  {
   "cell_type": "code",
   "execution_count": 86,
   "metadata": {},
   "outputs": [],
   "source": [
    "blank_country = df.country.isnull()"
   ]
  },
  {
   "cell_type": "code",
   "execution_count": 87,
   "metadata": {},
   "outputs": [
    {
     "data": {
      "text/html": [
       "<div>\n",
       "<style scoped>\n",
       "    .dataframe tbody tr th:only-of-type {\n",
       "        vertical-align: middle;\n",
       "    }\n",
       "\n",
       "    .dataframe tbody tr th {\n",
       "        vertical-align: top;\n",
       "    }\n",
       "\n",
       "    .dataframe thead th {\n",
       "        text-align: right;\n",
       "    }\n",
       "</style>\n",
       "<table border=\"1\" class=\"dataframe\">\n",
       "  <thead>\n",
       "    <tr style=\"text-align: right;\">\n",
       "      <th></th>\n",
       "      <th>year</th>\n",
       "      <th>rating</th>\n",
       "      <th>date_rated</th>\n",
       "      <th>duration</th>\n",
       "      <th>director</th>\n",
       "      <th>country</th>\n",
       "      <th>genre</th>\n",
       "      <th>actors</th>\n",
       "      <th>image</th>\n",
       "      <th>backdrop</th>\n",
       "      <th>summary</th>\n",
       "      <th>decade</th>\n",
       "    </tr>\n",
       "    <tr>\n",
       "      <th>title</th>\n",
       "      <th></th>\n",
       "      <th></th>\n",
       "      <th></th>\n",
       "      <th></th>\n",
       "      <th></th>\n",
       "      <th></th>\n",
       "      <th></th>\n",
       "      <th></th>\n",
       "      <th></th>\n",
       "      <th></th>\n",
       "      <th></th>\n",
       "      <th></th>\n",
       "    </tr>\n",
       "  </thead>\n",
       "  <tbody>\n",
       "  </tbody>\n",
       "</table>\n",
       "</div>"
      ],
      "text/plain": [
       "Empty DataFrame\n",
       "Columns: [year, rating, date_rated, duration, director, country, genre, actors, image, backdrop, summary, decade]\n",
       "Index: []"
      ]
     },
     "execution_count": 87,
     "metadata": {},
     "output_type": "execute_result"
    }
   ],
   "source": [
    "df[blank_country]"
   ]
  },
  {
   "cell_type": "code",
   "execution_count": 88,
   "metadata": {},
   "outputs": [],
   "source": [
    "df.reset_index(inplace=True)"
   ]
  },
  {
   "cell_type": "code",
   "execution_count": 90,
   "metadata": {},
   "outputs": [],
   "source": [
    "df.to_csv(\"../all_letterboxd.csv\")"
   ]
  },
  {
   "cell_type": "markdown",
   "metadata": {},
   "source": [
    "# Directors"
   ]
  },
  {
   "cell_type": "code",
   "execution_count": 54,
   "metadata": {},
   "outputs": [],
   "source": [
    "directors = df[\"director\"].str.split(\",\", expand=True)"
   ]
  },
  {
   "cell_type": "code",
   "execution_count": 55,
   "metadata": {},
   "outputs": [],
   "source": [
    "directors = directors.unstack().reset_index(name=\"director\")"
   ]
  },
  {
   "cell_type": "code",
   "execution_count": 56,
   "metadata": {},
   "outputs": [],
   "source": [
    "directors.drop(columns=[\"level_0\", \"level_1\"], inplace=True)"
   ]
  },
  {
   "cell_type": "code",
   "execution_count": 57,
   "metadata": {},
   "outputs": [],
   "source": [
    "directors[\"director\"] = directors[\"director\"].str.strip()"
   ]
  },
  {
   "cell_type": "code",
   "execution_count": 58,
   "metadata": {},
   "outputs": [],
   "source": [
    "directors.dropna(inplace=True)"
   ]
  },
  {
   "cell_type": "code",
   "execution_count": 59,
   "metadata": {},
   "outputs": [],
   "source": [
    "directors[\"count\"] = 1"
   ]
  },
  {
   "cell_type": "code",
   "execution_count": 60,
   "metadata": {},
   "outputs": [],
   "source": [
    "directors = pd.DataFrame(directors.groupby(\"director\")[\"count\"].sum())"
   ]
  },
  {
   "cell_type": "code",
   "execution_count": 61,
   "metadata": {},
   "outputs": [],
   "source": [
    "directors.sort_values(by=\"count\", ascending=False, inplace=True)"
   ]
  },
  {
   "cell_type": "code",
   "execution_count": 62,
   "metadata": {},
   "outputs": [],
   "source": [
    "directors = directors[:20]"
   ]
  },
  {
   "cell_type": "code",
   "execution_count": 63,
   "metadata": {},
   "outputs": [],
   "source": [
    "directors.to_csv(\"../directors.csv\")"
   ]
  },
  {
   "cell_type": "code",
   "execution_count": 91,
   "metadata": {},
   "outputs": [
    {
     "data": {
      "text/html": [
       "<div>\n",
       "<style scoped>\n",
       "    .dataframe tbody tr th:only-of-type {\n",
       "        vertical-align: middle;\n",
       "    }\n",
       "\n",
       "    .dataframe tbody tr th {\n",
       "        vertical-align: top;\n",
       "    }\n",
       "\n",
       "    .dataframe thead th {\n",
       "        text-align: right;\n",
       "    }\n",
       "</style>\n",
       "<table border=\"1\" class=\"dataframe\">\n",
       "  <thead>\n",
       "    <tr style=\"text-align: right;\">\n",
       "      <th></th>\n",
       "      <th>title</th>\n",
       "      <th>rating</th>\n",
       "      <th>director</th>\n",
       "    </tr>\n",
       "  </thead>\n",
       "  <tbody>\n",
       "    <tr>\n",
       "      <th>0</th>\n",
       "      <td>The Cremator</td>\n",
       "      <td>7</td>\n",
       "      <td>Juraj Herz</td>\n",
       "    </tr>\n",
       "    <tr>\n",
       "      <th>1</th>\n",
       "      <td>Hero</td>\n",
       "      <td>7</td>\n",
       "      <td>Zhang Yimou</td>\n",
       "    </tr>\n",
       "    <tr>\n",
       "      <th>2</th>\n",
       "      <td>The Emigrants</td>\n",
       "      <td>8</td>\n",
       "      <td>Jan Troell</td>\n",
       "    </tr>\n",
       "    <tr>\n",
       "      <th>3</th>\n",
       "      <td>Faces Places</td>\n",
       "      <td>7</td>\n",
       "      <td>Agnès Varda, JR</td>\n",
       "    </tr>\n",
       "    <tr>\n",
       "      <th>4</th>\n",
       "      <td>The Decline of Western Civilization Part III</td>\n",
       "      <td>8</td>\n",
       "      <td>Penelope Spheeris</td>\n",
       "    </tr>\n",
       "  </tbody>\n",
       "</table>\n",
       "</div>"
      ],
      "text/plain": [
       "                                          title  rating           director\n",
       "0                                  The Cremator       7         Juraj Herz\n",
       "1                                          Hero       7        Zhang Yimou\n",
       "2                                 The Emigrants       8         Jan Troell\n",
       "3                                  Faces Places       7    Agnès Varda, JR\n",
       "4  The Decline of Western Civilization Part III       8  Penelope Spheeris"
      ]
     },
     "execution_count": 91,
     "metadata": {},
     "output_type": "execute_result"
    }
   ],
   "source": [
    "dir_bar = df.iloc[:,[0, 2, 5]]\n",
    "dir_bar.head()"
   ]
  },
  {
   "cell_type": "code",
   "execution_count": 92,
   "metadata": {},
   "outputs": [],
   "source": [
    "dir_bar = dir_bar.assign(director=dir_bar[\"director\"].str.split(\",\")).explode(\"director\")"
   ]
  },
  {
   "cell_type": "code",
   "execution_count": 93,
   "metadata": {},
   "outputs": [],
   "source": [
    "dir_bar[\"director\"] = dir_bar[\"director\"].str.strip()"
   ]
  },
  {
   "cell_type": "code",
   "execution_count": 94,
   "metadata": {},
   "outputs": [],
   "source": [
    "pivot = pd.pivot_table(dir_bar, index=[\"director\"], columns=[\"title\"], margins=True, aggfunc=[np.mean, len])"
   ]
  },
  {
   "cell_type": "code",
   "execution_count": 95,
   "metadata": {},
   "outputs": [],
   "source": [
    "pivot = pivot.stack(\"title\")"
   ]
  },
  {
   "cell_type": "code",
   "execution_count": 96,
   "metadata": {},
   "outputs": [],
   "source": [
    "pivot = pivot.reset_index()"
   ]
  },
  {
   "cell_type": "code",
   "execution_count": 97,
   "metadata": {},
   "outputs": [],
   "source": [
    "pivot = pivot.loc[pivot.director != \"All\"]"
   ]
  },
  {
   "cell_type": "code",
   "execution_count": 98,
   "metadata": {},
   "outputs": [],
   "source": [
    "pivot.columns = pivot.columns.droplevel(1)"
   ]
  },
  {
   "cell_type": "code",
   "execution_count": 99,
   "metadata": {},
   "outputs": [
    {
     "data": {
      "text/html": [
       "<div>\n",
       "<style scoped>\n",
       "    .dataframe tbody tr th:only-of-type {\n",
       "        vertical-align: middle;\n",
       "    }\n",
       "\n",
       "    .dataframe tbody tr th {\n",
       "        vertical-align: top;\n",
       "    }\n",
       "\n",
       "    .dataframe thead th {\n",
       "        text-align: right;\n",
       "    }\n",
       "</style>\n",
       "<table border=\"1\" class=\"dataframe\">\n",
       "  <thead>\n",
       "    <tr style=\"text-align: right;\">\n",
       "      <th></th>\n",
       "      <th>director</th>\n",
       "      <th>title</th>\n",
       "      <th>len</th>\n",
       "      <th>mean</th>\n",
       "    </tr>\n",
       "  </thead>\n",
       "  <tbody>\n",
       "    <tr>\n",
       "      <th>0</th>\n",
       "      <td>Abbas Kiarostami</td>\n",
       "      <td>All</td>\n",
       "      <td>4.0</td>\n",
       "      <td>8.0</td>\n",
       "    </tr>\n",
       "    <tr>\n",
       "      <th>1</th>\n",
       "      <td>Abbas Kiarostami</td>\n",
       "      <td>Certified Copy</td>\n",
       "      <td>1.0</td>\n",
       "      <td>8.0</td>\n",
       "    </tr>\n",
       "    <tr>\n",
       "      <th>2</th>\n",
       "      <td>Abbas Kiarostami</td>\n",
       "      <td>Close-Up</td>\n",
       "      <td>1.0</td>\n",
       "      <td>9.0</td>\n",
       "    </tr>\n",
       "    <tr>\n",
       "      <th>3</th>\n",
       "      <td>Abbas Kiarostami</td>\n",
       "      <td>Taste of Cherry</td>\n",
       "      <td>1.0</td>\n",
       "      <td>7.0</td>\n",
       "    </tr>\n",
       "    <tr>\n",
       "      <th>4</th>\n",
       "      <td>Abbas Kiarostami</td>\n",
       "      <td>The Wind Will Carry Us</td>\n",
       "      <td>1.0</td>\n",
       "      <td>8.0</td>\n",
       "    </tr>\n",
       "    <tr>\n",
       "      <th>...</th>\n",
       "      <td>...</td>\n",
       "      <td>...</td>\n",
       "      <td>...</td>\n",
       "      <td>...</td>\n",
       "    </tr>\n",
       "    <tr>\n",
       "      <th>1783</th>\n",
       "      <td>Ágnes Hranitzky</td>\n",
       "      <td>Werckmeister Harmonies</td>\n",
       "      <td>1.0</td>\n",
       "      <td>7.0</td>\n",
       "    </tr>\n",
       "    <tr>\n",
       "      <th>1784</th>\n",
       "      <td>Éric Rohmer</td>\n",
       "      <td>All</td>\n",
       "      <td>3.0</td>\n",
       "      <td>8.0</td>\n",
       "    </tr>\n",
       "    <tr>\n",
       "      <th>1785</th>\n",
       "      <td>Éric Rohmer</td>\n",
       "      <td>My Night at Maud's</td>\n",
       "      <td>1.0</td>\n",
       "      <td>8.0</td>\n",
       "    </tr>\n",
       "    <tr>\n",
       "      <th>1786</th>\n",
       "      <td>Éric Rohmer</td>\n",
       "      <td>Pauline at the Beach</td>\n",
       "      <td>1.0</td>\n",
       "      <td>8.0</td>\n",
       "    </tr>\n",
       "    <tr>\n",
       "      <th>1787</th>\n",
       "      <td>Éric Rohmer</td>\n",
       "      <td>The Green Ray</td>\n",
       "      <td>1.0</td>\n",
       "      <td>8.0</td>\n",
       "    </tr>\n",
       "  </tbody>\n",
       "</table>\n",
       "<p>1788 rows × 4 columns</p>\n",
       "</div>"
      ],
      "text/plain": [
       "              director                   title  len  mean\n",
       "0     Abbas Kiarostami                     All  4.0   8.0\n",
       "1     Abbas Kiarostami          Certified Copy  1.0   8.0\n",
       "2     Abbas Kiarostami                Close-Up  1.0   9.0\n",
       "3     Abbas Kiarostami         Taste of Cherry  1.0   7.0\n",
       "4     Abbas Kiarostami  The Wind Will Carry Us  1.0   8.0\n",
       "...                ...                     ...  ...   ...\n",
       "1783   Ágnes Hranitzky  Werckmeister Harmonies  1.0   7.0\n",
       "1784       Éric Rohmer                     All  3.0   8.0\n",
       "1785       Éric Rohmer      My Night at Maud's  1.0   8.0\n",
       "1786       Éric Rohmer    Pauline at the Beach  1.0   8.0\n",
       "1787       Éric Rohmer           The Green Ray  1.0   8.0\n",
       "\n",
       "[1788 rows x 4 columns]"
      ]
     },
     "execution_count": 99,
     "metadata": {},
     "output_type": "execute_result"
    }
   ],
   "source": [
    "pivot"
   ]
  },
  {
   "cell_type": "code",
   "execution_count": 100,
   "metadata": {},
   "outputs": [],
   "source": [
    "pivot.to_csv(\"../test.csv\", index=False)"
   ]
  },
  {
   "cell_type": "code",
   "execution_count": 101,
   "metadata": {},
   "outputs": [],
   "source": [
    "dir_bar.to_csv(\"../dir_bar.csv\", index=False)"
   ]
  },
  {
   "cell_type": "markdown",
   "metadata": {},
   "source": [
    "# Decade"
   ]
  },
  {
   "cell_type": "code",
   "execution_count": 102,
   "metadata": {},
   "outputs": [
    {
     "data": {
      "text/html": [
       "<div>\n",
       "<style scoped>\n",
       "    .dataframe tbody tr th:only-of-type {\n",
       "        vertical-align: middle;\n",
       "    }\n",
       "\n",
       "    .dataframe tbody tr th {\n",
       "        vertical-align: top;\n",
       "    }\n",
       "\n",
       "    .dataframe thead th {\n",
       "        text-align: right;\n",
       "    }\n",
       "</style>\n",
       "<table border=\"1\" class=\"dataframe\">\n",
       "  <thead>\n",
       "    <tr style=\"text-align: right;\">\n",
       "      <th></th>\n",
       "      <th>count</th>\n",
       "      <th>avg_rating</th>\n",
       "    </tr>\n",
       "    <tr>\n",
       "      <th>decade</th>\n",
       "      <th></th>\n",
       "      <th></th>\n",
       "    </tr>\n",
       "  </thead>\n",
       "  <tbody>\n",
       "    <tr>\n",
       "      <th>1910s</th>\n",
       "      <td>4</td>\n",
       "      <td>7.250000</td>\n",
       "    </tr>\n",
       "    <tr>\n",
       "      <th>1920s</th>\n",
       "      <td>23</td>\n",
       "      <td>7.565217</td>\n",
       "    </tr>\n",
       "    <tr>\n",
       "      <th>1930s</th>\n",
       "      <td>27</td>\n",
       "      <td>7.333333</td>\n",
       "    </tr>\n",
       "    <tr>\n",
       "      <th>1940s</th>\n",
       "      <td>43</td>\n",
       "      <td>7.488372</td>\n",
       "    </tr>\n",
       "    <tr>\n",
       "      <th>1950s</th>\n",
       "      <td>87</td>\n",
       "      <td>7.701149</td>\n",
       "    </tr>\n",
       "    <tr>\n",
       "      <th>1960s</th>\n",
       "      <td>130</td>\n",
       "      <td>7.607692</td>\n",
       "    </tr>\n",
       "    <tr>\n",
       "      <th>1970s</th>\n",
       "      <td>161</td>\n",
       "      <td>7.571429</td>\n",
       "    </tr>\n",
       "    <tr>\n",
       "      <th>1980s</th>\n",
       "      <td>141</td>\n",
       "      <td>7.340426</td>\n",
       "    </tr>\n",
       "    <tr>\n",
       "      <th>1990s</th>\n",
       "      <td>128</td>\n",
       "      <td>7.429688</td>\n",
       "    </tr>\n",
       "    <tr>\n",
       "      <th>2000s</th>\n",
       "      <td>139</td>\n",
       "      <td>7.230216</td>\n",
       "    </tr>\n",
       "    <tr>\n",
       "      <th>2010s</th>\n",
       "      <td>273</td>\n",
       "      <td>6.985348</td>\n",
       "    </tr>\n",
       "  </tbody>\n",
       "</table>\n",
       "</div>"
      ],
      "text/plain": [
       "        count  avg_rating\n",
       "decade                   \n",
       "1910s       4    7.250000\n",
       "1920s      23    7.565217\n",
       "1930s      27    7.333333\n",
       "1940s      43    7.488372\n",
       "1950s      87    7.701149\n",
       "1960s     130    7.607692\n",
       "1970s     161    7.571429\n",
       "1980s     141    7.340426\n",
       "1990s     128    7.429688\n",
       "2000s     139    7.230216\n",
       "2010s     273    6.985348"
      ]
     },
     "execution_count": 102,
     "metadata": {},
     "output_type": "execute_result"
    }
   ],
   "source": [
    "decade = df.groupby(\"decade\").agg({\"title\": \"size\", \"rating\": \"mean\"}).rename(columns={\"title\": \"count\", \"rating\": \"avg_rating\"})\n",
    "decade"
   ]
  },
  {
   "cell_type": "code",
   "execution_count": 103,
   "metadata": {},
   "outputs": [],
   "source": [
    "decade.to_csv(\"../decade_breakdown.csv\")"
   ]
  },
  {
   "cell_type": "markdown",
   "metadata": {},
   "source": [
    "# Release Year"
   ]
  },
  {
   "cell_type": "code",
   "execution_count": 104,
   "metadata": {},
   "outputs": [],
   "source": [
    "release_year = df.iloc[:, [0, 1]]"
   ]
  },
  {
   "cell_type": "code",
   "execution_count": 105,
   "metadata": {},
   "outputs": [],
   "source": [
    "min_year = release_year[\"year\"].min()"
   ]
  },
  {
   "cell_type": "code",
   "execution_count": 106,
   "metadata": {},
   "outputs": [],
   "source": [
    "max_year = release_year[\"year\"].max()"
   ]
  },
  {
   "cell_type": "code",
   "execution_count": 107,
   "metadata": {},
   "outputs": [],
   "source": [
    "year_range = np.arange(min_year, max_year + 1)"
   ]
  },
  {
   "cell_type": "code",
   "execution_count": 108,
   "metadata": {},
   "outputs": [],
   "source": [
    "release_year_group = release_year.groupby([\"year\"]).count()"
   ]
  },
  {
   "cell_type": "code",
   "execution_count": 109,
   "metadata": {},
   "outputs": [],
   "source": [
    "release_year_group = release_year_group.reindex(year_range).fillna(0)"
   ]
  },
  {
   "cell_type": "code",
   "execution_count": 110,
   "metadata": {},
   "outputs": [],
   "source": [
    "release_year_group.to_csv(\"../release_year.csv\")"
   ]
  },
  {
   "cell_type": "markdown",
   "metadata": {},
   "source": [
    "# Watch date"
   ]
  },
  {
   "cell_type": "code",
   "execution_count": 111,
   "metadata": {},
   "outputs": [],
   "source": [
    "w_date = df.set_index(\"date_rated\")"
   ]
  },
  {
   "cell_type": "code",
   "execution_count": 112,
   "metadata": {},
   "outputs": [],
   "source": [
    "w_date = w_date.groupby(\"date_rated\").count()"
   ]
  },
  {
   "cell_type": "code",
   "execution_count": 113,
   "metadata": {},
   "outputs": [],
   "source": [
    "w_date = pd.DataFrame(w_date.iloc[:, 1])"
   ]
  },
  {
   "cell_type": "code",
   "execution_count": 114,
   "metadata": {},
   "outputs": [],
   "source": [
    "first_w_date = pd.Timestamp(\"2015-04-25\")\n",
    "last_w_date = w_date.index.max()"
   ]
  },
  {
   "cell_type": "code",
   "execution_count": 115,
   "metadata": {},
   "outputs": [],
   "source": [
    "w_date_range = pd.date_range(start=first_w_date, end=last_w_date)"
   ]
  },
  {
   "cell_type": "code",
   "execution_count": 116,
   "metadata": {},
   "outputs": [],
   "source": [
    "w_date = w_date.reindex(w_date_range).fillna(0)"
   ]
  },
  {
   "cell_type": "code",
   "execution_count": 117,
   "metadata": {},
   "outputs": [],
   "source": [
    "monthly = w_date.groupby(pd.Grouper(freq=\"MS\")).sum()"
   ]
  },
  {
   "cell_type": "code",
   "execution_count": 118,
   "metadata": {},
   "outputs": [],
   "source": [
    "monthly.rename(columns={\"year\": \"count\"}, inplace=True)"
   ]
  },
  {
   "cell_type": "code",
   "execution_count": 119,
   "metadata": {},
   "outputs": [],
   "source": [
    "monthly.to_csv(\"../watch_date.csv\", index_label=\"date\")"
   ]
  },
  {
   "cell_type": "markdown",
   "metadata": {},
   "source": [
    "# Genres"
   ]
  },
  {
   "cell_type": "code",
   "execution_count": 120,
   "metadata": {},
   "outputs": [],
   "source": [
    "genres = df.iloc[:, [0, 7]]"
   ]
  },
  {
   "cell_type": "code",
   "execution_count": 121,
   "metadata": {},
   "outputs": [],
   "source": [
    "genres = genres.assign(genre=genres[\"genre\"].str.split(\", \")).explode(\"genre\")"
   ]
  },
  {
   "cell_type": "code",
   "execution_count": 122,
   "metadata": {},
   "outputs": [],
   "source": [
    "genres.drop(columns=\"title\", inplace=True)"
   ]
  },
  {
   "cell_type": "code",
   "execution_count": 123,
   "metadata": {},
   "outputs": [],
   "source": [
    "genres = genres.drop_duplicates().dropna()"
   ]
  },
  {
   "cell_type": "code",
   "execution_count": 124,
   "metadata": {},
   "outputs": [],
   "source": [
    "genres = genres[genres[\"genre\"] != \"Tv Movie\"]"
   ]
  },
  {
   "cell_type": "code",
   "execution_count": 125,
   "metadata": {},
   "outputs": [],
   "source": [
    "genres = genres[genres[\"genre\"] != \"Genre not specified\"]"
   ]
  },
  {
   "cell_type": "code",
   "execution_count": 126,
   "metadata": {},
   "outputs": [],
   "source": [
    "genres = genres.sort_values(\"genre\")"
   ]
  },
  {
   "cell_type": "code",
   "execution_count": 127,
   "metadata": {},
   "outputs": [],
   "source": [
    "genres.to_csv(\"../genre_list.csv\", index=False)"
   ]
  },
  {
   "cell_type": "markdown",
   "metadata": {},
   "source": [
    "# Countries"
   ]
  },
  {
   "cell_type": "code",
   "execution_count": 128,
   "metadata": {},
   "outputs": [],
   "source": [
    "countries = df.iloc[:, [0, 6]]"
   ]
  },
  {
   "cell_type": "code",
   "execution_count": 129,
   "metadata": {},
   "outputs": [],
   "source": [
    "countries = countries.assign(country=countries[\"country\"].str.split(\",\")).explode(\"country\")"
   ]
  },
  {
   "cell_type": "code",
   "execution_count": 130,
   "metadata": {},
   "outputs": [],
   "source": [
    "countries.drop(columns=\"title\", inplace=True)"
   ]
  },
  {
   "cell_type": "code",
   "execution_count": 131,
   "metadata": {},
   "outputs": [],
   "source": [
    "countries = countries.drop_duplicates().dropna()"
   ]
  },
  {
   "cell_type": "code",
   "execution_count": 132,
   "metadata": {},
   "outputs": [],
   "source": [
    "countries.sort_values(by=\"country\", inplace=True)"
   ]
  },
  {
   "cell_type": "code",
   "execution_count": 133,
   "metadata": {},
   "outputs": [],
   "source": [
    "countries.to_csv(\"../countries.csv\", index=False)"
   ]
  },
  {
   "cell_type": "code",
   "execution_count": null,
   "metadata": {},
   "outputs": [],
   "source": []
  }
 ],
 "metadata": {
  "kernelspec": {
   "display_name": "Python 3",
   "language": "python",
   "name": "python3"
  },
  "language_info": {
   "codemirror_mode": {
    "name": "ipython",
    "version": 3
   },
   "file_extension": ".py",
   "mimetype": "text/x-python",
   "name": "python",
   "nbconvert_exporter": "python",
   "pygments_lexer": "ipython3",
   "version": "3.7.5"
  }
 },
 "nbformat": 4,
 "nbformat_minor": 2
}
