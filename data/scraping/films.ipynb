{
 "cells": [
  {
   "cell_type": "code",
   "execution_count": 1,
   "metadata": {},
   "outputs": [],
   "source": [
    "import pandas as pd\n",
    "from datetime import datetime\n",
    "import numpy as np"
   ]
  },
  {
   "cell_type": "code",
   "execution_count": 2,
   "metadata": {},
   "outputs": [
    {
     "data": {
      "text/html": [
       "<div>\n",
       "<style scoped>\n",
       "    .dataframe tbody tr th:only-of-type {\n",
       "        vertical-align: middle;\n",
       "    }\n",
       "\n",
       "    .dataframe tbody tr th {\n",
       "        vertical-align: top;\n",
       "    }\n",
       "\n",
       "    .dataframe thead th {\n",
       "        text-align: right;\n",
       "    }\n",
       "</style>\n",
       "<table border=\"1\" class=\"dataframe\">\n",
       "  <thead>\n",
       "    <tr style=\"text-align: right;\">\n",
       "      <th></th>\n",
       "      <th>title</th>\n",
       "      <th>year</th>\n",
       "      <th>rating</th>\n",
       "      <th>date_rated</th>\n",
       "      <th>duration</th>\n",
       "      <th>director</th>\n",
       "      <th>country</th>\n",
       "      <th>image</th>\n",
       "    </tr>\n",
       "  </thead>\n",
       "  <tbody>\n",
       "    <tr>\n",
       "      <th>0</th>\n",
       "      <td>A Bullet for the General</td>\n",
       "      <td>1967.0</td>\n",
       "      <td>7</td>\n",
       "      <td>Rated on 08 Dec 2019</td>\n",
       "      <td>1h 55min</td>\n",
       "      <td>Damiano Damiani</td>\n",
       "      <td>Italy</td>\n",
       "      <td>https://m.media-amazon.com/images/M/MV5BYzcwYT...</td>\n",
       "    </tr>\n",
       "    <tr>\n",
       "      <th>1</th>\n",
       "      <td>Columbus</td>\n",
       "      <td>2017.0</td>\n",
       "      <td>7</td>\n",
       "      <td>Rated on 29 Aug 2019</td>\n",
       "      <td>1h 40min</td>\n",
       "      <td>Kogonada</td>\n",
       "      <td>USA</td>\n",
       "      <td>https://m.media-amazon.com/images/M/MV5BNTliZm...</td>\n",
       "    </tr>\n",
       "    <tr>\n",
       "      <th>2</th>\n",
       "      <td>Midnight in Paris</td>\n",
       "      <td>2011.0</td>\n",
       "      <td>7</td>\n",
       "      <td>Rated on 30 Aug 2019</td>\n",
       "      <td>1h 34min</td>\n",
       "      <td>Woody Allen</td>\n",
       "      <td>Spain,USA,France</td>\n",
       "      <td>https://m.media-amazon.com/images/M/MV5BMTM4Nj...</td>\n",
       "    </tr>\n",
       "    <tr>\n",
       "      <th>3</th>\n",
       "      <td>The Servant</td>\n",
       "      <td>1963.0</td>\n",
       "      <td>7</td>\n",
       "      <td>Rated on 29 Aug 2019</td>\n",
       "      <td>1h 56min</td>\n",
       "      <td>Joseph Losey</td>\n",
       "      <td>UK</td>\n",
       "      <td>https://m.media-amazon.com/images/M/MV5BZmM5OD...</td>\n",
       "    </tr>\n",
       "    <tr>\n",
       "      <th>4</th>\n",
       "      <td>La Chinoise</td>\n",
       "      <td>1967.0</td>\n",
       "      <td>8</td>\n",
       "      <td>Rated on 29 Aug 2019</td>\n",
       "      <td>1h 35min</td>\n",
       "      <td>Jean-Luc Godard</td>\n",
       "      <td>France</td>\n",
       "      <td>https://m.media-amazon.com/images/M/MV5BMjY3Nj...</td>\n",
       "    </tr>\n",
       "  </tbody>\n",
       "</table>\n",
       "</div>"
      ],
      "text/plain": [
       "                      title    year  rating            date_rated  duration  \\\n",
       "0  A Bullet for the General  1967.0       7  Rated on 08 Dec 2019  1h 55min   \n",
       "1                  Columbus  2017.0       7  Rated on 29 Aug 2019  1h 40min   \n",
       "2         Midnight in Paris  2011.0       7  Rated on 30 Aug 2019  1h 34min   \n",
       "3               The Servant  1963.0       7  Rated on 29 Aug 2019  1h 56min   \n",
       "4               La Chinoise  1967.0       8  Rated on 29 Aug 2019  1h 35min   \n",
       "\n",
       "          director           country  \\\n",
       "0  Damiano Damiani             Italy   \n",
       "1         Kogonada               USA   \n",
       "2      Woody Allen  Spain,USA,France   \n",
       "3     Joseph Losey                UK   \n",
       "4  Jean-Luc Godard            France   \n",
       "\n",
       "                                               image  \n",
       "0  https://m.media-amazon.com/images/M/MV5BYzcwYT...  \n",
       "1  https://m.media-amazon.com/images/M/MV5BNTliZm...  \n",
       "2  https://m.media-amazon.com/images/M/MV5BMTM4Nj...  \n",
       "3  https://m.media-amazon.com/images/M/MV5BZmM5OD...  \n",
       "4  https://m.media-amazon.com/images/M/MV5BMjY3Nj...  "
      ]
     },
     "execution_count": 2,
     "metadata": {},
     "output_type": "execute_result"
    }
   ],
   "source": [
    "df = pd.read_csv(\"films.csv\")\n",
    "df.head()"
   ]
  },
  {
   "cell_type": "code",
   "execution_count": 3,
   "metadata": {},
   "outputs": [],
   "source": [
    "df['duration'] = df['duration'].str.replace('h', ' hour')"
   ]
  },
  {
   "cell_type": "code",
   "execution_count": 4,
   "metadata": {},
   "outputs": [],
   "source": [
    "df['duration'] = df['duration'].str.replace('min', ' min')"
   ]
  },
  {
   "cell_type": "code",
   "execution_count": 5,
   "metadata": {},
   "outputs": [],
   "source": [
    "df['duration'] = pd.to_timedelta(df.duration)"
   ]
  },
  {
   "cell_type": "code",
   "execution_count": 6,
   "metadata": {},
   "outputs": [],
   "source": [
    "df['duration'] = df.duration.dt.total_seconds()//60"
   ]
  },
  {
   "cell_type": "code",
   "execution_count": 7,
   "metadata": {},
   "outputs": [],
   "source": [
    "df['date_rated'] = df['date_rated'].str.replace('Rated on ', '')"
   ]
  },
  {
   "cell_type": "code",
   "execution_count": 8,
   "metadata": {},
   "outputs": [],
   "source": [
    "df['date_rated'] = pd.to_datetime(df.date_rated, format='%d %b %Y')"
   ]
  },
  {
   "cell_type": "code",
   "execution_count": 9,
   "metadata": {},
   "outputs": [
    {
     "data": {
      "text/html": [
       "<div>\n",
       "<style scoped>\n",
       "    .dataframe tbody tr th:only-of-type {\n",
       "        vertical-align: middle;\n",
       "    }\n",
       "\n",
       "    .dataframe tbody tr th {\n",
       "        vertical-align: top;\n",
       "    }\n",
       "\n",
       "    .dataframe thead th {\n",
       "        text-align: right;\n",
       "    }\n",
       "</style>\n",
       "<table border=\"1\" class=\"dataframe\">\n",
       "  <thead>\n",
       "    <tr style=\"text-align: right;\">\n",
       "      <th></th>\n",
       "      <th>title</th>\n",
       "      <th>year</th>\n",
       "      <th>rating</th>\n",
       "      <th>date_rated</th>\n",
       "      <th>duration</th>\n",
       "      <th>director</th>\n",
       "      <th>country</th>\n",
       "      <th>image</th>\n",
       "    </tr>\n",
       "  </thead>\n",
       "  <tbody>\n",
       "    <tr>\n",
       "      <th>0</th>\n",
       "      <td>A Bullet for the General</td>\n",
       "      <td>1967.0</td>\n",
       "      <td>7</td>\n",
       "      <td>2019-12-08</td>\n",
       "      <td>115.0</td>\n",
       "      <td>Damiano Damiani</td>\n",
       "      <td>Italy</td>\n",
       "      <td>https://m.media-amazon.com/images/M/MV5BYzcwYT...</td>\n",
       "    </tr>\n",
       "    <tr>\n",
       "      <th>1</th>\n",
       "      <td>Columbus</td>\n",
       "      <td>2017.0</td>\n",
       "      <td>7</td>\n",
       "      <td>2019-08-29</td>\n",
       "      <td>100.0</td>\n",
       "      <td>Kogonada</td>\n",
       "      <td>USA</td>\n",
       "      <td>https://m.media-amazon.com/images/M/MV5BNTliZm...</td>\n",
       "    </tr>\n",
       "    <tr>\n",
       "      <th>2</th>\n",
       "      <td>Midnight in Paris</td>\n",
       "      <td>2011.0</td>\n",
       "      <td>7</td>\n",
       "      <td>2019-08-30</td>\n",
       "      <td>94.0</td>\n",
       "      <td>Woody Allen</td>\n",
       "      <td>Spain,USA,France</td>\n",
       "      <td>https://m.media-amazon.com/images/M/MV5BMTM4Nj...</td>\n",
       "    </tr>\n",
       "    <tr>\n",
       "      <th>3</th>\n",
       "      <td>The Servant</td>\n",
       "      <td>1963.0</td>\n",
       "      <td>7</td>\n",
       "      <td>2019-08-29</td>\n",
       "      <td>116.0</td>\n",
       "      <td>Joseph Losey</td>\n",
       "      <td>UK</td>\n",
       "      <td>https://m.media-amazon.com/images/M/MV5BZmM5OD...</td>\n",
       "    </tr>\n",
       "    <tr>\n",
       "      <th>4</th>\n",
       "      <td>La Chinoise</td>\n",
       "      <td>1967.0</td>\n",
       "      <td>8</td>\n",
       "      <td>2019-08-29</td>\n",
       "      <td>95.0</td>\n",
       "      <td>Jean-Luc Godard</td>\n",
       "      <td>France</td>\n",
       "      <td>https://m.media-amazon.com/images/M/MV5BMjY3Nj...</td>\n",
       "    </tr>\n",
       "  </tbody>\n",
       "</table>\n",
       "</div>"
      ],
      "text/plain": [
       "                      title    year  rating date_rated  duration  \\\n",
       "0  A Bullet for the General  1967.0       7 2019-12-08     115.0   \n",
       "1                  Columbus  2017.0       7 2019-08-29     100.0   \n",
       "2         Midnight in Paris  2011.0       7 2019-08-30      94.0   \n",
       "3               The Servant  1963.0       7 2019-08-29     116.0   \n",
       "4               La Chinoise  1967.0       8 2019-08-29      95.0   \n",
       "\n",
       "          director           country  \\\n",
       "0  Damiano Damiani             Italy   \n",
       "1         Kogonada               USA   \n",
       "2      Woody Allen  Spain,USA,France   \n",
       "3     Joseph Losey                UK   \n",
       "4  Jean-Luc Godard            France   \n",
       "\n",
       "                                               image  \n",
       "0  https://m.media-amazon.com/images/M/MV5BYzcwYT...  \n",
       "1  https://m.media-amazon.com/images/M/MV5BNTliZm...  \n",
       "2  https://m.media-amazon.com/images/M/MV5BMTM4Nj...  \n",
       "3  https://m.media-amazon.com/images/M/MV5BZmM5OD...  \n",
       "4  https://m.media-amazon.com/images/M/MV5BMjY3Nj...  "
      ]
     },
     "execution_count": 9,
     "metadata": {},
     "output_type": "execute_result"
    }
   ],
   "source": [
    "df.head()"
   ]
  },
  {
   "cell_type": "code",
   "execution_count": 10,
   "metadata": {},
   "outputs": [],
   "source": [
    "df = df.dropna()"
   ]
  },
  {
   "cell_type": "code",
   "execution_count": 11,
   "metadata": {},
   "outputs": [],
   "source": [
    "df[['year', 'duration']] = df[['year', 'duration']].astype(int)"
   ]
  },
  {
   "cell_type": "code",
   "execution_count": 12,
   "metadata": {},
   "outputs": [
    {
     "name": "stdout",
     "output_type": "stream",
     "text": [
      "<class 'pandas.core.frame.DataFrame'>\n",
      "Int64Index: 981 entries, 0 to 1062\n",
      "Data columns (total 8 columns):\n",
      "title         981 non-null object\n",
      "year          981 non-null int32\n",
      "rating        981 non-null int64\n",
      "date_rated    981 non-null datetime64[ns]\n",
      "duration      981 non-null int32\n",
      "director      981 non-null object\n",
      "country       981 non-null object\n",
      "image         981 non-null object\n",
      "dtypes: datetime64[ns](1), int32(2), int64(1), object(4)\n",
      "memory usage: 61.3+ KB\n"
     ]
    }
   ],
   "source": [
    "df.info()"
   ]
  },
  {
   "cell_type": "code",
   "execution_count": 13,
   "metadata": {},
   "outputs": [],
   "source": [
    "df[\"director\"] = df[\"director\"].str.replace(\",\", \", \")"
   ]
  },
  {
   "cell_type": "code",
   "execution_count": 14,
   "metadata": {},
   "outputs": [],
   "source": [
    "df[\"country\"] = df[\"country\"].str.replace(\",\", \", \")"
   ]
  },
  {
   "cell_type": "code",
   "execution_count": 15,
   "metadata": {},
   "outputs": [],
   "source": [
    "df[\"decade\"] = df[\"year\"].astype(str).str[:3] + \"0s\""
   ]
  },
  {
   "cell_type": "code",
   "execution_count": 16,
   "metadata": {},
   "outputs": [
    {
     "data": {
      "text/html": [
       "<div>\n",
       "<style scoped>\n",
       "    .dataframe tbody tr th:only-of-type {\n",
       "        vertical-align: middle;\n",
       "    }\n",
       "\n",
       "    .dataframe tbody tr th {\n",
       "        vertical-align: top;\n",
       "    }\n",
       "\n",
       "    .dataframe thead th {\n",
       "        text-align: right;\n",
       "    }\n",
       "</style>\n",
       "<table border=\"1\" class=\"dataframe\">\n",
       "  <thead>\n",
       "    <tr style=\"text-align: right;\">\n",
       "      <th></th>\n",
       "      <th>title</th>\n",
       "      <th>year</th>\n",
       "      <th>rating</th>\n",
       "      <th>date_rated</th>\n",
       "      <th>duration</th>\n",
       "      <th>director</th>\n",
       "      <th>country</th>\n",
       "      <th>image</th>\n",
       "      <th>decade</th>\n",
       "    </tr>\n",
       "  </thead>\n",
       "  <tbody>\n",
       "    <tr>\n",
       "      <th>0</th>\n",
       "      <td>A Bullet for the General</td>\n",
       "      <td>1967</td>\n",
       "      <td>7</td>\n",
       "      <td>2019-12-08</td>\n",
       "      <td>115</td>\n",
       "      <td>Damiano Damiani</td>\n",
       "      <td>Italy</td>\n",
       "      <td>https://m.media-amazon.com/images/M/MV5BYzcwYT...</td>\n",
       "      <td>1960s</td>\n",
       "    </tr>\n",
       "    <tr>\n",
       "      <th>1</th>\n",
       "      <td>Columbus</td>\n",
       "      <td>2017</td>\n",
       "      <td>7</td>\n",
       "      <td>2019-08-29</td>\n",
       "      <td>100</td>\n",
       "      <td>Kogonada</td>\n",
       "      <td>USA</td>\n",
       "      <td>https://m.media-amazon.com/images/M/MV5BNTliZm...</td>\n",
       "      <td>2010s</td>\n",
       "    </tr>\n",
       "    <tr>\n",
       "      <th>2</th>\n",
       "      <td>Midnight in Paris</td>\n",
       "      <td>2011</td>\n",
       "      <td>7</td>\n",
       "      <td>2019-08-30</td>\n",
       "      <td>94</td>\n",
       "      <td>Woody Allen</td>\n",
       "      <td>Spain, USA, France</td>\n",
       "      <td>https://m.media-amazon.com/images/M/MV5BMTM4Nj...</td>\n",
       "      <td>2010s</td>\n",
       "    </tr>\n",
       "    <tr>\n",
       "      <th>3</th>\n",
       "      <td>The Servant</td>\n",
       "      <td>1963</td>\n",
       "      <td>7</td>\n",
       "      <td>2019-08-29</td>\n",
       "      <td>116</td>\n",
       "      <td>Joseph Losey</td>\n",
       "      <td>UK</td>\n",
       "      <td>https://m.media-amazon.com/images/M/MV5BZmM5OD...</td>\n",
       "      <td>1960s</td>\n",
       "    </tr>\n",
       "    <tr>\n",
       "      <th>4</th>\n",
       "      <td>La Chinoise</td>\n",
       "      <td>1967</td>\n",
       "      <td>8</td>\n",
       "      <td>2019-08-29</td>\n",
       "      <td>95</td>\n",
       "      <td>Jean-Luc Godard</td>\n",
       "      <td>France</td>\n",
       "      <td>https://m.media-amazon.com/images/M/MV5BMjY3Nj...</td>\n",
       "      <td>1960s</td>\n",
       "    </tr>\n",
       "  </tbody>\n",
       "</table>\n",
       "</div>"
      ],
      "text/plain": [
       "                      title  year  rating date_rated  duration  \\\n",
       "0  A Bullet for the General  1967       7 2019-12-08       115   \n",
       "1                  Columbus  2017       7 2019-08-29       100   \n",
       "2         Midnight in Paris  2011       7 2019-08-30        94   \n",
       "3               The Servant  1963       7 2019-08-29       116   \n",
       "4               La Chinoise  1967       8 2019-08-29        95   \n",
       "\n",
       "          director             country  \\\n",
       "0  Damiano Damiani               Italy   \n",
       "1         Kogonada                 USA   \n",
       "2      Woody Allen  Spain, USA, France   \n",
       "3     Joseph Losey                  UK   \n",
       "4  Jean-Luc Godard              France   \n",
       "\n",
       "                                               image decade  \n",
       "0  https://m.media-amazon.com/images/M/MV5BYzcwYT...  1960s  \n",
       "1  https://m.media-amazon.com/images/M/MV5BNTliZm...  2010s  \n",
       "2  https://m.media-amazon.com/images/M/MV5BMTM4Nj...  2010s  \n",
       "3  https://m.media-amazon.com/images/M/MV5BZmM5OD...  1960s  \n",
       "4  https://m.media-amazon.com/images/M/MV5BMjY3Nj...  1960s  "
      ]
     },
     "execution_count": 16,
     "metadata": {},
     "output_type": "execute_result"
    }
   ],
   "source": [
    "df.head()"
   ]
  },
  {
   "cell_type": "code",
   "execution_count": 17,
   "metadata": {},
   "outputs": [],
   "source": [
    "df.to_csv(\"../all_films.csv\")"
   ]
  },
  {
   "cell_type": "code",
   "execution_count": 18,
   "metadata": {},
   "outputs": [],
   "source": [
    "decade_avg = df.groupby([\"decade\"])[\"rating\"].mean()"
   ]
  },
  {
   "cell_type": "code",
   "execution_count": 19,
   "metadata": {},
   "outputs": [
    {
     "data": {
      "text/plain": [
       "decade\n",
       "1910s    7.500000\n",
       "1920s    7.521739\n",
       "1930s    7.450000\n",
       "1940s    7.452381\n",
       "1950s    7.769231\n",
       "1960s    7.625000\n",
       "1970s    7.620690\n",
       "1980s    7.410256\n",
       "1990s    7.504762\n",
       "2000s    7.290323\n",
       "2010s    7.014218\n",
       "Name: rating, dtype: float64"
      ]
     },
     "execution_count": 19,
     "metadata": {},
     "output_type": "execute_result"
    }
   ],
   "source": [
    "decade_avg"
   ]
  },
  {
   "cell_type": "code",
   "execution_count": 20,
   "metadata": {},
   "outputs": [],
   "source": [
    "decade_count = df.groupby([\"decade\"])[\"rating\"].count()"
   ]
  },
  {
   "cell_type": "code",
   "execution_count": 21,
   "metadata": {},
   "outputs": [
    {
     "data": {
      "text/plain": [
       "decade\n",
       "1910s      4\n",
       "1920s     23\n",
       "1930s     20\n",
       "1940s     42\n",
       "1950s     78\n",
       "1960s    112\n",
       "1970s    145\n",
       "1980s    117\n",
       "1990s    105\n",
       "2000s    124\n",
       "2010s    211\n",
       "Name: rating, dtype: int64"
      ]
     },
     "execution_count": 21,
     "metadata": {},
     "output_type": "execute_result"
    }
   ],
   "source": [
    "decade_count"
   ]
  },
  {
   "cell_type": "code",
   "execution_count": null,
   "metadata": {},
   "outputs": [],
   "source": []
  }
 ],
 "metadata": {
  "kernelspec": {
   "display_name": "Python 3",
   "language": "python",
   "name": "python3"
  },
  "language_info": {
   "codemirror_mode": {
    "name": "ipython",
    "version": 3
   },
   "file_extension": ".py",
   "mimetype": "text/x-python",
   "name": "python",
   "nbconvert_exporter": "python",
   "pygments_lexer": "ipython3",
   "version": "3.7.5"
  }
 },
 "nbformat": 4,
 "nbformat_minor": 2
}
