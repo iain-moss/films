{
 "cells": [
  {
   "cell_type": "code",
   "execution_count": 1,
   "metadata": {},
   "outputs": [],
   "source": [
    "import pandas as pd\n",
    "from datetime import datetime\n",
    "import numpy as np"
   ]
  },
  {
   "cell_type": "code",
   "execution_count": 2,
   "metadata": {},
   "outputs": [
    {
     "data": {
      "text/html": [
       "<div>\n",
       "<style scoped>\n",
       "    .dataframe tbody tr th:only-of-type {\n",
       "        vertical-align: middle;\n",
       "    }\n",
       "\n",
       "    .dataframe tbody tr th {\n",
       "        vertical-align: top;\n",
       "    }\n",
       "\n",
       "    .dataframe thead th {\n",
       "        text-align: right;\n",
       "    }\n",
       "</style>\n",
       "<table border=\"1\" class=\"dataframe\">\n",
       "  <thead>\n",
       "    <tr style=\"text-align: right;\">\n",
       "      <th></th>\n",
       "      <th>title</th>\n",
       "      <th>year</th>\n",
       "      <th>rating</th>\n",
       "      <th>date_rated</th>\n",
       "      <th>duration</th>\n",
       "      <th>director</th>\n",
       "      <th>country</th>\n",
       "      <th>genre</th>\n",
       "      <th>image</th>\n",
       "      <th>summary</th>\n",
       "    </tr>\n",
       "  </thead>\n",
       "  <tbody>\n",
       "    <tr>\n",
       "      <th>0</th>\n",
       "      <td>Zazie dans le Métro</td>\n",
       "      <td>1960.0</td>\n",
       "      <td>7</td>\n",
       "      <td>Rated on 15 Dec 2019</td>\n",
       "      <td>1h 33min</td>\n",
       "      <td>Louis Malle</td>\n",
       "      <td>France</td>\n",
       "      <td>Comedy, Fantasy</td>\n",
       "      <td>https://m.media-amazon.com/images/M/MV5BNjkyNG...</td>\n",
       "      <td>With her mother away for the weekend, a brash ...</td>\n",
       "    </tr>\n",
       "    <tr>\n",
       "      <th>1</th>\n",
       "      <td>Us</td>\n",
       "      <td>2019.0</td>\n",
       "      <td>6</td>\n",
       "      <td>Rated on 01 Sep 2019</td>\n",
       "      <td>1h 56min</td>\n",
       "      <td>Jordan Peele</td>\n",
       "      <td>USA,China</td>\n",
       "      <td>Horror, Mystery, Thriller</td>\n",
       "      <td>https://m.media-amazon.com/images/M/MV5BZTliNW...</td>\n",
       "      <td>A family's serene beach vacation turns to chao...</td>\n",
       "    </tr>\n",
       "    <tr>\n",
       "      <th>2</th>\n",
       "      <td>He Walked by Night</td>\n",
       "      <td>1948.0</td>\n",
       "      <td>7</td>\n",
       "      <td>Rated on 08 Sep 2019</td>\n",
       "      <td>1h 19min</td>\n",
       "      <td>Alfred L. Werker,Anthony Mann</td>\n",
       "      <td>USA</td>\n",
       "      <td>Crime, Film-Noir, Thriller</td>\n",
       "      <td>https://m.media-amazon.com/images/M/MV5BOTVlZD...</td>\n",
       "      <td>This film-noir piece, told in semi-documentary...</td>\n",
       "    </tr>\n",
       "    <tr>\n",
       "      <th>3</th>\n",
       "      <td>Radio Days</td>\n",
       "      <td>1987.0</td>\n",
       "      <td>7</td>\n",
       "      <td>Rated on 09 Sep 2019</td>\n",
       "      <td>1h 28min</td>\n",
       "      <td>Woody Allen</td>\n",
       "      <td>USA</td>\n",
       "      <td>Comedy</td>\n",
       "      <td>https://m.media-amazon.com/images/M/MV5BMTYwND...</td>\n",
       "      <td>A nostalgic look at radio's golden age focusin...</td>\n",
       "    </tr>\n",
       "    <tr>\n",
       "      <th>4</th>\n",
       "      <td>Mother!</td>\n",
       "      <td>2017.0</td>\n",
       "      <td>7</td>\n",
       "      <td>Rated on 30 Aug 2019</td>\n",
       "      <td>2h 1min</td>\n",
       "      <td>Darren Aronofsky</td>\n",
       "      <td>USA</td>\n",
       "      <td>Drama, Horror, Mystery</td>\n",
       "      <td>https://m.media-amazon.com/images/M/MV5BMzc5OD...</td>\n",
       "      <td>A couple's relationship is tested when uninvit...</td>\n",
       "    </tr>\n",
       "  </tbody>\n",
       "</table>\n",
       "</div>"
      ],
      "text/plain": [
       "                 title    year  rating            date_rated  duration  \\\n",
       "0  Zazie dans le Métro  1960.0       7  Rated on 15 Dec 2019  1h 33min   \n",
       "1                   Us  2019.0       6  Rated on 01 Sep 2019  1h 56min   \n",
       "2   He Walked by Night  1948.0       7  Rated on 08 Sep 2019  1h 19min   \n",
       "3           Radio Days  1987.0       7  Rated on 09 Sep 2019  1h 28min   \n",
       "4              Mother!  2017.0       7  Rated on 30 Aug 2019   2h 1min   \n",
       "\n",
       "                        director    country                        genre  \\\n",
       "0                    Louis Malle     France              Comedy, Fantasy   \n",
       "1                   Jordan Peele  USA,China    Horror, Mystery, Thriller   \n",
       "2  Alfred L. Werker,Anthony Mann        USA   Crime, Film-Noir, Thriller   \n",
       "3                    Woody Allen        USA                       Comedy   \n",
       "4               Darren Aronofsky        USA       Drama, Horror, Mystery   \n",
       "\n",
       "                                               image  \\\n",
       "0  https://m.media-amazon.com/images/M/MV5BNjkyNG...   \n",
       "1  https://m.media-amazon.com/images/M/MV5BZTliNW...   \n",
       "2  https://m.media-amazon.com/images/M/MV5BOTVlZD...   \n",
       "3  https://m.media-amazon.com/images/M/MV5BMTYwND...   \n",
       "4  https://m.media-amazon.com/images/M/MV5BMzc5OD...   \n",
       "\n",
       "                                             summary  \n",
       "0  With her mother away for the weekend, a brash ...  \n",
       "1  A family's serene beach vacation turns to chao...  \n",
       "2  This film-noir piece, told in semi-documentary...  \n",
       "3  A nostalgic look at radio's golden age focusin...  \n",
       "4  A couple's relationship is tested when uninvit...  "
      ]
     },
     "execution_count": 2,
     "metadata": {},
     "output_type": "execute_result"
    }
   ],
   "source": [
    "df = pd.read_csv(\"films.csv\")\n",
    "df.head()"
   ]
  },
  {
   "cell_type": "code",
   "execution_count": 3,
   "metadata": {},
   "outputs": [],
   "source": [
    "df['duration'] = df['duration'].str.replace('h', ' hour')"
   ]
  },
  {
   "cell_type": "code",
   "execution_count": 4,
   "metadata": {},
   "outputs": [],
   "source": [
    "df['duration'] = df['duration'].str.replace('min', ' min')"
   ]
  },
  {
   "cell_type": "code",
   "execution_count": 5,
   "metadata": {},
   "outputs": [],
   "source": [
    "df['duration'] = pd.to_timedelta(df.duration)"
   ]
  },
  {
   "cell_type": "code",
   "execution_count": 6,
   "metadata": {},
   "outputs": [],
   "source": [
    "df['duration'] = df.duration.dt.total_seconds()//60"
   ]
  },
  {
   "cell_type": "code",
   "execution_count": 7,
   "metadata": {},
   "outputs": [],
   "source": [
    "df['date_rated'] = df['date_rated'].str.replace('Rated on ', '')"
   ]
  },
  {
   "cell_type": "code",
   "execution_count": 8,
   "metadata": {},
   "outputs": [],
   "source": [
    "df['date_rated'] = pd.to_datetime(df.date_rated, format='%d %b %Y')"
   ]
  },
  {
   "cell_type": "code",
   "execution_count": 9,
   "metadata": {},
   "outputs": [
    {
     "data": {
      "text/html": [
       "<div>\n",
       "<style scoped>\n",
       "    .dataframe tbody tr th:only-of-type {\n",
       "        vertical-align: middle;\n",
       "    }\n",
       "\n",
       "    .dataframe tbody tr th {\n",
       "        vertical-align: top;\n",
       "    }\n",
       "\n",
       "    .dataframe thead th {\n",
       "        text-align: right;\n",
       "    }\n",
       "</style>\n",
       "<table border=\"1\" class=\"dataframe\">\n",
       "  <thead>\n",
       "    <tr style=\"text-align: right;\">\n",
       "      <th></th>\n",
       "      <th>title</th>\n",
       "      <th>year</th>\n",
       "      <th>rating</th>\n",
       "      <th>date_rated</th>\n",
       "      <th>duration</th>\n",
       "      <th>director</th>\n",
       "      <th>country</th>\n",
       "      <th>genre</th>\n",
       "      <th>image</th>\n",
       "      <th>summary</th>\n",
       "    </tr>\n",
       "  </thead>\n",
       "  <tbody>\n",
       "    <tr>\n",
       "      <th>0</th>\n",
       "      <td>Zazie dans le Métro</td>\n",
       "      <td>1960.0</td>\n",
       "      <td>7</td>\n",
       "      <td>2019-12-15</td>\n",
       "      <td>93.0</td>\n",
       "      <td>Louis Malle</td>\n",
       "      <td>France</td>\n",
       "      <td>Comedy, Fantasy</td>\n",
       "      <td>https://m.media-amazon.com/images/M/MV5BNjkyNG...</td>\n",
       "      <td>With her mother away for the weekend, a brash ...</td>\n",
       "    </tr>\n",
       "    <tr>\n",
       "      <th>1</th>\n",
       "      <td>Us</td>\n",
       "      <td>2019.0</td>\n",
       "      <td>6</td>\n",
       "      <td>2019-09-01</td>\n",
       "      <td>116.0</td>\n",
       "      <td>Jordan Peele</td>\n",
       "      <td>USA,China</td>\n",
       "      <td>Horror, Mystery, Thriller</td>\n",
       "      <td>https://m.media-amazon.com/images/M/MV5BZTliNW...</td>\n",
       "      <td>A family's serene beach vacation turns to chao...</td>\n",
       "    </tr>\n",
       "    <tr>\n",
       "      <th>2</th>\n",
       "      <td>He Walked by Night</td>\n",
       "      <td>1948.0</td>\n",
       "      <td>7</td>\n",
       "      <td>2019-09-08</td>\n",
       "      <td>79.0</td>\n",
       "      <td>Alfred L. Werker,Anthony Mann</td>\n",
       "      <td>USA</td>\n",
       "      <td>Crime, Film-Noir, Thriller</td>\n",
       "      <td>https://m.media-amazon.com/images/M/MV5BOTVlZD...</td>\n",
       "      <td>This film-noir piece, told in semi-documentary...</td>\n",
       "    </tr>\n",
       "    <tr>\n",
       "      <th>3</th>\n",
       "      <td>Radio Days</td>\n",
       "      <td>1987.0</td>\n",
       "      <td>7</td>\n",
       "      <td>2019-09-09</td>\n",
       "      <td>88.0</td>\n",
       "      <td>Woody Allen</td>\n",
       "      <td>USA</td>\n",
       "      <td>Comedy</td>\n",
       "      <td>https://m.media-amazon.com/images/M/MV5BMTYwND...</td>\n",
       "      <td>A nostalgic look at radio's golden age focusin...</td>\n",
       "    </tr>\n",
       "    <tr>\n",
       "      <th>4</th>\n",
       "      <td>Mother!</td>\n",
       "      <td>2017.0</td>\n",
       "      <td>7</td>\n",
       "      <td>2019-08-30</td>\n",
       "      <td>121.0</td>\n",
       "      <td>Darren Aronofsky</td>\n",
       "      <td>USA</td>\n",
       "      <td>Drama, Horror, Mystery</td>\n",
       "      <td>https://m.media-amazon.com/images/M/MV5BMzc5OD...</td>\n",
       "      <td>A couple's relationship is tested when uninvit...</td>\n",
       "    </tr>\n",
       "  </tbody>\n",
       "</table>\n",
       "</div>"
      ],
      "text/plain": [
       "                 title    year  rating date_rated  duration  \\\n",
       "0  Zazie dans le Métro  1960.0       7 2019-12-15      93.0   \n",
       "1                   Us  2019.0       6 2019-09-01     116.0   \n",
       "2   He Walked by Night  1948.0       7 2019-09-08      79.0   \n",
       "3           Radio Days  1987.0       7 2019-09-09      88.0   \n",
       "4              Mother!  2017.0       7 2019-08-30     121.0   \n",
       "\n",
       "                        director    country                        genre  \\\n",
       "0                    Louis Malle     France              Comedy, Fantasy   \n",
       "1                   Jordan Peele  USA,China    Horror, Mystery, Thriller   \n",
       "2  Alfred L. Werker,Anthony Mann        USA   Crime, Film-Noir, Thriller   \n",
       "3                    Woody Allen        USA                       Comedy   \n",
       "4               Darren Aronofsky        USA       Drama, Horror, Mystery   \n",
       "\n",
       "                                               image  \\\n",
       "0  https://m.media-amazon.com/images/M/MV5BNjkyNG...   \n",
       "1  https://m.media-amazon.com/images/M/MV5BZTliNW...   \n",
       "2  https://m.media-amazon.com/images/M/MV5BOTVlZD...   \n",
       "3  https://m.media-amazon.com/images/M/MV5BMTYwND...   \n",
       "4  https://m.media-amazon.com/images/M/MV5BMzc5OD...   \n",
       "\n",
       "                                             summary  \n",
       "0  With her mother away for the weekend, a brash ...  \n",
       "1  A family's serene beach vacation turns to chao...  \n",
       "2  This film-noir piece, told in semi-documentary...  \n",
       "3  A nostalgic look at radio's golden age focusin...  \n",
       "4  A couple's relationship is tested when uninvit...  "
      ]
     },
     "execution_count": 9,
     "metadata": {},
     "output_type": "execute_result"
    }
   ],
   "source": [
    "df.head()"
   ]
  },
  {
   "cell_type": "code",
   "execution_count": 10,
   "metadata": {},
   "outputs": [],
   "source": [
    "df = df.dropna()"
   ]
  },
  {
   "cell_type": "code",
   "execution_count": 11,
   "metadata": {},
   "outputs": [],
   "source": [
    "df[['year', 'duration']] = df[['year', 'duration']].astype(int)"
   ]
  },
  {
   "cell_type": "code",
   "execution_count": 12,
   "metadata": {},
   "outputs": [
    {
     "name": "stdout",
     "output_type": "stream",
     "text": [
      "<class 'pandas.core.frame.DataFrame'>\n",
      "Int64Index: 983 entries, 0 to 1067\n",
      "Data columns (total 10 columns):\n",
      "title         983 non-null object\n",
      "year          983 non-null int32\n",
      "rating        983 non-null int64\n",
      "date_rated    983 non-null datetime64[ns]\n",
      "duration      983 non-null int32\n",
      "director      983 non-null object\n",
      "country       983 non-null object\n",
      "genre         983 non-null object\n",
      "image         983 non-null object\n",
      "summary       983 non-null object\n",
      "dtypes: datetime64[ns](1), int32(2), int64(1), object(6)\n",
      "memory usage: 76.8+ KB\n"
     ]
    }
   ],
   "source": [
    "df.info()"
   ]
  },
  {
   "cell_type": "code",
   "execution_count": 13,
   "metadata": {},
   "outputs": [],
   "source": [
    "df[\"director\"] = df[\"director\"].str.replace(\",\", \", \")"
   ]
  },
  {
   "cell_type": "code",
   "execution_count": 14,
   "metadata": {},
   "outputs": [],
   "source": [
    "df[\"country\"] = df[\"country\"].str.replace(\",\", \", \")"
   ]
  },
  {
   "cell_type": "code",
   "execution_count": 15,
   "metadata": {},
   "outputs": [],
   "source": [
    "df[\"decade\"] = df[\"year\"].astype(str).str[:3] + \"0s\""
   ]
  },
  {
   "cell_type": "code",
   "execution_count": 16,
   "metadata": {},
   "outputs": [
    {
     "data": {
      "text/html": [
       "<div>\n",
       "<style scoped>\n",
       "    .dataframe tbody tr th:only-of-type {\n",
       "        vertical-align: middle;\n",
       "    }\n",
       "\n",
       "    .dataframe tbody tr th {\n",
       "        vertical-align: top;\n",
       "    }\n",
       "\n",
       "    .dataframe thead th {\n",
       "        text-align: right;\n",
       "    }\n",
       "</style>\n",
       "<table border=\"1\" class=\"dataframe\">\n",
       "  <thead>\n",
       "    <tr style=\"text-align: right;\">\n",
       "      <th></th>\n",
       "      <th>title</th>\n",
       "      <th>year</th>\n",
       "      <th>rating</th>\n",
       "      <th>date_rated</th>\n",
       "      <th>duration</th>\n",
       "      <th>director</th>\n",
       "      <th>country</th>\n",
       "      <th>genre</th>\n",
       "      <th>image</th>\n",
       "      <th>summary</th>\n",
       "      <th>decade</th>\n",
       "    </tr>\n",
       "  </thead>\n",
       "  <tbody>\n",
       "    <tr>\n",
       "      <th>0</th>\n",
       "      <td>Zazie dans le Métro</td>\n",
       "      <td>1960</td>\n",
       "      <td>7</td>\n",
       "      <td>2019-12-15</td>\n",
       "      <td>93</td>\n",
       "      <td>Louis Malle</td>\n",
       "      <td>France</td>\n",
       "      <td>Comedy, Fantasy</td>\n",
       "      <td>https://m.media-amazon.com/images/M/MV5BNjkyNG...</td>\n",
       "      <td>With her mother away for the weekend, a brash ...</td>\n",
       "      <td>1960s</td>\n",
       "    </tr>\n",
       "    <tr>\n",
       "      <th>1</th>\n",
       "      <td>Us</td>\n",
       "      <td>2019</td>\n",
       "      <td>6</td>\n",
       "      <td>2019-09-01</td>\n",
       "      <td>116</td>\n",
       "      <td>Jordan Peele</td>\n",
       "      <td>USA, China</td>\n",
       "      <td>Horror, Mystery, Thriller</td>\n",
       "      <td>https://m.media-amazon.com/images/M/MV5BZTliNW...</td>\n",
       "      <td>A family's serene beach vacation turns to chao...</td>\n",
       "      <td>2010s</td>\n",
       "    </tr>\n",
       "    <tr>\n",
       "      <th>2</th>\n",
       "      <td>He Walked by Night</td>\n",
       "      <td>1948</td>\n",
       "      <td>7</td>\n",
       "      <td>2019-09-08</td>\n",
       "      <td>79</td>\n",
       "      <td>Alfred L. Werker, Anthony Mann</td>\n",
       "      <td>USA</td>\n",
       "      <td>Crime, Film-Noir, Thriller</td>\n",
       "      <td>https://m.media-amazon.com/images/M/MV5BOTVlZD...</td>\n",
       "      <td>This film-noir piece, told in semi-documentary...</td>\n",
       "      <td>1940s</td>\n",
       "    </tr>\n",
       "    <tr>\n",
       "      <th>3</th>\n",
       "      <td>Radio Days</td>\n",
       "      <td>1987</td>\n",
       "      <td>7</td>\n",
       "      <td>2019-09-09</td>\n",
       "      <td>88</td>\n",
       "      <td>Woody Allen</td>\n",
       "      <td>USA</td>\n",
       "      <td>Comedy</td>\n",
       "      <td>https://m.media-amazon.com/images/M/MV5BMTYwND...</td>\n",
       "      <td>A nostalgic look at radio's golden age focusin...</td>\n",
       "      <td>1980s</td>\n",
       "    </tr>\n",
       "    <tr>\n",
       "      <th>4</th>\n",
       "      <td>Mother!</td>\n",
       "      <td>2017</td>\n",
       "      <td>7</td>\n",
       "      <td>2019-08-30</td>\n",
       "      <td>121</td>\n",
       "      <td>Darren Aronofsky</td>\n",
       "      <td>USA</td>\n",
       "      <td>Drama, Horror, Mystery</td>\n",
       "      <td>https://m.media-amazon.com/images/M/MV5BMzc5OD...</td>\n",
       "      <td>A couple's relationship is tested when uninvit...</td>\n",
       "      <td>2010s</td>\n",
       "    </tr>\n",
       "  </tbody>\n",
       "</table>\n",
       "</div>"
      ],
      "text/plain": [
       "                 title  year  rating date_rated  duration  \\\n",
       "0  Zazie dans le Métro  1960       7 2019-12-15        93   \n",
       "1                   Us  2019       6 2019-09-01       116   \n",
       "2   He Walked by Night  1948       7 2019-09-08        79   \n",
       "3           Radio Days  1987       7 2019-09-09        88   \n",
       "4              Mother!  2017       7 2019-08-30       121   \n",
       "\n",
       "                         director     country                        genre  \\\n",
       "0                     Louis Malle      France              Comedy, Fantasy   \n",
       "1                    Jordan Peele  USA, China    Horror, Mystery, Thriller   \n",
       "2  Alfred L. Werker, Anthony Mann         USA   Crime, Film-Noir, Thriller   \n",
       "3                     Woody Allen         USA                       Comedy   \n",
       "4                Darren Aronofsky         USA       Drama, Horror, Mystery   \n",
       "\n",
       "                                               image  \\\n",
       "0  https://m.media-amazon.com/images/M/MV5BNjkyNG...   \n",
       "1  https://m.media-amazon.com/images/M/MV5BZTliNW...   \n",
       "2  https://m.media-amazon.com/images/M/MV5BOTVlZD...   \n",
       "3  https://m.media-amazon.com/images/M/MV5BMTYwND...   \n",
       "4  https://m.media-amazon.com/images/M/MV5BMzc5OD...   \n",
       "\n",
       "                                             summary decade  \n",
       "0  With her mother away for the weekend, a brash ...  1960s  \n",
       "1  A family's serene beach vacation turns to chao...  2010s  \n",
       "2  This film-noir piece, told in semi-documentary...  1940s  \n",
       "3  A nostalgic look at radio's golden age focusin...  1980s  \n",
       "4  A couple's relationship is tested when uninvit...  2010s  "
      ]
     },
     "execution_count": 16,
     "metadata": {},
     "output_type": "execute_result"
    }
   ],
   "source": [
    "df.head()"
   ]
  },
  {
   "cell_type": "code",
   "execution_count": 17,
   "metadata": {},
   "outputs": [],
   "source": [
    "df.to_csv(\"../all_films.csv\")"
   ]
  },
  {
   "cell_type": "code",
   "execution_count": 18,
   "metadata": {},
   "outputs": [],
   "source": [
    "decade_avg = df.groupby([\"decade\"])[\"rating\"].mean()"
   ]
  },
  {
   "cell_type": "code",
   "execution_count": 19,
   "metadata": {},
   "outputs": [
    {
     "data": {
      "text/plain": [
       "decade\n",
       "1910s    7.500000\n",
       "1920s    7.545455\n",
       "1930s    7.450000\n",
       "1940s    7.452381\n",
       "1950s    7.769231\n",
       "1960s    7.619469\n",
       "1970s    7.620690\n",
       "1980s    7.406780\n",
       "1990s    7.504762\n",
       "2000s    7.290323\n",
       "2010s    7.014151\n",
       "Name: rating, dtype: float64"
      ]
     },
     "execution_count": 19,
     "metadata": {},
     "output_type": "execute_result"
    }
   ],
   "source": [
    "decade_avg"
   ]
  },
  {
   "cell_type": "code",
   "execution_count": 20,
   "metadata": {},
   "outputs": [],
   "source": [
    "decade_count = df.groupby([\"decade\"])[\"rating\"].count()"
   ]
  },
  {
   "cell_type": "code",
   "execution_count": 21,
   "metadata": {},
   "outputs": [
    {
     "data": {
      "text/plain": [
       "decade\n",
       "1910s      4\n",
       "1920s     22\n",
       "1930s     20\n",
       "1940s     42\n",
       "1950s     78\n",
       "1960s    113\n",
       "1970s    145\n",
       "1980s    118\n",
       "1990s    105\n",
       "2000s    124\n",
       "2010s    212\n",
       "Name: rating, dtype: int64"
      ]
     },
     "execution_count": 21,
     "metadata": {},
     "output_type": "execute_result"
    }
   ],
   "source": [
    "decade_count"
   ]
  },
  {
   "cell_type": "markdown",
   "metadata": {},
   "source": [
    "# Release year"
   ]
  },
  {
   "cell_type": "code",
   "execution_count": 36,
   "metadata": {},
   "outputs": [
    {
     "data": {
      "text/html": [
       "<div>\n",
       "<style scoped>\n",
       "    .dataframe tbody tr th:only-of-type {\n",
       "        vertical-align: middle;\n",
       "    }\n",
       "\n",
       "    .dataframe tbody tr th {\n",
       "        vertical-align: top;\n",
       "    }\n",
       "\n",
       "    .dataframe thead th {\n",
       "        text-align: right;\n",
       "    }\n",
       "</style>\n",
       "<table border=\"1\" class=\"dataframe\">\n",
       "  <thead>\n",
       "    <tr style=\"text-align: right;\">\n",
       "      <th></th>\n",
       "      <th>title</th>\n",
       "      <th>year</th>\n",
       "    </tr>\n",
       "  </thead>\n",
       "  <tbody>\n",
       "    <tr>\n",
       "      <th>0</th>\n",
       "      <td>Zazie dans le Métro</td>\n",
       "      <td>1960</td>\n",
       "    </tr>\n",
       "    <tr>\n",
       "      <th>1</th>\n",
       "      <td>Us</td>\n",
       "      <td>2019</td>\n",
       "    </tr>\n",
       "    <tr>\n",
       "      <th>2</th>\n",
       "      <td>He Walked by Night</td>\n",
       "      <td>1948</td>\n",
       "    </tr>\n",
       "    <tr>\n",
       "      <th>3</th>\n",
       "      <td>Radio Days</td>\n",
       "      <td>1987</td>\n",
       "    </tr>\n",
       "    <tr>\n",
       "      <th>4</th>\n",
       "      <td>Mother!</td>\n",
       "      <td>2017</td>\n",
       "    </tr>\n",
       "  </tbody>\n",
       "</table>\n",
       "</div>"
      ],
      "text/plain": [
       "                 title  year\n",
       "0  Zazie dans le Métro  1960\n",
       "1                   Us  2019\n",
       "2   He Walked by Night  1948\n",
       "3           Radio Days  1987\n",
       "4              Mother!  2017"
      ]
     },
     "execution_count": 36,
     "metadata": {},
     "output_type": "execute_result"
    }
   ],
   "source": [
    "release_year = df.iloc[:, [0, 1]]\n",
    "release_year.head()"
   ]
  },
  {
   "cell_type": "code",
   "execution_count": 37,
   "metadata": {},
   "outputs": [],
   "source": [
    "min_year = release_year[\"year\"].min()"
   ]
  },
  {
   "cell_type": "code",
   "execution_count": 38,
   "metadata": {},
   "outputs": [],
   "source": [
    "max_year = release_year[\"year\"].max()"
   ]
  },
  {
   "cell_type": "code",
   "execution_count": 39,
   "metadata": {},
   "outputs": [],
   "source": [
    "year_range = np.arange(min_year, max_year + 1)"
   ]
  },
  {
   "cell_type": "code",
   "execution_count": 40,
   "metadata": {},
   "outputs": [],
   "source": [
    "release_year_group = release_year.groupby([\"year\"]).count()"
   ]
  },
  {
   "cell_type": "code",
   "execution_count": 41,
   "metadata": {},
   "outputs": [],
   "source": [
    "release_year_group = release_year_group.reindex(year_range).fillna(0)"
   ]
  },
  {
   "cell_type": "code",
   "execution_count": 43,
   "metadata": {},
   "outputs": [],
   "source": [
    "release_year_group.to_csv(\"../release_year.csv\")"
   ]
  },
  {
   "cell_type": "code",
   "execution_count": null,
   "metadata": {},
   "outputs": [],
   "source": []
  }
 ],
 "metadata": {
  "kernelspec": {
   "display_name": "Python 3",
   "language": "python",
   "name": "python3"
  },
  "language_info": {
   "codemirror_mode": {
    "name": "ipython",
    "version": 3
   },
   "file_extension": ".py",
   "mimetype": "text/x-python",
   "name": "python",
   "nbconvert_exporter": "python",
   "pygments_lexer": "ipython3",
   "version": "3.7.5"
  }
 },
 "nbformat": 4,
 "nbformat_minor": 2
}
